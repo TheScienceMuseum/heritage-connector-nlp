{
 "cells": [
  {
   "cell_type": "code",
   "execution_count": 1,
   "metadata": {},
   "outputs": [],
   "source": [
    "%load_ext autoreload\n",
    "%autoreload 2\n",
    "\n",
    "import sys\n",
    "sys.path.append(\"..\")\n",
    "\n",
    "from hc_nlp.pipeline import ThesaurusMatcher, EntityFilter, MapEntityTypes, DateMatcher\n",
    "from hc_nlp.model_testing import test_ner\n",
    "from hc_nlp.io import load_text_and_annotations_from_labelstudio\n",
    "from hc_nlp.spacy_helpers import display_manual_annotations, display_ner_annotations\n",
    "from hc_nlp import constants\n",
    "\n",
    "import pandas as pd\n",
    "import spacy"
   ]
  },
  {
   "cell_type": "code",
   "execution_count": 6,
   "metadata": {},
   "outputs": [
    {
     "name": "stdout",
     "output_type": "stream",
     "text": [
      "\u001b[38;5;3m⚠ Skipping pipeline package dependencies and setting `--no-deps`. You\n",
      "don't seem to have the spaCy package itself installed (maybe because you've\n",
      "built from source?), so installing the package dependencies would cause spaCy to\n",
      "be downloaded, which probably isn't what you want. If the pipeline package has\n",
      "other dependencies, you'll have to install them manually.\u001b[0m\n",
      "Collecting en_core_web_trf==3.0.0a0\n",
      "  Downloading https://github.com/explosion/spacy-models/releases/download/en_core_web_trf-3.0.0a0/en_core_web_trf-3.0.0a0.tar.gz (459.7 MB)\n",
      "\u001b[K     |████████████████████████████████| 459.7 MB 16.4 MB/s eta 0:00:013 |                                | 604 kB 609 kB/s eta 0:12:33     |█████████████████████▍          | 307.4 MB 10.6 MB/s eta 0:00:15\n",
      "\u001b[?25hBuilding wheels for collected packages: en-core-web-trf\n",
      "  Building wheel for en-core-web-trf (setup.py) ... \u001b[?25ldone\n",
      "\u001b[?25h  Created wheel for en-core-web-trf: filename=en_core_web_trf-3.0.0a0-py3-none-any.whl size=459703091 sha256=b911189820e2b691516d7138a65988df5b92752945facf5137d848cd7e8ccbad\n",
      "  Stored in directory: /private/var/folders/tb/yrq1c48x6mgfk9stb234sdqw0000gn/T/pip-ephem-wheel-cache-nt22a2nz/wheels/66/ab/3e/1adeaddb526e14437e9e383ab4264292c02962f8bb4c7eab4a\n",
      "Successfully built en-core-web-trf\n",
      "Installing collected packages: en-core-web-trf\n",
      "Successfully installed en-core-web-trf-3.0.0a0\n",
      "\u001b[38;5;2m✔ Download and installation successful\u001b[0m\n",
      "You can now load the package via spacy.load('en_core_web_trf')\n"
     ]
    }
   ],
   "source": [
    "!{sys.executable} -m spacy download en_core_web_trf"
   ]
  },
  {
   "cell_type": "code",
   "execution_count": 7,
   "metadata": {},
   "outputs": [
    {
     "name": "stdout",
     "output_type": "stream",
     "text": [
      "2020-12-03 16:35:54,139 - hc_nlp.pipeline - INFO - Loading thesaurus from ../data/labels_all_unambiguous_types_people_orgs.jsonl\n"
     ]
    },
    {
     "name": "stderr",
     "output_type": "stream",
     "text": [
      "Loading thesaurus from ../data/labels_all_unambiguous_types_people_orgs.jsonl\n"
     ]
    },
    {
     "name": "stdout",
     "output_type": "stream",
     "text": [
      "2020-12-03 16:35:58,322 - hc_nlp.pipeline - INFO - 17016 term thesaurus imported in 4s\n"
     ]
    },
    {
     "name": "stderr",
     "output_type": "stream",
     "text": [
      "17016 term thesaurus imported in 4s\n"
     ]
    },
    {
     "name": "stdout",
     "output_type": "stream",
     "text": [
      "2020-12-03 16:36:02,625 - hc_nlp.pipeline - INFO - Loading thesaurus from ../data/labels_all_unambiguous_types_people_orgs.jsonl\n"
     ]
    },
    {
     "name": "stderr",
     "output_type": "stream",
     "text": [
      "Loading thesaurus from ../data/labels_all_unambiguous_types_people_orgs.jsonl\n"
     ]
    },
    {
     "name": "stdout",
     "output_type": "stream",
     "text": [
      "2020-12-03 16:36:06,105 - hc_nlp.pipeline - INFO - 17016 term thesaurus imported in 3s\n"
     ]
    },
    {
     "name": "stderr",
     "output_type": "stream",
     "text": [
      "17016 term thesaurus imported in 3s\n"
     ]
    },
    {
     "name": "stdout",
     "output_type": "stream",
     "text": [
      "2020-12-03 16:36:10,324 - hc_nlp.pipeline - INFO - Loading thesaurus from ../data/labels_all_unambiguous_types_people_orgs.jsonl\n"
     ]
    },
    {
     "name": "stderr",
     "output_type": "stream",
     "text": [
      "Loading thesaurus from ../data/labels_all_unambiguous_types_people_orgs.jsonl\n"
     ]
    },
    {
     "name": "stdout",
     "output_type": "stream",
     "text": [
      "2020-12-03 16:36:13,677 - hc_nlp.pipeline - INFO - 17016 term thesaurus imported in 3s\n"
     ]
    },
    {
     "name": "stderr",
     "output_type": "stream",
     "text": [
      "17016 term thesaurus imported in 3s\n"
     ]
    },
    {
     "name": "stdout",
     "output_type": "stream",
     "text": [
      "2020-12-03 16:36:22,652 - hc_nlp.pipeline - INFO - Loading thesaurus from ../data/labels_all_unambiguous_types_people_orgs.jsonl\n"
     ]
    },
    {
     "name": "stderr",
     "output_type": "stream",
     "text": [
      "Loading thesaurus from ../data/labels_all_unambiguous_types_people_orgs.jsonl\n"
     ]
    },
    {
     "name": "stdout",
     "output_type": "stream",
     "text": [
      "2020-12-03 16:36:26,584 - hc_nlp.pipeline - INFO - 17016 term thesaurus imported in 3s\n"
     ]
    },
    {
     "name": "stderr",
     "output_type": "stream",
     "text": [
      "17016 term thesaurus imported in 3s\n"
     ]
    },
    {
     "name": "stdout",
     "output_type": "stream",
     "text": [
      "2020-12-03 16:36:30,280 - hc_nlp.pipeline - INFO - Loading thesaurus from ../data/labels_all_unambiguous_types_people_orgs.jsonl\n"
     ]
    },
    {
     "name": "stderr",
     "output_type": "stream",
     "text": [
      "Loading thesaurus from ../data/labels_all_unambiguous_types_people_orgs.jsonl\n"
     ]
    },
    {
     "name": "stdout",
     "output_type": "stream",
     "text": [
      "2020-12-03 16:36:33,606 - hc_nlp.pipeline - INFO - 17016 term thesaurus imported in 3s\n"
     ]
    },
    {
     "name": "stderr",
     "output_type": "stream",
     "text": [
      "17016 term thesaurus imported in 3s\n"
     ]
    },
    {
     "data": {
      "text/plain": [
       "(['transformer',\n",
       "  'tagger',\n",
       "  'parser',\n",
       "  'ner',\n",
       "  'attribute_ruler',\n",
       "  'lemmatizer',\n",
       "  'MapEntityTypes'],\n",
       " ['transformer',\n",
       "  'tagger',\n",
       "  'parser',\n",
       "  'ThesaurusMatcher',\n",
       "  'ner',\n",
       "  'attribute_ruler',\n",
       "  'lemmatizer',\n",
       "  'EntityFilter',\n",
       "  'MapEntityTypes'],\n",
       " ['transformer',\n",
       "  'tagger',\n",
       "  'parser',\n",
       "  'ner',\n",
       "  'ThesaurusMatcher',\n",
       "  'attribute_ruler',\n",
       "  'lemmatizer',\n",
       "  'EntityFilter',\n",
       "  'MapEntityTypes'],\n",
       " ['transformer',\n",
       "  'tagger',\n",
       "  'parser',\n",
       "  'ner',\n",
       "  'ThesaurusMatcher',\n",
       "  'attribute_ruler',\n",
       "  'lemmatizer',\n",
       "  'EntityFilter',\n",
       "  'MapEntityTypes'],\n",
       " ['transformer',\n",
       "  'tagger',\n",
       "  'parser',\n",
       "  'DateMatcher',\n",
       "  'ner',\n",
       "  'attribute_ruler',\n",
       "  'lemmatizer',\n",
       "  'MapEntityTypes'],\n",
       " ['transformer',\n",
       "  'tagger',\n",
       "  'parser',\n",
       "  'DateMatcher',\n",
       "  'ner',\n",
       "  'ThesaurusMatcher',\n",
       "  'attribute_ruler',\n",
       "  'lemmatizer',\n",
       "  'EntityFilter',\n",
       "  'MapEntityTypes'],\n",
       " ['transformer',\n",
       "  'tagger',\n",
       "  'parser',\n",
       "  'DateMatcher',\n",
       "  'ner',\n",
       "  'ThesaurusMatcher',\n",
       "  'attribute_ruler',\n",
       "  'lemmatizer',\n",
       "  'EntityFilter',\n",
       "  'MapEntityTypes'])"
      ]
     },
     "execution_count": 7,
     "metadata": {},
     "output_type": "execute_result"
    }
   ],
   "source": [
    "# LOAD MODELS\n",
    "\n",
    "model_name = \"en_core_web_trf\"\n",
    "\n",
    "# pure NER\n",
    "nlp_lg = spacy.load(model_name)\n",
    "\n",
    "# custom components\n",
    "# thes = ThesaurusMatcher(nlp_lg, thesaurus_path=\"../data/labels_all_unambiguous_types_people_orgs.jsonl\", case_sensitive=False)\n",
    "# thes_ow = ThesaurusMatcher(nlp_lg, thesaurus_path=\"../data/labels_all_unambiguous_types_people_orgs.jsonl\", \n",
    "#                                   case_sensitive=False, overwrite_ents=True)\n",
    "# entityfilter = EntityFilter()\n",
    "\n",
    "# model with people & orgs thesaurus annotations before model\n",
    "nlp_thes = spacy.load(model_name)\n",
    "nlp_thes.add_pipe(\"ThesaurusMatcher\", config={\"case_sensitive\": False, \"overwrite_ents\": False, \"thesaurus_path\":\"../data/labels_all_unambiguous_types_people_orgs.jsonl\"}, before='ner')\n",
    "nlp_thes.add_pipe(\"EntityFilter\", last=True)\n",
    "\n",
    "# model with people & orgs thesaurus annotations after model\n",
    "nlp_thes_aft = spacy.load(model_name)\n",
    "nlp_thes_aft.add_pipe(\"ThesaurusMatcher\", config={\"case_sensitive\": False, \"overwrite_ents\": False, \"thesaurus_path\":\"../data/labels_all_unambiguous_types_people_orgs.jsonl\"}, after='ner')\n",
    "nlp_thes_aft.add_pipe(\"EntityFilter\", last=True)\n",
    "\n",
    "# model with people & orgs thesaurus annotations after model, overwriting NER annotations\n",
    "nlp_thes_aft_ow = spacy.load(model_name)\n",
    "nlp_thes_aft_ow.add_pipe(\"ThesaurusMatcher\", config={\"case_sensitive\": False, \"overwrite_ents\": True, \"thesaurus_path\":\"../data/labels_all_unambiguous_types_people_orgs.jsonl\"}, after='ner')\n",
    "nlp_thes_aft_ow.add_pipe(\"EntityFilter\", last=True)\n",
    "\n",
    "# model with rules for dates\n",
    "# datematcher = DateMatcher(nlp_lg)\n",
    "nlp_dates_bef = spacy.load(model_name)\n",
    "nlp_dates_bef.add_pipe(\"DateMatcher\", before='ner')\n",
    "\n",
    "# model with rules for dates before & thesaurus after\n",
    "nlp_dates_bef_thes_aft = spacy.load(model_name)\n",
    "nlp_dates_bef_thes_aft.add_pipe(\"DateMatcher\", before='ner')\n",
    "nlp_dates_bef_thes_aft.add_pipe(\"ThesaurusMatcher\", config={\"case_sensitive\": False, \"overwrite_ents\": False, \"thesaurus_path\":\"../data/labels_all_unambiguous_types_people_orgs.jsonl\"}, after='ner')\n",
    "nlp_dates_bef_thes_aft.add_pipe(\"EntityFilter\", last=True)\n",
    "\n",
    "# model with rules for dates before & thesaurus after, with overwrite\n",
    "nlp_dates_bef_thes_aft_ow = spacy.load(model_name)\n",
    "nlp_dates_bef_thes_aft_ow.add_pipe(\"DateMatcher\", before='ner')\n",
    "nlp_dates_bef_thes_aft_ow.add_pipe(\"ThesaurusMatcher\", config={\"case_sensitive\": False, \"overwrite_ents\": True, \"thesaurus_path\":\"../data/labels_all_unambiguous_types_people_orgs.jsonl\"}, after='ner')\n",
    "nlp_dates_bef_thes_aft_ow.add_pipe(\"EntityFilter\", last=True)\n",
    "\n",
    "# add mapping from Spacy to HC types to all pipelines\n",
    "# mapentitytypes = MapEntityTypes(nlp_lg, validate_mapping=False)\n",
    "nlp_lg.add_pipe(\"MapEntityTypes\", config={\"validate_mapping\": False})\n",
    "nlp_thes.add_pipe(\"MapEntityTypes\", config={\"validate_mapping\": False})\n",
    "nlp_thes_aft.add_pipe(\"MapEntityTypes\", config={\"validate_mapping\": False})\n",
    "nlp_thes_aft_ow.add_pipe(\"MapEntityTypes\", config={\"validate_mapping\": False})\n",
    "nlp_dates_bef.add_pipe(\"MapEntityTypes\", config={\"validate_mapping\": False})\n",
    "nlp_dates_bef_thes_aft.add_pipe(\"MapEntityTypes\", config={\"validate_mapping\": False})\n",
    "nlp_dates_bef_thes_aft_ow.add_pipe(\"MapEntityTypes\", config={\"validate_mapping\": False})\n",
    "\n",
    "nlp_lg.pipe_names, nlp_thes.pipe_names, nlp_thes_aft.pipe_names, nlp_thes_aft_ow.pipe_names, nlp_dates_bef.pipe_names, nlp_dates_bef_thes_aft.pipe_names, nlp_dates_bef_thes_aft_ow.pipe_names\n"
   ]
  },
  {
   "cell_type": "code",
   "execution_count": 8,
   "metadata": {},
   "outputs": [
    {
     "data": {
      "text/plain": [
       "500"
      ]
     },
     "execution_count": 8,
     "metadata": {},
     "output_type": "execute_result"
    }
   ],
   "source": [
    "data = load_text_and_annotations_from_labelstudio(\"2020-11-25-17-28-58\", nlp_lg)\n",
    "\n",
    "len(data)"
   ]
  },
  {
   "cell_type": "code",
   "execution_count": 9,
   "metadata": {},
   "outputs": [],
   "source": [
    "def map_annotations_spacy_to_hc(data):\n",
    "    new_data = []\n",
    "    \n",
    "    for text, annotations in data:\n",
    "        new_annotations = [(item[0], item[1], constants.SPACY_TO_HC_ENTITY_MAPPING.get(item[2], item[2])) for item in annotations]\n",
    "        \n",
    "        new_data.append((text, new_annotations))\n",
    "        \n",
    "    return new_data\n",
    "        \n",
    "data = map_annotations_spacy_to_hc(data)"
   ]
  },
  {
   "cell_type": "code",
   "execution_count": 10,
   "metadata": {},
   "outputs": [
    {
     "name": "stdout",
     "output_type": "stream",
     "text": [
      "Failed:  Gold plated BBC Micro computer with two 1-megabyte disc drives and keyboard, made by Acorn Computers Limited, Cambridge, England,1985.  From 'The Micro User' competition.\n",
      "[(12, 30, 'OBJECT'), (85, 108, 'ORG'), (110, 119, 'LOC'), (121, 133, 'LOC'), (133, 133, 'DATE')]\n",
      "Failed:  Gold plated BBC Micro computer with two 1-megabyte disc drives and keyboard, made by Acorn Computers Limited, Cambridge, England,1985.  From 'The Micro User' competition.\n",
      "[(12, 30, 'OBJECT'), (85, 108, 'ORG'), (110, 119, 'LOC'), (121, 133, 'LOC'), (133, 133, 'DATE')]\n",
      "Failed:  Gold plated BBC Micro computer with two 1-megabyte disc drives and keyboard, made by Acorn Computers Limited, Cambridge, England,1985.  From 'The Micro User' competition.\n",
      "[(12, 30, 'OBJECT'), (85, 108, 'ORG'), (110, 119, 'LOC'), (121, 133, 'LOC'), (133, 133, 'DATE')]\n",
      "Failed:  Gold plated BBC Micro computer with two 1-megabyte disc drives and keyboard, made by Acorn Computers Limited, Cambridge, England,1985.  From 'The Micro User' competition.\n",
      "[(12, 30, 'OBJECT'), (85, 108, 'ORG'), (110, 119, 'LOC'), (121, 133, 'LOC'), (133, 133, 'DATE')]\n",
      "Failed:  Gold plated BBC Micro computer with two 1-megabyte disc drives and keyboard, made by Acorn Computers Limited, Cambridge, England,1985.  From 'The Micro User' competition.\n",
      "[(12, 30, 'OBJECT'), (85, 108, 'ORG'), (110, 119, 'LOC'), (121, 133, 'LOC'), (133, 133, 'DATE')]\n",
      "Failed:  Gold plated BBC Micro computer with two 1-megabyte disc drives and keyboard, made by Acorn Computers Limited, Cambridge, England,1985.  From 'The Micro User' competition.\n",
      "[(12, 30, 'OBJECT'), (85, 108, 'ORG'), (110, 119, 'LOC'), (121, 133, 'LOC'), (133, 133, 'DATE')]\n",
      "Failed:  Gold plated BBC Micro computer with two 1-megabyte disc drives and keyboard, made by Acorn Computers Limited, Cambridge, England,1985.  From 'The Micro User' competition.\n",
      "[(12, 30, 'OBJECT'), (85, 108, 'ORG'), (110, 119, 'LOC'), (121, 133, 'LOC'), (133, 133, 'DATE')]\n"
     ]
    },
    {
     "data": {
      "text/html": [
       "<div>\n",
       "<style scoped>\n",
       "    .dataframe tbody tr th:only-of-type {\n",
       "        vertical-align: middle;\n",
       "    }\n",
       "\n",
       "    .dataframe tbody tr th {\n",
       "        vertical-align: top;\n",
       "    }\n",
       "\n",
       "    .dataframe thead th {\n",
       "        text-align: right;\n",
       "    }\n",
       "</style>\n",
       "<table border=\"1\" class=\"dataframe\">\n",
       "  <thead>\n",
       "    <tr style=\"text-align: right;\">\n",
       "      <th>pipeline</th>\n",
       "      <th>NER</th>\n",
       "      <th>NER_thes_bef</th>\n",
       "      <th>NER_thes_aft</th>\n",
       "      <th>NER_thes_aft_ow</th>\n",
       "      <th>NER_datematcher_bef</th>\n",
       "      <th>NER_datematcher_bef_thes_aft</th>\n",
       "      <th>NER_datematcher_bef_thes_aft_ow</th>\n",
       "    </tr>\n",
       "  </thead>\n",
       "  <tbody>\n",
       "    <tr>\n",
       "      <th>ents_p</th>\n",
       "      <td>0.485795</td>\n",
       "      <td>0.509706</td>\n",
       "      <td>0.527191</td>\n",
       "      <td>0.516336</td>\n",
       "      <td>0.482051</td>\n",
       "      <td>0.526215</td>\n",
       "      <td>0.515365</td>\n",
       "    </tr>\n",
       "    <tr>\n",
       "      <th>ents_r</th>\n",
       "      <td>0.673759</td>\n",
       "      <td>0.64145</td>\n",
       "      <td>0.64933</td>\n",
       "      <td>0.635146</td>\n",
       "      <td>0.666667</td>\n",
       "      <td>0.648542</td>\n",
       "      <td>0.634358</td>\n",
       "    </tr>\n",
       "    <tr>\n",
       "      <th>ents_f</th>\n",
       "      <td>0.564543</td>\n",
       "      <td>0.568039</td>\n",
       "      <td>0.581921</td>\n",
       "      <td>0.569611</td>\n",
       "      <td>0.559524</td>\n",
       "      <td>0.58101</td>\n",
       "      <td>0.568704</td>\n",
       "    </tr>\n",
       "    <tr>\n",
       "      <th>support</th>\n",
       "      <td>1274</td>\n",
       "      <td>1274</td>\n",
       "      <td>1274</td>\n",
       "      <td>1274</td>\n",
       "      <td>1274</td>\n",
       "      <td>1274</td>\n",
       "      <td>1274</td>\n",
       "    </tr>\n",
       "    <tr>\n",
       "      <th>labels_missing_from_annotations</th>\n",
       "      <td>[PERCENT, EVENT, LANGUAGE, MONEY, ORDINAL, NOR...</td>\n",
       "      <td>[PERCENT, EVENT, LANGUAGE, MONEY, ORDINAL, NOR...</td>\n",
       "      <td>[PERCENT, EVENT, LANGUAGE, MONEY, ORDINAL, NOR...</td>\n",
       "      <td>[PERCENT, EVENT, LANGUAGE, MONEY, ORDINAL, NOR...</td>\n",
       "      <td>[PERCENT, EVENT, LANGUAGE, MONEY, ORDINAL, NOR...</td>\n",
       "      <td>[PERCENT, EVENT, LANGUAGE, MONEY, ORDINAL, NOR...</td>\n",
       "      <td>[PERCENT, EVENT, LANGUAGE, MONEY, ORDINAL, NOR...</td>\n",
       "    </tr>\n",
       "    <tr>\n",
       "      <th>ents_per_type.ORG.p</th>\n",
       "      <td>0.491228</td>\n",
       "      <td>0.418182</td>\n",
       "      <td>0.485788</td>\n",
       "      <td>0.434679</td>\n",
       "      <td>0.491228</td>\n",
       "      <td>0.485788</td>\n",
       "      <td>0.434679</td>\n",
       "    </tr>\n",
       "    <tr>\n",
       "      <th>ents_per_type.ORG.r</th>\n",
       "      <td>0.662162</td>\n",
       "      <td>0.621622</td>\n",
       "      <td>0.635135</td>\n",
       "      <td>0.618243</td>\n",
       "      <td>0.662162</td>\n",
       "      <td>0.635135</td>\n",
       "      <td>0.618243</td>\n",
       "    </tr>\n",
       "    <tr>\n",
       "      <th>ents_per_type.ORG.f</th>\n",
       "      <td>0.564029</td>\n",
       "      <td>0.5</td>\n",
       "      <td>0.550512</td>\n",
       "      <td>0.51046</td>\n",
       "      <td>0.564029</td>\n",
       "      <td>0.550512</td>\n",
       "      <td>0.51046</td>\n",
       "    </tr>\n",
       "    <tr>\n",
       "      <th>ents_per_type.ORG.support</th>\n",
       "      <td>297</td>\n",
       "      <td>297</td>\n",
       "      <td>297</td>\n",
       "      <td>297</td>\n",
       "      <td>297</td>\n",
       "      <td>297</td>\n",
       "      <td>297</td>\n",
       "    </tr>\n",
       "    <tr>\n",
       "      <th>ents_per_type.LOC.p</th>\n",
       "      <td>0.828897</td>\n",
       "      <td>0.834586</td>\n",
       "      <td>0.831418</td>\n",
       "      <td>0.833977</td>\n",
       "      <td>0.828897</td>\n",
       "      <td>0.831418</td>\n",
       "      <td>0.833977</td>\n",
       "    </tr>\n",
       "    <tr>\n",
       "      <th>ents_per_type.LOC.r</th>\n",
       "      <td>0.810409</td>\n",
       "      <td>0.825279</td>\n",
       "      <td>0.806691</td>\n",
       "      <td>0.802974</td>\n",
       "      <td>0.810409</td>\n",
       "      <td>0.806691</td>\n",
       "      <td>0.802974</td>\n",
       "    </tr>\n",
       "    <tr>\n",
       "      <th>ents_per_type.LOC.f</th>\n",
       "      <td>0.819549</td>\n",
       "      <td>0.829907</td>\n",
       "      <td>0.818868</td>\n",
       "      <td>0.818182</td>\n",
       "      <td>0.819549</td>\n",
       "      <td>0.818868</td>\n",
       "      <td>0.818182</td>\n",
       "    </tr>\n",
       "    <tr>\n",
       "      <th>ents_per_type.LOC.support</th>\n",
       "      <td>271</td>\n",
       "      <td>271</td>\n",
       "      <td>271</td>\n",
       "      <td>271</td>\n",
       "      <td>271</td>\n",
       "      <td>271</td>\n",
       "      <td>271</td>\n",
       "    </tr>\n",
       "    <tr>\n",
       "      <th>ents_per_type.OBJECT.p</th>\n",
       "      <td>0.0900901</td>\n",
       "      <td>0.0693069</td>\n",
       "      <td>0.0934579</td>\n",
       "      <td>0.0752688</td>\n",
       "      <td>0.0900901</td>\n",
       "      <td>0.0934579</td>\n",
       "      <td>0.0752688</td>\n",
       "    </tr>\n",
       "    <tr>\n",
       "      <th>ents_per_type.OBJECT.r</th>\n",
       "      <td>0.0561798</td>\n",
       "      <td>0.0393258</td>\n",
       "      <td>0.0561798</td>\n",
       "      <td>0.0393258</td>\n",
       "      <td>0.0561798</td>\n",
       "      <td>0.0561798</td>\n",
       "      <td>0.0393258</td>\n",
       "    </tr>\n",
       "    <tr>\n",
       "      <th>ents_per_type.OBJECT.f</th>\n",
       "      <td>0.0692042</td>\n",
       "      <td>0.0501792</td>\n",
       "      <td>0.0701754</td>\n",
       "      <td>0.0516605</td>\n",
       "      <td>0.0692042</td>\n",
       "      <td>0.0701754</td>\n",
       "      <td>0.0516605</td>\n",
       "    </tr>\n",
       "    <tr>\n",
       "      <th>ents_per_type.OBJECT.support</th>\n",
       "      <td>179</td>\n",
       "      <td>179</td>\n",
       "      <td>179</td>\n",
       "      <td>179</td>\n",
       "      <td>179</td>\n",
       "      <td>179</td>\n",
       "      <td>179</td>\n",
       "    </tr>\n",
       "    <tr>\n",
       "      <th>ents_per_type.DATE.p</th>\n",
       "      <td>0.889205</td>\n",
       "      <td>0.903727</td>\n",
       "      <td>0.903727</td>\n",
       "      <td>0.903427</td>\n",
       "      <td>0.858757</td>\n",
       "      <td>0.878788</td>\n",
       "      <td>0.878419</td>\n",
       "    </tr>\n",
       "    <tr>\n",
       "      <th>ents_per_type.DATE.r</th>\n",
       "      <td>0.909884</td>\n",
       "      <td>0.84593</td>\n",
       "      <td>0.84593</td>\n",
       "      <td>0.843023</td>\n",
       "      <td>0.883721</td>\n",
       "      <td>0.843023</td>\n",
       "      <td>0.840116</td>\n",
       "    </tr>\n",
       "    <tr>\n",
       "      <th>ents_per_type.DATE.f</th>\n",
       "      <td>0.899425</td>\n",
       "      <td>0.873874</td>\n",
       "      <td>0.873874</td>\n",
       "      <td>0.87218</td>\n",
       "      <td>0.87106</td>\n",
       "      <td>0.860534</td>\n",
       "      <td>0.858841</td>\n",
       "    </tr>\n",
       "    <tr>\n",
       "      <th>ents_per_type.DATE.support</th>\n",
       "      <td>345</td>\n",
       "      <td>345</td>\n",
       "      <td>345</td>\n",
       "      <td>345</td>\n",
       "      <td>345</td>\n",
       "      <td>345</td>\n",
       "      <td>345</td>\n",
       "    </tr>\n",
       "    <tr>\n",
       "      <th>ents_per_type.PERSON.p</th>\n",
       "      <td>0.678161</td>\n",
       "      <td>0.647059</td>\n",
       "      <td>0.682081</td>\n",
       "      <td>0.647059</td>\n",
       "      <td>0.678161</td>\n",
       "      <td>0.682081</td>\n",
       "      <td>0.647059</td>\n",
       "    </tr>\n",
       "    <tr>\n",
       "      <th>ents_per_type.PERSON.r</th>\n",
       "      <td>0.648352</td>\n",
       "      <td>0.604396</td>\n",
       "      <td>0.648352</td>\n",
       "      <td>0.604396</td>\n",
       "      <td>0.648352</td>\n",
       "      <td>0.648352</td>\n",
       "      <td>0.604396</td>\n",
       "    </tr>\n",
       "    <tr>\n",
       "      <th>ents_per_type.PERSON.f</th>\n",
       "      <td>0.662921</td>\n",
       "      <td>0.625</td>\n",
       "      <td>0.664789</td>\n",
       "      <td>0.625</td>\n",
       "      <td>0.662921</td>\n",
       "      <td>0.664789</td>\n",
       "      <td>0.625</td>\n",
       "    </tr>\n",
       "    <tr>\n",
       "      <th>ents_per_type.PERSON.support</th>\n",
       "      <td>182</td>\n",
       "      <td>182</td>\n",
       "      <td>182</td>\n",
       "      <td>182</td>\n",
       "      <td>182</td>\n",
       "      <td>182</td>\n",
       "      <td>182</td>\n",
       "    </tr>\n",
       "  </tbody>\n",
       "</table>\n",
       "</div>"
      ],
      "text/plain": [
       "pipeline                                                                       NER  \\\n",
       "ents_p                                                                    0.485795   \n",
       "ents_r                                                                    0.673759   \n",
       "ents_f                                                                    0.564543   \n",
       "support                                                                       1274   \n",
       "labels_missing_from_annotations  [PERCENT, EVENT, LANGUAGE, MONEY, ORDINAL, NOR...   \n",
       "ents_per_type.ORG.p                                                       0.491228   \n",
       "ents_per_type.ORG.r                                                       0.662162   \n",
       "ents_per_type.ORG.f                                                       0.564029   \n",
       "ents_per_type.ORG.support                                                      297   \n",
       "ents_per_type.LOC.p                                                       0.828897   \n",
       "ents_per_type.LOC.r                                                       0.810409   \n",
       "ents_per_type.LOC.f                                                       0.819549   \n",
       "ents_per_type.LOC.support                                                      271   \n",
       "ents_per_type.OBJECT.p                                                   0.0900901   \n",
       "ents_per_type.OBJECT.r                                                   0.0561798   \n",
       "ents_per_type.OBJECT.f                                                   0.0692042   \n",
       "ents_per_type.OBJECT.support                                                   179   \n",
       "ents_per_type.DATE.p                                                      0.889205   \n",
       "ents_per_type.DATE.r                                                      0.909884   \n",
       "ents_per_type.DATE.f                                                      0.899425   \n",
       "ents_per_type.DATE.support                                                     345   \n",
       "ents_per_type.PERSON.p                                                    0.678161   \n",
       "ents_per_type.PERSON.r                                                    0.648352   \n",
       "ents_per_type.PERSON.f                                                    0.662921   \n",
       "ents_per_type.PERSON.support                                                   182   \n",
       "\n",
       "pipeline                                                              NER_thes_bef  \\\n",
       "ents_p                                                                    0.509706   \n",
       "ents_r                                                                     0.64145   \n",
       "ents_f                                                                    0.568039   \n",
       "support                                                                       1274   \n",
       "labels_missing_from_annotations  [PERCENT, EVENT, LANGUAGE, MONEY, ORDINAL, NOR...   \n",
       "ents_per_type.ORG.p                                                       0.418182   \n",
       "ents_per_type.ORG.r                                                       0.621622   \n",
       "ents_per_type.ORG.f                                                            0.5   \n",
       "ents_per_type.ORG.support                                                      297   \n",
       "ents_per_type.LOC.p                                                       0.834586   \n",
       "ents_per_type.LOC.r                                                       0.825279   \n",
       "ents_per_type.LOC.f                                                       0.829907   \n",
       "ents_per_type.LOC.support                                                      271   \n",
       "ents_per_type.OBJECT.p                                                   0.0693069   \n",
       "ents_per_type.OBJECT.r                                                   0.0393258   \n",
       "ents_per_type.OBJECT.f                                                   0.0501792   \n",
       "ents_per_type.OBJECT.support                                                   179   \n",
       "ents_per_type.DATE.p                                                      0.903727   \n",
       "ents_per_type.DATE.r                                                       0.84593   \n",
       "ents_per_type.DATE.f                                                      0.873874   \n",
       "ents_per_type.DATE.support                                                     345   \n",
       "ents_per_type.PERSON.p                                                    0.647059   \n",
       "ents_per_type.PERSON.r                                                    0.604396   \n",
       "ents_per_type.PERSON.f                                                       0.625   \n",
       "ents_per_type.PERSON.support                                                   182   \n",
       "\n",
       "pipeline                                                              NER_thes_aft  \\\n",
       "ents_p                                                                    0.527191   \n",
       "ents_r                                                                     0.64933   \n",
       "ents_f                                                                    0.581921   \n",
       "support                                                                       1274   \n",
       "labels_missing_from_annotations  [PERCENT, EVENT, LANGUAGE, MONEY, ORDINAL, NOR...   \n",
       "ents_per_type.ORG.p                                                       0.485788   \n",
       "ents_per_type.ORG.r                                                       0.635135   \n",
       "ents_per_type.ORG.f                                                       0.550512   \n",
       "ents_per_type.ORG.support                                                      297   \n",
       "ents_per_type.LOC.p                                                       0.831418   \n",
       "ents_per_type.LOC.r                                                       0.806691   \n",
       "ents_per_type.LOC.f                                                       0.818868   \n",
       "ents_per_type.LOC.support                                                      271   \n",
       "ents_per_type.OBJECT.p                                                   0.0934579   \n",
       "ents_per_type.OBJECT.r                                                   0.0561798   \n",
       "ents_per_type.OBJECT.f                                                   0.0701754   \n",
       "ents_per_type.OBJECT.support                                                   179   \n",
       "ents_per_type.DATE.p                                                      0.903727   \n",
       "ents_per_type.DATE.r                                                       0.84593   \n",
       "ents_per_type.DATE.f                                                      0.873874   \n",
       "ents_per_type.DATE.support                                                     345   \n",
       "ents_per_type.PERSON.p                                                    0.682081   \n",
       "ents_per_type.PERSON.r                                                    0.648352   \n",
       "ents_per_type.PERSON.f                                                    0.664789   \n",
       "ents_per_type.PERSON.support                                                   182   \n",
       "\n",
       "pipeline                                                           NER_thes_aft_ow  \\\n",
       "ents_p                                                                    0.516336   \n",
       "ents_r                                                                    0.635146   \n",
       "ents_f                                                                    0.569611   \n",
       "support                                                                       1274   \n",
       "labels_missing_from_annotations  [PERCENT, EVENT, LANGUAGE, MONEY, ORDINAL, NOR...   \n",
       "ents_per_type.ORG.p                                                       0.434679   \n",
       "ents_per_type.ORG.r                                                       0.618243   \n",
       "ents_per_type.ORG.f                                                        0.51046   \n",
       "ents_per_type.ORG.support                                                      297   \n",
       "ents_per_type.LOC.p                                                       0.833977   \n",
       "ents_per_type.LOC.r                                                       0.802974   \n",
       "ents_per_type.LOC.f                                                       0.818182   \n",
       "ents_per_type.LOC.support                                                      271   \n",
       "ents_per_type.OBJECT.p                                                   0.0752688   \n",
       "ents_per_type.OBJECT.r                                                   0.0393258   \n",
       "ents_per_type.OBJECT.f                                                   0.0516605   \n",
       "ents_per_type.OBJECT.support                                                   179   \n",
       "ents_per_type.DATE.p                                                      0.903427   \n",
       "ents_per_type.DATE.r                                                      0.843023   \n",
       "ents_per_type.DATE.f                                                       0.87218   \n",
       "ents_per_type.DATE.support                                                     345   \n",
       "ents_per_type.PERSON.p                                                    0.647059   \n",
       "ents_per_type.PERSON.r                                                    0.604396   \n",
       "ents_per_type.PERSON.f                                                       0.625   \n",
       "ents_per_type.PERSON.support                                                   182   \n",
       "\n",
       "pipeline                                                       NER_datematcher_bef  \\\n",
       "ents_p                                                                    0.482051   \n",
       "ents_r                                                                    0.666667   \n",
       "ents_f                                                                    0.559524   \n",
       "support                                                                       1274   \n",
       "labels_missing_from_annotations  [PERCENT, EVENT, LANGUAGE, MONEY, ORDINAL, NOR...   \n",
       "ents_per_type.ORG.p                                                       0.491228   \n",
       "ents_per_type.ORG.r                                                       0.662162   \n",
       "ents_per_type.ORG.f                                                       0.564029   \n",
       "ents_per_type.ORG.support                                                      297   \n",
       "ents_per_type.LOC.p                                                       0.828897   \n",
       "ents_per_type.LOC.r                                                       0.810409   \n",
       "ents_per_type.LOC.f                                                       0.819549   \n",
       "ents_per_type.LOC.support                                                      271   \n",
       "ents_per_type.OBJECT.p                                                   0.0900901   \n",
       "ents_per_type.OBJECT.r                                                   0.0561798   \n",
       "ents_per_type.OBJECT.f                                                   0.0692042   \n",
       "ents_per_type.OBJECT.support                                                   179   \n",
       "ents_per_type.DATE.p                                                      0.858757   \n",
       "ents_per_type.DATE.r                                                      0.883721   \n",
       "ents_per_type.DATE.f                                                       0.87106   \n",
       "ents_per_type.DATE.support                                                     345   \n",
       "ents_per_type.PERSON.p                                                    0.678161   \n",
       "ents_per_type.PERSON.r                                                    0.648352   \n",
       "ents_per_type.PERSON.f                                                    0.662921   \n",
       "ents_per_type.PERSON.support                                                   182   \n",
       "\n",
       "pipeline                                              NER_datematcher_bef_thes_aft  \\\n",
       "ents_p                                                                    0.526215   \n",
       "ents_r                                                                    0.648542   \n",
       "ents_f                                                                     0.58101   \n",
       "support                                                                       1274   \n",
       "labels_missing_from_annotations  [PERCENT, EVENT, LANGUAGE, MONEY, ORDINAL, NOR...   \n",
       "ents_per_type.ORG.p                                                       0.485788   \n",
       "ents_per_type.ORG.r                                                       0.635135   \n",
       "ents_per_type.ORG.f                                                       0.550512   \n",
       "ents_per_type.ORG.support                                                      297   \n",
       "ents_per_type.LOC.p                                                       0.831418   \n",
       "ents_per_type.LOC.r                                                       0.806691   \n",
       "ents_per_type.LOC.f                                                       0.818868   \n",
       "ents_per_type.LOC.support                                                      271   \n",
       "ents_per_type.OBJECT.p                                                   0.0934579   \n",
       "ents_per_type.OBJECT.r                                                   0.0561798   \n",
       "ents_per_type.OBJECT.f                                                   0.0701754   \n",
       "ents_per_type.OBJECT.support                                                   179   \n",
       "ents_per_type.DATE.p                                                      0.878788   \n",
       "ents_per_type.DATE.r                                                      0.843023   \n",
       "ents_per_type.DATE.f                                                      0.860534   \n",
       "ents_per_type.DATE.support                                                     345   \n",
       "ents_per_type.PERSON.p                                                    0.682081   \n",
       "ents_per_type.PERSON.r                                                    0.648352   \n",
       "ents_per_type.PERSON.f                                                    0.664789   \n",
       "ents_per_type.PERSON.support                                                   182   \n",
       "\n",
       "pipeline                                           NER_datematcher_bef_thes_aft_ow  \n",
       "ents_p                                                                    0.515365  \n",
       "ents_r                                                                    0.634358  \n",
       "ents_f                                                                    0.568704  \n",
       "support                                                                       1274  \n",
       "labels_missing_from_annotations  [PERCENT, EVENT, LANGUAGE, MONEY, ORDINAL, NOR...  \n",
       "ents_per_type.ORG.p                                                       0.434679  \n",
       "ents_per_type.ORG.r                                                       0.618243  \n",
       "ents_per_type.ORG.f                                                        0.51046  \n",
       "ents_per_type.ORG.support                                                      297  \n",
       "ents_per_type.LOC.p                                                       0.833977  \n",
       "ents_per_type.LOC.r                                                       0.802974  \n",
       "ents_per_type.LOC.f                                                       0.818182  \n",
       "ents_per_type.LOC.support                                                      271  \n",
       "ents_per_type.OBJECT.p                                                   0.0752688  \n",
       "ents_per_type.OBJECT.r                                                   0.0393258  \n",
       "ents_per_type.OBJECT.f                                                   0.0516605  \n",
       "ents_per_type.OBJECT.support                                                   179  \n",
       "ents_per_type.DATE.p                                                      0.878419  \n",
       "ents_per_type.DATE.r                                                      0.840116  \n",
       "ents_per_type.DATE.f                                                      0.858841  \n",
       "ents_per_type.DATE.support                                                     345  \n",
       "ents_per_type.PERSON.p                                                    0.647059  \n",
       "ents_per_type.PERSON.r                                                    0.604396  \n",
       "ents_per_type.PERSON.f                                                       0.625  \n",
       "ents_per_type.PERSON.support                                                   182  "
      ]
     },
     "execution_count": 10,
     "metadata": {},
     "output_type": "execute_result"
    }
   ],
   "source": [
    "def generate_results_table(pipelines: dict, examples: list):\n",
    "    results = pd.DataFrame()\n",
    "    for name, p in pipelines.items():\n",
    "        temp_res = pd.json_normalize(test_ner(p, examples=examples))\n",
    "        temp_res['pipeline'] = name\n",
    "        \n",
    "        results = results.append(temp_res)\n",
    "    \n",
    "    results = results.set_index('pipeline')\n",
    "    \n",
    "    return results\n",
    "\n",
    "res = generate_results_table(\n",
    "    {\n",
    "        'NER': nlp_lg, \n",
    "        'NER_thes_bef': nlp_thes, \n",
    "        'NER_thes_aft': nlp_thes_aft, \n",
    "        'NER_thes_aft_ow': nlp_thes_aft_ow,\n",
    "        'NER_datematcher_bef': nlp_dates_bef,\n",
    "        'NER_datematcher_bef_thes_aft': nlp_dates_bef_thes_aft,\n",
    "        'NER_datematcher_bef_thes_aft_ow': nlp_dates_bef_thes_aft_ow\n",
    "#         'NER_datematcher_aft': nlp_dates_aft,\n",
    "    }, \n",
    "    data)\n",
    "\n",
    "res.T\n",
    "        "
   ]
  },
  {
   "cell_type": "code",
   "execution_count": 12,
   "metadata": {},
   "outputs": [
    {
     "name": "stdout",
     "output_type": "stream",
     "text": [
      "NER\n"
     ]
    },
    {
     "data": {
      "text/html": [
       "<span class=\"tex2jax_ignore\"><div class=\"entities\" style=\"line-height: 2.5; direction: ltr\">Mechanical analogue alarm clock, \n",
       "<mark class=\"entity\" style=\"background: #bfe1d9; padding: 0.45em 0.6em; margin: 0 0.25em; line-height: 1; border-radius: 0.35em;\">\n",
       "    c.1930-1969\n",
       "    <span style=\"font-size: 0.8em; font-weight: bold; line-height: 1; border-radius: 0.35em; vertical-align: middle; margin-left: 0.5rem\">DATE</span>\n",
       "</mark>\n",
       ", by \n",
       "<mark class=\"entity\" style=\"background: #7aecec; padding: 0.45em 0.6em; margin: 0 0.25em; line-height: 1; border-radius: 0.35em;\">\n",
       "    Smith Alarm\n",
       "    <span style=\"font-size: 0.8em; font-weight: bold; line-height: 1; border-radius: 0.35em; vertical-align: middle; margin-left: 0.5rem\">ORG</span>\n",
       "</mark>\n",
       ", made in \n",
       "<mark class=\"entity\" style=\"background: #ff9561; padding: 0.45em 0.6em; margin: 0 0.25em; line-height: 1; border-radius: 0.35em;\">\n",
       "    Britain\n",
       "    <span style=\"font-size: 0.8em; font-weight: bold; line-height: 1; border-radius: 0.35em; vertical-align: middle; margin-left: 0.5rem\">LOC</span>\n",
       "</mark>\n",
       ", dial with full colour picture of couple in domestic living room filling out pools coupon, automaton action on husband's pen which 'writes' on the coupon as numbers appear in newspaper held by wife. Back numbered \n",
       "<mark class=\"entity\" style=\"background: #e4e7d2; padding: 0.45em 0.6em; margin: 0 0.25em; line-height: 1; border-radius: 0.35em;\">\n",
       "    569\n",
       "    <span style=\"font-size: 0.8em; font-weight: bold; line-height: 1; border-radius: 0.35em; vertical-align: middle; margin-left: 0.5rem\">CARDINAL</span>\n",
       "</mark>\n",
       ".</div></span>"
      ],
      "text/plain": [
       "<IPython.core.display.HTML object>"
      ]
     },
     "metadata": {},
     "output_type": "display_data"
    },
    {
     "name": "stdout",
     "output_type": "stream",
     "text": [
      "best thesaurus\n"
     ]
    },
    {
     "data": {
      "text/html": [
       "<span class=\"tex2jax_ignore\"><div class=\"entities\" style=\"line-height: 2.5; direction: ltr\">Mechanical analogue alarm clock, \n",
       "<mark class=\"entity\" style=\"background: #bfe1d9; padding: 0.45em 0.6em; margin: 0 0.25em; line-height: 1; border-radius: 0.35em;\">\n",
       "    c.1930-1969\n",
       "    <span style=\"font-size: 0.8em; font-weight: bold; line-height: 1; border-radius: 0.35em; vertical-align: middle; margin-left: 0.5rem\">DATE</span>\n",
       "</mark>\n",
       ", by \n",
       "<mark class=\"entity\" style=\"background: #7aecec; padding: 0.45em 0.6em; margin: 0 0.25em; line-height: 1; border-radius: 0.35em;\">\n",
       "    Smith Alarm\n",
       "    <span style=\"font-size: 0.8em; font-weight: bold; line-height: 1; border-radius: 0.35em; vertical-align: middle; margin-left: 0.5rem\">ORG</span>\n",
       "</mark>\n",
       ", made in \n",
       "<mark class=\"entity\" style=\"background: #ff9561; padding: 0.45em 0.6em; margin: 0 0.25em; line-height: 1; border-radius: 0.35em;\">\n",
       "    Britain\n",
       "    <span style=\"font-size: 0.8em; font-weight: bold; line-height: 1; border-radius: 0.35em; vertical-align: middle; margin-left: 0.5rem\">LOC</span>\n",
       "</mark>\n",
       ", dial with full colour picture of couple in domestic living room filling out pools coupon, automaton action on husband's pen which 'writes' on the coupon as numbers appear in newspaper held by wife. Back numbered \n",
       "<mark class=\"entity\" style=\"background: #e4e7d2; padding: 0.45em 0.6em; margin: 0 0.25em; line-height: 1; border-radius: 0.35em;\">\n",
       "    569\n",
       "    <span style=\"font-size: 0.8em; font-weight: bold; line-height: 1; border-radius: 0.35em; vertical-align: middle; margin-left: 0.5rem\">CARDINAL</span>\n",
       "</mark>\n",
       ".</div></span>"
      ],
      "text/plain": [
       "<IPython.core.display.HTML object>"
      ]
     },
     "metadata": {},
     "output_type": "display_data"
    },
    {
     "name": "stdout",
     "output_type": "stream",
     "text": [
      "best thesaurus w/ date patterns\n"
     ]
    },
    {
     "data": {
      "text/html": [
       "<span class=\"tex2jax_ignore\"><div class=\"entities\" style=\"line-height: 2.5; direction: ltr\">Mechanical analogue alarm clock, \n",
       "<mark class=\"entity\" style=\"background: #bfe1d9; padding: 0.45em 0.6em; margin: 0 0.25em; line-height: 1; border-radius: 0.35em;\">\n",
       "    c.1930\n",
       "    <span style=\"font-size: 0.8em; font-weight: bold; line-height: 1; border-radius: 0.35em; vertical-align: middle; margin-left: 0.5rem\">DATE</span>\n",
       "</mark>\n",
       "-1969, by \n",
       "<mark class=\"entity\" style=\"background: #7aecec; padding: 0.45em 0.6em; margin: 0 0.25em; line-height: 1; border-radius: 0.35em;\">\n",
       "    Smith Alarm\n",
       "    <span style=\"font-size: 0.8em; font-weight: bold; line-height: 1; border-radius: 0.35em; vertical-align: middle; margin-left: 0.5rem\">ORG</span>\n",
       "</mark>\n",
       ", made in \n",
       "<mark class=\"entity\" style=\"background: #ff9561; padding: 0.45em 0.6em; margin: 0 0.25em; line-height: 1; border-radius: 0.35em;\">\n",
       "    Britain\n",
       "    <span style=\"font-size: 0.8em; font-weight: bold; line-height: 1; border-radius: 0.35em; vertical-align: middle; margin-left: 0.5rem\">LOC</span>\n",
       "</mark>\n",
       ", dial with full colour picture of couple in domestic living room filling out pools coupon, automaton action on husband's pen which 'writes' on the coupon as numbers appear in newspaper held by wife. Back numbered \n",
       "<mark class=\"entity\" style=\"background: #e4e7d2; padding: 0.45em 0.6em; margin: 0 0.25em; line-height: 1; border-radius: 0.35em;\">\n",
       "    569\n",
       "    <span style=\"font-size: 0.8em; font-weight: bold; line-height: 1; border-radius: 0.35em; vertical-align: middle; margin-left: 0.5rem\">CARDINAL</span>\n",
       "</mark>\n",
       ".</div></span>"
      ],
      "text/plain": [
       "<IPython.core.display.HTML object>"
      ]
     },
     "metadata": {},
     "output_type": "display_data"
    },
    {
     "name": "stdout",
     "output_type": "stream",
     "text": [
      "GT\n"
     ]
    },
    {
     "data": {
      "text/html": [
       "<span class=\"tex2jax_ignore\"><div class=\"entities\" style=\"line-height: 2.5; direction: ltr\">Mechanical analogue alarm clock, c.1930-1969, by \n",
       "<mark class=\"entity\" style=\"background: #7aecec; padding: 0.45em 0.6em; margin: 0 0.25em; line-height: 1; border-radius: 0.35em;\">\n",
       "    Smith Alarm\n",
       "    <span style=\"font-size: 0.8em; font-weight: bold; line-height: 1; border-radius: 0.35em; vertical-align: middle; margin-left: 0.5rem\">ORG</span>\n",
       "</mark>\n",
       ", made in \n",
       "<mark class=\"entity\" style=\"background: #ff9561; padding: 0.45em 0.6em; margin: 0 0.25em; line-height: 1; border-radius: 0.35em;\">\n",
       "    Britain\n",
       "    <span style=\"font-size: 0.8em; font-weight: bold; line-height: 1; border-radius: 0.35em; vertical-align: middle; margin-left: 0.5rem\">LOC</span>\n",
       "</mark>\n",
       "\n",
       "<mark class=\"entity\" style=\"background: #ddd; padding: 0.45em 0.6em; margin: 0 0.25em; line-height: 1; border-radius: 0.35em;\">\n",
       "    Mechanical analogue alarm clock\n",
       "    <span style=\"font-size: 0.8em; font-weight: bold; line-height: 1; border-radius: 0.35em; vertical-align: middle; margin-left: 0.5rem\">OBJECT</span>\n",
       "</mark>\n",
       ", \n",
       "<mark class=\"entity\" style=\"background: #bfe1d9; padding: 0.45em 0.6em; margin: 0 0.25em; line-height: 1; border-radius: 0.35em;\">\n",
       "    c.1930-1969\n",
       "    <span style=\"font-size: 0.8em; font-weight: bold; line-height: 1; border-radius: 0.35em; vertical-align: middle; margin-left: 0.5rem\">DATE</span>\n",
       "</mark>\n",
       ", by Smith Alarm, made in Britain, dial with full colour picture of couple in domestic living room filling out pools coupon, automaton action on husband's pen which 'writes' on the coupon as numbers appear in newspaper held by wife. Back numbered 569.</div></span>"
      ],
      "text/plain": [
       "<IPython.core.display.HTML object>"
      ]
     },
     "metadata": {},
     "output_type": "display_data"
    },
    {
     "name": "stdout",
     "output_type": "stream",
     "text": [
      "-----\n",
      "-----\n",
      "NER\n"
     ]
    },
    {
     "data": {
      "text/html": [
       "<span class=\"tex2jax_ignore\"><div class=\"entities\" style=\"line-height: 2.5; direction: ltr\">Votive statue, infant, in swaddling clothes, terracotta, \n",
       "<mark class=\"entity\" style=\"background: #ff9561; padding: 0.45em 0.6em; margin: 0 0.25em; line-height: 1; border-radius: 0.35em;\">\n",
       "    Italy\n",
       "    <span style=\"font-size: 0.8em; font-weight: bold; line-height: 1; border-radius: 0.35em; vertical-align: middle; margin-left: 0.5rem\">LOC</span>\n",
       "</mark>\n",
       ", \n",
       "<mark class=\"entity\" style=\"background: #bfe1d9; padding: 0.45em 0.6em; margin: 0 0.25em; line-height: 1; border-radius: 0.35em;\">\n",
       "    200BC to 200AD\n",
       "    <span style=\"font-size: 0.8em; font-weight: bold; line-height: 1; border-radius: 0.35em; vertical-align: middle; margin-left: 0.5rem\">DATE</span>\n",
       "</mark>\n",
       "</div></span>"
      ],
      "text/plain": [
       "<IPython.core.display.HTML object>"
      ]
     },
     "metadata": {},
     "output_type": "display_data"
    },
    {
     "name": "stdout",
     "output_type": "stream",
     "text": [
      "best thesaurus\n"
     ]
    },
    {
     "data": {
      "text/html": [
       "<span class=\"tex2jax_ignore\"><div class=\"entities\" style=\"line-height: 2.5; direction: ltr\">Votive statue, infant, in swaddling clothes, terracotta, \n",
       "<mark class=\"entity\" style=\"background: #ff9561; padding: 0.45em 0.6em; margin: 0 0.25em; line-height: 1; border-radius: 0.35em;\">\n",
       "    Italy\n",
       "    <span style=\"font-size: 0.8em; font-weight: bold; line-height: 1; border-radius: 0.35em; vertical-align: middle; margin-left: 0.5rem\">LOC</span>\n",
       "</mark>\n",
       ", \n",
       "<mark class=\"entity\" style=\"background: #bfe1d9; padding: 0.45em 0.6em; margin: 0 0.25em; line-height: 1; border-radius: 0.35em;\">\n",
       "    200BC to 200AD\n",
       "    <span style=\"font-size: 0.8em; font-weight: bold; line-height: 1; border-radius: 0.35em; vertical-align: middle; margin-left: 0.5rem\">DATE</span>\n",
       "</mark>\n",
       "</div></span>"
      ],
      "text/plain": [
       "<IPython.core.display.HTML object>"
      ]
     },
     "metadata": {},
     "output_type": "display_data"
    },
    {
     "name": "stdout",
     "output_type": "stream",
     "text": [
      "best thesaurus w/ date patterns\n"
     ]
    },
    {
     "data": {
      "text/html": [
       "<span class=\"tex2jax_ignore\"><div class=\"entities\" style=\"line-height: 2.5; direction: ltr\">Votive statue, infant, in swaddling clothes, terracotta, \n",
       "<mark class=\"entity\" style=\"background: #ff9561; padding: 0.45em 0.6em; margin: 0 0.25em; line-height: 1; border-radius: 0.35em;\">\n",
       "    Italy\n",
       "    <span style=\"font-size: 0.8em; font-weight: bold; line-height: 1; border-radius: 0.35em; vertical-align: middle; margin-left: 0.5rem\">LOC</span>\n",
       "</mark>\n",
       ", \n",
       "<mark class=\"entity\" style=\"background: #bfe1d9; padding: 0.45em 0.6em; margin: 0 0.25em; line-height: 1; border-radius: 0.35em;\">\n",
       "    200BC to 200AD\n",
       "    <span style=\"font-size: 0.8em; font-weight: bold; line-height: 1; border-radius: 0.35em; vertical-align: middle; margin-left: 0.5rem\">DATE</span>\n",
       "</mark>\n",
       "</div></span>"
      ],
      "text/plain": [
       "<IPython.core.display.HTML object>"
      ]
     },
     "metadata": {},
     "output_type": "display_data"
    },
    {
     "name": "stdout",
     "output_type": "stream",
     "text": [
      "GT\n"
     ]
    },
    {
     "data": {
      "text/html": [
       "<span class=\"tex2jax_ignore\"><div class=\"entities\" style=\"line-height: 2.5; direction: ltr\">Votive statue, infant, in swaddling clothes, terracotta, \n",
       "<mark class=\"entity\" style=\"background: #ff9561; padding: 0.45em 0.6em; margin: 0 0.25em; line-height: 1; border-radius: 0.35em;\">\n",
       "    Italy\n",
       "    <span style=\"font-size: 0.8em; font-weight: bold; line-height: 1; border-radius: 0.35em; vertical-align: middle; margin-left: 0.5rem\">LOC</span>\n",
       "</mark>\n",
       ", \n",
       "<mark class=\"entity\" style=\"background: #bfe1d9; padding: 0.45em 0.6em; margin: 0 0.25em; line-height: 1; border-radius: 0.35em;\">\n",
       "    200BC to 200AD\n",
       "    <span style=\"font-size: 0.8em; font-weight: bold; line-height: 1; border-radius: 0.35em; vertical-align: middle; margin-left: 0.5rem\">DATE</span>\n",
       "</mark>\n",
       "\n",
       "<mark class=\"entity\" style=\"background: #ddd; padding: 0.45em 0.6em; margin: 0 0.25em; line-height: 1; border-radius: 0.35em;\">\n",
       "    Votive statue, infant, in swaddling clothes\n",
       "    <span style=\"font-size: 0.8em; font-weight: bold; line-height: 1; border-radius: 0.35em; vertical-align: middle; margin-left: 0.5rem\">OBJECT</span>\n",
       "</mark>\n",
       ", terracotta, Italy, 200BC to 200AD</div></span>"
      ],
      "text/plain": [
       "<IPython.core.display.HTML object>"
      ]
     },
     "metadata": {},
     "output_type": "display_data"
    },
    {
     "name": "stdout",
     "output_type": "stream",
     "text": [
      "-----\n",
      "-----\n",
      "NER\n"
     ]
    },
    {
     "data": {
      "text/html": [
       "<span class=\"tex2jax_ignore\"><div class=\"entities\" style=\"line-height: 2.5; direction: ltr\">Glazed stoneware chemical storage jar, by \n",
       "<mark class=\"entity\" style=\"background: #7aecec; padding: 0.45em 0.6em; margin: 0 0.25em; line-height: 1; border-radius: 0.35em;\">\n",
       "    Doulton\n",
       "    <span style=\"font-size: 0.8em; font-weight: bold; line-height: 1; border-radius: 0.35em; vertical-align: middle; margin-left: 0.5rem\">ORG</span>\n",
       "</mark>\n",
       ". \n",
       "<mark class=\"entity\" style=\"background: #e4e7d2; padding: 0.45em 0.6em; margin: 0 0.25em; line-height: 1; border-radius: 0.35em;\">\n",
       "    20 gallon\n",
       "    <span style=\"font-size: 0.8em; font-weight: bold; line-height: 1; border-radius: 0.35em; vertical-align: middle; margin-left: 0.5rem\">QUANTITY</span>\n",
       "</mark>\n",
       " size \n",
       "<mark class=\"entity\" style=\"background: #bfe1d9; padding: 0.45em 0.6em; margin: 0 0.25em; line-height: 1; border-radius: 0.35em;\">\n",
       "    c. 1934\n",
       "    <span style=\"font-size: 0.8em; font-weight: bold; line-height: 1; border-radius: 0.35em; vertical-align: middle; margin-left: 0.5rem\">DATE</span>\n",
       "</mark>\n",
       "</div></span>"
      ],
      "text/plain": [
       "<IPython.core.display.HTML object>"
      ]
     },
     "metadata": {},
     "output_type": "display_data"
    },
    {
     "name": "stdout",
     "output_type": "stream",
     "text": [
      "best thesaurus\n"
     ]
    },
    {
     "data": {
      "text/html": [
       "<span class=\"tex2jax_ignore\"><div class=\"entities\" style=\"line-height: 2.5; direction: ltr\">Glazed stoneware chemical storage jar, by \n",
       "<mark class=\"entity\" style=\"background: #7aecec; padding: 0.45em 0.6em; margin: 0 0.25em; line-height: 1; border-radius: 0.35em;\">\n",
       "    Doulton\n",
       "    <span style=\"font-size: 0.8em; font-weight: bold; line-height: 1; border-radius: 0.35em; vertical-align: middle; margin-left: 0.5rem\">ORG</span>\n",
       "</mark>\n",
       ". \n",
       "<mark class=\"entity\" style=\"background: #e4e7d2; padding: 0.45em 0.6em; margin: 0 0.25em; line-height: 1; border-radius: 0.35em;\">\n",
       "    20 gallon\n",
       "    <span style=\"font-size: 0.8em; font-weight: bold; line-height: 1; border-radius: 0.35em; vertical-align: middle; margin-left: 0.5rem\">QUANTITY</span>\n",
       "</mark>\n",
       " size \n",
       "<mark class=\"entity\" style=\"background: #bfe1d9; padding: 0.45em 0.6em; margin: 0 0.25em; line-height: 1; border-radius: 0.35em;\">\n",
       "    c. 1934\n",
       "    <span style=\"font-size: 0.8em; font-weight: bold; line-height: 1; border-radius: 0.35em; vertical-align: middle; margin-left: 0.5rem\">DATE</span>\n",
       "</mark>\n",
       "</div></span>"
      ],
      "text/plain": [
       "<IPython.core.display.HTML object>"
      ]
     },
     "metadata": {},
     "output_type": "display_data"
    },
    {
     "name": "stdout",
     "output_type": "stream",
     "text": [
      "best thesaurus w/ date patterns\n"
     ]
    },
    {
     "data": {
      "text/html": [
       "<span class=\"tex2jax_ignore\"><div class=\"entities\" style=\"line-height: 2.5; direction: ltr\">Glazed stoneware chemical storage jar, by \n",
       "<mark class=\"entity\" style=\"background: #7aecec; padding: 0.45em 0.6em; margin: 0 0.25em; line-height: 1; border-radius: 0.35em;\">\n",
       "    Doulton\n",
       "    <span style=\"font-size: 0.8em; font-weight: bold; line-height: 1; border-radius: 0.35em; vertical-align: middle; margin-left: 0.5rem\">ORG</span>\n",
       "</mark>\n",
       ". \n",
       "<mark class=\"entity\" style=\"background: #e4e7d2; padding: 0.45em 0.6em; margin: 0 0.25em; line-height: 1; border-radius: 0.35em;\">\n",
       "    20 gallon\n",
       "    <span style=\"font-size: 0.8em; font-weight: bold; line-height: 1; border-radius: 0.35em; vertical-align: middle; margin-left: 0.5rem\">QUANTITY</span>\n",
       "</mark>\n",
       " size \n",
       "<mark class=\"entity\" style=\"background: #bfe1d9; padding: 0.45em 0.6em; margin: 0 0.25em; line-height: 1; border-radius: 0.35em;\">\n",
       "    c. 1934\n",
       "    <span style=\"font-size: 0.8em; font-weight: bold; line-height: 1; border-radius: 0.35em; vertical-align: middle; margin-left: 0.5rem\">DATE</span>\n",
       "</mark>\n",
       "</div></span>"
      ],
      "text/plain": [
       "<IPython.core.display.HTML object>"
      ]
     },
     "metadata": {},
     "output_type": "display_data"
    },
    {
     "name": "stdout",
     "output_type": "stream",
     "text": [
      "GT\n"
     ]
    },
    {
     "data": {
      "text/html": [
       "<span class=\"tex2jax_ignore\"><div class=\"entities\" style=\"line-height: 2.5; direction: ltr\">Glazed stoneware chemical storage jar, by \n",
       "<mark class=\"entity\" style=\"background: #7aecec; padding: 0.45em 0.6em; margin: 0 0.25em; line-height: 1; border-radius: 0.35em;\">\n",
       "    Doulton\n",
       "    <span style=\"font-size: 0.8em; font-weight: bold; line-height: 1; border-radius: 0.35em; vertical-align: middle; margin-left: 0.5rem\">ORG</span>\n",
       "</mark>\n",
       ". 20 gallon size \n",
       "<mark class=\"entity\" style=\"background: #bfe1d9; padding: 0.45em 0.6em; margin: 0 0.25em; line-height: 1; border-radius: 0.35em;\">\n",
       "    c. 1934\n",
       "    <span style=\"font-size: 0.8em; font-weight: bold; line-height: 1; border-radius: 0.35em; vertical-align: middle; margin-left: 0.5rem\">DATE</span>\n",
       "</mark>\n",
       "</div></span>"
      ],
      "text/plain": [
       "<IPython.core.display.HTML object>"
      ]
     },
     "metadata": {},
     "output_type": "display_data"
    },
    {
     "name": "stdout",
     "output_type": "stream",
     "text": [
      "-----\n",
      "-----\n",
      "NER\n"
     ]
    },
    {
     "data": {
      "text/html": [
       "<span class=\"tex2jax_ignore\"><div class=\"entities\" style=\"line-height: 2.5; direction: ltr\"> </br>  </br> Engraver and engineer based in \n",
       "<mark class=\"entity\" style=\"background: #ff9561; padding: 0.45em 0.6em; margin: 0 0.25em; line-height: 1; border-radius: 0.35em;\">\n",
       "    Chicago\n",
       "    <span style=\"font-size: 0.8em; font-weight: bold; line-height: 1; border-radius: 0.35em; vertical-align: middle; margin-left: 0.5rem\">LOC</span>\n",
       "</mark>\n",
       ".</div></span>"
      ],
      "text/plain": [
       "<IPython.core.display.HTML object>"
      ]
     },
     "metadata": {},
     "output_type": "display_data"
    },
    {
     "name": "stdout",
     "output_type": "stream",
     "text": [
      "best thesaurus\n"
     ]
    },
    {
     "data": {
      "text/html": [
       "<span class=\"tex2jax_ignore\"><div class=\"entities\" style=\"line-height: 2.5; direction: ltr\"> </br>  </br> Engraver and engineer based in \n",
       "<mark class=\"entity\" style=\"background: #ff9561; padding: 0.45em 0.6em; margin: 0 0.25em; line-height: 1; border-radius: 0.35em;\">\n",
       "    Chicago\n",
       "    <span style=\"font-size: 0.8em; font-weight: bold; line-height: 1; border-radius: 0.35em; vertical-align: middle; margin-left: 0.5rem\">LOC</span>\n",
       "</mark>\n",
       ".</div></span>"
      ],
      "text/plain": [
       "<IPython.core.display.HTML object>"
      ]
     },
     "metadata": {},
     "output_type": "display_data"
    },
    {
     "name": "stdout",
     "output_type": "stream",
     "text": [
      "best thesaurus w/ date patterns\n"
     ]
    },
    {
     "data": {
      "text/html": [
       "<span class=\"tex2jax_ignore\"><div class=\"entities\" style=\"line-height: 2.5; direction: ltr\"> </br>  </br> Engraver and engineer based in \n",
       "<mark class=\"entity\" style=\"background: #ff9561; padding: 0.45em 0.6em; margin: 0 0.25em; line-height: 1; border-radius: 0.35em;\">\n",
       "    Chicago\n",
       "    <span style=\"font-size: 0.8em; font-weight: bold; line-height: 1; border-radius: 0.35em; vertical-align: middle; margin-left: 0.5rem\">LOC</span>\n",
       "</mark>\n",
       ".</div></span>"
      ],
      "text/plain": [
       "<IPython.core.display.HTML object>"
      ]
     },
     "metadata": {},
     "output_type": "display_data"
    },
    {
     "name": "stdout",
     "output_type": "stream",
     "text": [
      "GT\n"
     ]
    },
    {
     "data": {
      "text/html": [
       "<span class=\"tex2jax_ignore\"><div class=\"entities\" style=\"line-height: 2.5; direction: ltr\"> </br>  </br> Engraver and engineer based in \n",
       "<mark class=\"entity\" style=\"background: #ff9561; padding: 0.45em 0.6em; margin: 0 0.25em; line-height: 1; border-radius: 0.35em;\">\n",
       "    Chicago\n",
       "    <span style=\"font-size: 0.8em; font-weight: bold; line-height: 1; border-radius: 0.35em; vertical-align: middle; margin-left: 0.5rem\">LOC</span>\n",
       "</mark>\n",
       ".</div></span>"
      ],
      "text/plain": [
       "<IPython.core.display.HTML object>"
      ]
     },
     "metadata": {},
     "output_type": "display_data"
    },
    {
     "name": "stdout",
     "output_type": "stream",
     "text": [
      "-----\n",
      "-----\n",
      "NER\n"
     ]
    },
    {
     "data": {
      "text/html": [
       "<span class=\"tex2jax_ignore\"><div class=\"entities\" style=\"line-height: 2.5; direction: ltr\">Photograph entitled 'What is in it?', taken by an unknown photographer for \n",
       "<mark class=\"entity\" style=\"background: #7aecec; padding: 0.45em 0.6em; margin: 0 0.25em; line-height: 1; border-radius: 0.35em;\">\n",
       "    Keystone\n",
       "    <span style=\"font-size: 0.8em; font-weight: bold; line-height: 1; border-radius: 0.35em; vertical-align: middle; margin-left: 0.5rem\">ORG</span>\n",
       "</mark>\n",
       " press agency,14 \n",
       "<mark class=\"entity\" style=\"background: #bfe1d9; padding: 0.45em 0.6em; margin: 0 0.25em; line-height: 1; border-radius: 0.35em;\">\n",
       "    October 1938\n",
       "    <span style=\"font-size: 0.8em; font-weight: bold; line-height: 1; border-radius: 0.35em; vertical-align: middle; margin-left: 0.5rem\">DATE</span>\n",
       "</mark>\n",
       ". Gelatin silver print.</div></span>"
      ],
      "text/plain": [
       "<IPython.core.display.HTML object>"
      ]
     },
     "metadata": {},
     "output_type": "display_data"
    },
    {
     "name": "stdout",
     "output_type": "stream",
     "text": [
      "best thesaurus\n"
     ]
    },
    {
     "data": {
      "text/html": [
       "<span class=\"tex2jax_ignore\"><div class=\"entities\" style=\"line-height: 2.5; direction: ltr\">Photograph entitled 'What is in it?', taken by an unknown photographer for \n",
       "<mark class=\"entity\" style=\"background: #7aecec; padding: 0.45em 0.6em; margin: 0 0.25em; line-height: 1; border-radius: 0.35em;\">\n",
       "    Keystone\n",
       "    <span style=\"font-size: 0.8em; font-weight: bold; line-height: 1; border-radius: 0.35em; vertical-align: middle; margin-left: 0.5rem\">ORG</span>\n",
       "</mark>\n",
       " press agency,14 \n",
       "<mark class=\"entity\" style=\"background: #bfe1d9; padding: 0.45em 0.6em; margin: 0 0.25em; line-height: 1; border-radius: 0.35em;\">\n",
       "    October 1938\n",
       "    <span style=\"font-size: 0.8em; font-weight: bold; line-height: 1; border-radius: 0.35em; vertical-align: middle; margin-left: 0.5rem\">DATE</span>\n",
       "</mark>\n",
       ". Gelatin silver print.</div></span>"
      ],
      "text/plain": [
       "<IPython.core.display.HTML object>"
      ]
     },
     "metadata": {},
     "output_type": "display_data"
    },
    {
     "name": "stdout",
     "output_type": "stream",
     "text": [
      "best thesaurus w/ date patterns\n"
     ]
    },
    {
     "data": {
      "text/html": [
       "<span class=\"tex2jax_ignore\"><div class=\"entities\" style=\"line-height: 2.5; direction: ltr\">Photograph entitled 'What is in it?', taken by an unknown photographer for \n",
       "<mark class=\"entity\" style=\"background: #7aecec; padding: 0.45em 0.6em; margin: 0 0.25em; line-height: 1; border-radius: 0.35em;\">\n",
       "    Keystone\n",
       "    <span style=\"font-size: 0.8em; font-weight: bold; line-height: 1; border-radius: 0.35em; vertical-align: middle; margin-left: 0.5rem\">ORG</span>\n",
       "</mark>\n",
       " press agency,14 \n",
       "<mark class=\"entity\" style=\"background: #bfe1d9; padding: 0.45em 0.6em; margin: 0 0.25em; line-height: 1; border-radius: 0.35em;\">\n",
       "    October 1938\n",
       "    <span style=\"font-size: 0.8em; font-weight: bold; line-height: 1; border-radius: 0.35em; vertical-align: middle; margin-left: 0.5rem\">DATE</span>\n",
       "</mark>\n",
       ". Gelatin silver print.</div></span>"
      ],
      "text/plain": [
       "<IPython.core.display.HTML object>"
      ]
     },
     "metadata": {},
     "output_type": "display_data"
    },
    {
     "name": "stdout",
     "output_type": "stream",
     "text": [
      "GT\n"
     ]
    },
    {
     "data": {
      "text/html": [
       "<span class=\"tex2jax_ignore\"><div class=\"entities\" style=\"line-height: 2.5; direction: ltr\">Photograph entitled \n",
       "<mark class=\"entity\" style=\"background: #ddd; padding: 0.45em 0.6em; margin: 0 0.25em; line-height: 1; border-radius: 0.35em;\">\n",
       "    'What is in it?'\n",
       "    <span style=\"font-size: 0.8em; font-weight: bold; line-height: 1; border-radius: 0.35em; vertical-align: middle; margin-left: 0.5rem\">OBJECT</span>\n",
       "</mark>\n",
       ", taken by an unknown photographer for \n",
       "<mark class=\"entity\" style=\"background: #7aecec; padding: 0.45em 0.6em; margin: 0 0.25em; line-height: 1; border-radius: 0.35em;\">\n",
       "    Keystone\n",
       "    <span style=\"font-size: 0.8em; font-weight: bold; line-height: 1; border-radius: 0.35em; vertical-align: middle; margin-left: 0.5rem\">ORG</span>\n",
       "</mark>\n",
       " press agency,14 \n",
       "<mark class=\"entity\" style=\"background: #bfe1d9; padding: 0.45em 0.6em; margin: 0 0.25em; line-height: 1; border-radius: 0.35em;\">\n",
       "    October 1938\n",
       "    <span style=\"font-size: 0.8em; font-weight: bold; line-height: 1; border-radius: 0.35em; vertical-align: middle; margin-left: 0.5rem\">DATE</span>\n",
       "</mark>\n",
       ". Gelatin silver print.</div></span>"
      ],
      "text/plain": [
       "<IPython.core.display.HTML object>"
      ]
     },
     "metadata": {},
     "output_type": "display_data"
    },
    {
     "name": "stdout",
     "output_type": "stream",
     "text": [
      "-----\n",
      "-----\n",
      "NER\n"
     ]
    },
    {
     "data": {
      "text/html": [
       "<span class=\"tex2jax_ignore\"><div class=\"entities\" style=\"line-height: 2.5; direction: ltr\">\n",
       "<mark class=\"entity\" style=\"background: #e4e7d2; padding: 0.45em 0.6em; margin: 0 0.25em; line-height: 1; border-radius: 0.35em;\">\n",
       "    Two\n",
       "    <span style=\"font-size: 0.8em; font-weight: bold; line-height: 1; border-radius: 0.35em; vertical-align: middle; margin-left: 0.5rem\">CARDINAL</span>\n",
       "</mark>\n",
       " copies of a laminated invitation to \n",
       "<mark class=\"entity\" style=\"background: #7aecec; padding: 0.45em 0.6em; margin: 0 0.25em; line-height: 1; border-radius: 0.35em;\">\n",
       "    Space Monkeys' Warehouse Party\n",
       "    <span style=\"font-size: 0.8em; font-weight: bold; line-height: 1; border-radius: 0.35em; vertical-align: middle; margin-left: 0.5rem\">ORG</span>\n",
       "</mark>\n",
       ".</div></span>"
      ],
      "text/plain": [
       "<IPython.core.display.HTML object>"
      ]
     },
     "metadata": {},
     "output_type": "display_data"
    },
    {
     "name": "stdout",
     "output_type": "stream",
     "text": [
      "best thesaurus\n"
     ]
    },
    {
     "data": {
      "text/html": [
       "<span class=\"tex2jax_ignore\"><div class=\"entities\" style=\"line-height: 2.5; direction: ltr\">\n",
       "<mark class=\"entity\" style=\"background: #e4e7d2; padding: 0.45em 0.6em; margin: 0 0.25em; line-height: 1; border-radius: 0.35em;\">\n",
       "    Two\n",
       "    <span style=\"font-size: 0.8em; font-weight: bold; line-height: 1; border-radius: 0.35em; vertical-align: middle; margin-left: 0.5rem\">CARDINAL</span>\n",
       "</mark>\n",
       " copies of a laminated invitation to \n",
       "<mark class=\"entity\" style=\"background: #7aecec; padding: 0.45em 0.6em; margin: 0 0.25em; line-height: 1; border-radius: 0.35em;\">\n",
       "    Space Monkeys' Warehouse Party\n",
       "    <span style=\"font-size: 0.8em; font-weight: bold; line-height: 1; border-radius: 0.35em; vertical-align: middle; margin-left: 0.5rem\">ORG</span>\n",
       "</mark>\n",
       ".</div></span>"
      ],
      "text/plain": [
       "<IPython.core.display.HTML object>"
      ]
     },
     "metadata": {},
     "output_type": "display_data"
    },
    {
     "name": "stdout",
     "output_type": "stream",
     "text": [
      "best thesaurus w/ date patterns\n"
     ]
    },
    {
     "data": {
      "text/html": [
       "<span class=\"tex2jax_ignore\"><div class=\"entities\" style=\"line-height: 2.5; direction: ltr\">\n",
       "<mark class=\"entity\" style=\"background: #e4e7d2; padding: 0.45em 0.6em; margin: 0 0.25em; line-height: 1; border-radius: 0.35em;\">\n",
       "    Two\n",
       "    <span style=\"font-size: 0.8em; font-weight: bold; line-height: 1; border-radius: 0.35em; vertical-align: middle; margin-left: 0.5rem\">CARDINAL</span>\n",
       "</mark>\n",
       " copies of a laminated invitation to \n",
       "<mark class=\"entity\" style=\"background: #7aecec; padding: 0.45em 0.6em; margin: 0 0.25em; line-height: 1; border-radius: 0.35em;\">\n",
       "    Space Monkeys' Warehouse Party\n",
       "    <span style=\"font-size: 0.8em; font-weight: bold; line-height: 1; border-radius: 0.35em; vertical-align: middle; margin-left: 0.5rem\">ORG</span>\n",
       "</mark>\n",
       ".</div></span>"
      ],
      "text/plain": [
       "<IPython.core.display.HTML object>"
      ]
     },
     "metadata": {},
     "output_type": "display_data"
    },
    {
     "name": "stdout",
     "output_type": "stream",
     "text": [
      "GT\n"
     ]
    },
    {
     "data": {
      "text/html": [
       "<span class=\"tex2jax_ignore\"><div class=\"entities\" style=\"line-height: 2.5; direction: ltr\">Two copies of a laminated invitation to \n",
       "<mark class=\"entity\" style=\"background: #7aecec; padding: 0.45em 0.6em; margin: 0 0.25em; line-height: 1; border-radius: 0.35em;\">\n",
       "    Space Monkeys'\n",
       "    <span style=\"font-size: 0.8em; font-weight: bold; line-height: 1; border-radius: 0.35em; vertical-align: middle; margin-left: 0.5rem\">ORG</span>\n",
       "</mark>\n",
       " Warehouse Party.</div></span>"
      ],
      "text/plain": [
       "<IPython.core.display.HTML object>"
      ]
     },
     "metadata": {},
     "output_type": "display_data"
    },
    {
     "name": "stdout",
     "output_type": "stream",
     "text": [
      "-----\n",
      "-----\n",
      "NER\n"
     ]
    },
    {
     "data": {
      "text/html": [
       "<span class=\"tex2jax_ignore\"><div class=\"entities\" style=\"line-height: 2.5; direction: ltr\">Railway uniform jacket, \n",
       "<mark class=\"entity\" style=\"background: #7aecec; padding: 0.45em 0.6em; margin: 0 0.25em; line-height: 1; border-radius: 0.35em;\">\n",
       "    Great Central Railway\n",
       "    <span style=\"font-size: 0.8em; font-weight: bold; line-height: 1; border-radius: 0.35em; vertical-align: middle; margin-left: 0.5rem\">ORG</span>\n",
       "</mark>\n",
       ", signalman's jacket, navy with white metal buttons and collar badges, original label inside.</div></span>"
      ],
      "text/plain": [
       "<IPython.core.display.HTML object>"
      ]
     },
     "metadata": {},
     "output_type": "display_data"
    },
    {
     "name": "stdout",
     "output_type": "stream",
     "text": [
      "best thesaurus\n"
     ]
    },
    {
     "data": {
      "text/html": [
       "<span class=\"tex2jax_ignore\"><div class=\"entities\" style=\"line-height: 2.5; direction: ltr\">Railway uniform jacket, \n",
       "<mark class=\"entity\" style=\"background: #7aecec; padding: 0.45em 0.6em; margin: 0 0.25em; line-height: 1; border-radius: 0.35em;\">\n",
       "    Great Central Railway\n",
       "    <span style=\"font-size: 0.8em; font-weight: bold; line-height: 1; border-radius: 0.35em; vertical-align: middle; margin-left: 0.5rem\">ORG</span>\n",
       "</mark>\n",
       ", signalman's jacket, navy with white metal buttons and collar badges, original label inside.</div></span>"
      ],
      "text/plain": [
       "<IPython.core.display.HTML object>"
      ]
     },
     "metadata": {},
     "output_type": "display_data"
    },
    {
     "name": "stdout",
     "output_type": "stream",
     "text": [
      "best thesaurus w/ date patterns\n"
     ]
    },
    {
     "data": {
      "text/html": [
       "<span class=\"tex2jax_ignore\"><div class=\"entities\" style=\"line-height: 2.5; direction: ltr\">Railway uniform jacket, \n",
       "<mark class=\"entity\" style=\"background: #7aecec; padding: 0.45em 0.6em; margin: 0 0.25em; line-height: 1; border-radius: 0.35em;\">\n",
       "    Great Central Railway\n",
       "    <span style=\"font-size: 0.8em; font-weight: bold; line-height: 1; border-radius: 0.35em; vertical-align: middle; margin-left: 0.5rem\">ORG</span>\n",
       "</mark>\n",
       ", signalman's jacket, navy with white metal buttons and collar badges, original label inside.</div></span>"
      ],
      "text/plain": [
       "<IPython.core.display.HTML object>"
      ]
     },
     "metadata": {},
     "output_type": "display_data"
    },
    {
     "name": "stdout",
     "output_type": "stream",
     "text": [
      "GT\n"
     ]
    },
    {
     "data": {
      "text/html": [
       "<span class=\"tex2jax_ignore\"><div class=\"entities\" style=\"line-height: 2.5; direction: ltr\">Railway uniform jacket, \n",
       "<mark class=\"entity\" style=\"background: #7aecec; padding: 0.45em 0.6em; margin: 0 0.25em; line-height: 1; border-radius: 0.35em;\">\n",
       "    Great Central Railway\n",
       "    <span style=\"font-size: 0.8em; font-weight: bold; line-height: 1; border-radius: 0.35em; vertical-align: middle; margin-left: 0.5rem\">ORG</span>\n",
       "</mark>\n",
       ", signalman's jacket, navy with white metal buttons and collar badges, original label inside.</div></span>"
      ],
      "text/plain": [
       "<IPython.core.display.HTML object>"
      ]
     },
     "metadata": {},
     "output_type": "display_data"
    },
    {
     "name": "stdout",
     "output_type": "stream",
     "text": [
      "-----\n",
      "-----\n",
      "NER\n"
     ]
    },
    {
     "data": {
      "text/html": [
       "<span class=\"tex2jax_ignore\"><div class=\"entities\" style=\"line-height: 2.5; direction: ltr\">Poster, \n",
       "<mark class=\"entity\" style=\"background: #7aecec; padding: 0.45em 0.6em; margin: 0 0.25em; line-height: 1; border-radius: 0.35em;\">\n",
       "    British Railways\n",
       "    <span style=\"font-size: 0.8em; font-weight: bold; line-height: 1; border-radius: 0.35em; vertical-align: middle; margin-left: 0.5rem\">ORG</span>\n",
       "</mark>\n",
       " , &quot;Special Train Service&quot;, printed in dark green on white, notification to schedules if bad weather necessitates a restricted service.</div></span>"
      ],
      "text/plain": [
       "<IPython.core.display.HTML object>"
      ]
     },
     "metadata": {},
     "output_type": "display_data"
    },
    {
     "name": "stdout",
     "output_type": "stream",
     "text": [
      "best thesaurus\n"
     ]
    },
    {
     "data": {
      "text/html": [
       "<span class=\"tex2jax_ignore\"><div class=\"entities\" style=\"line-height: 2.5; direction: ltr\">Poster, \n",
       "<mark class=\"entity\" style=\"background: #7aecec; padding: 0.45em 0.6em; margin: 0 0.25em; line-height: 1; border-radius: 0.35em;\">\n",
       "    British Railways\n",
       "    <span style=\"font-size: 0.8em; font-weight: bold; line-height: 1; border-radius: 0.35em; vertical-align: middle; margin-left: 0.5rem\">ORG</span>\n",
       "</mark>\n",
       " , &quot;Special Train Service&quot;, printed in dark green on white, notification to schedules if bad weather necessitates a restricted service.</div></span>"
      ],
      "text/plain": [
       "<IPython.core.display.HTML object>"
      ]
     },
     "metadata": {},
     "output_type": "display_data"
    },
    {
     "name": "stdout",
     "output_type": "stream",
     "text": [
      "best thesaurus w/ date patterns\n"
     ]
    },
    {
     "data": {
      "text/html": [
       "<span class=\"tex2jax_ignore\"><div class=\"entities\" style=\"line-height: 2.5; direction: ltr\">Poster, \n",
       "<mark class=\"entity\" style=\"background: #7aecec; padding: 0.45em 0.6em; margin: 0 0.25em; line-height: 1; border-radius: 0.35em;\">\n",
       "    British Railways\n",
       "    <span style=\"font-size: 0.8em; font-weight: bold; line-height: 1; border-radius: 0.35em; vertical-align: middle; margin-left: 0.5rem\">ORG</span>\n",
       "</mark>\n",
       " , &quot;Special Train Service&quot;, printed in dark green on white, notification to schedules if bad weather necessitates a restricted service.</div></span>"
      ],
      "text/plain": [
       "<IPython.core.display.HTML object>"
      ]
     },
     "metadata": {},
     "output_type": "display_data"
    },
    {
     "name": "stdout",
     "output_type": "stream",
     "text": [
      "GT\n"
     ]
    },
    {
     "data": {
      "text/html": [
       "<span class=\"tex2jax_ignore\"><div class=\"entities\" style=\"line-height: 2.5; direction: ltr\">Poster, \n",
       "<mark class=\"entity\" style=\"background: #7aecec; padding: 0.45em 0.6em; margin: 0 0.25em; line-height: 1; border-radius: 0.35em;\">\n",
       "    British Railways\n",
       "    <span style=\"font-size: 0.8em; font-weight: bold; line-height: 1; border-radius: 0.35em; vertical-align: middle; margin-left: 0.5rem\">ORG</span>\n",
       "</mark>\n",
       " , &quot;Special Train Service&quot;, printed in dark green on white, notification to schedules if bad weather necessitates a restricted service.</div></span>"
      ],
      "text/plain": [
       "<IPython.core.display.HTML object>"
      ]
     },
     "metadata": {},
     "output_type": "display_data"
    },
    {
     "name": "stdout",
     "output_type": "stream",
     "text": [
      "-----\n",
      "-----\n",
      "NER\n"
     ]
    },
    {
     "data": {
      "text/html": [
       "<span class=\"tex2jax_ignore\"><div class=\"entities\" style=\"line-height: 2.5; direction: ltr\">Model railway carriage, \n",
       "<mark class=\"entity\" style=\"background: #e4e7d2; padding: 0.45em 0.6em; margin: 0 0.25em; line-height: 1; border-radius: 0.35em;\">\n",
       "    33mm\n",
       "    <span style=\"font-size: 0.8em; font-weight: bold; line-height: 1; border-radius: 0.35em; vertical-align: middle; margin-left: 0.5rem\">QUANTITY</span>\n",
       "</mark>\n",
       " gauge, \n",
       "<mark class=\"entity\" style=\"background: #e4e7d2; padding: 0.45em 0.6em; margin: 0 0.25em; line-height: 1; border-radius: 0.35em;\">\n",
       "    2\n",
       "    <span style=\"font-size: 0.8em; font-weight: bold; line-height: 1; border-radius: 0.35em; vertical-align: middle; margin-left: 0.5rem\">CARDINAL</span>\n",
       "</mark>\n",
       "-rail electric, \n",
       "<mark class=\"entity\" style=\"background: #7aecec; padding: 0.45em 0.6em; margin: 0 0.25em; line-height: 1; border-radius: 0.35em;\">\n",
       "    London &amp; North Western Railway\n",
       "    <span style=\"font-size: 0.8em; font-weight: bold; line-height: 1; border-radius: 0.35em; vertical-align: middle; margin-left: 0.5rem\">ORG</span>\n",
       "</mark>\n",
       " 0-8-0 No. \n",
       "<mark class=\"entity\" style=\"background: #e4e7d2; padding: 0.45em 0.6em; margin: 0 0.25em; line-height: 1; border-radius: 0.35em;\">\n",
       "    1401\n",
       "    <span style=\"font-size: 0.8em; font-weight: bold; line-height: 1; border-radius: 0.35em; vertical-align: middle; margin-left: 0.5rem\">CARDINAL</span>\n",
       "</mark>\n",
       ", built by \n",
       "<mark class=\"entity\" style=\"background: #aa9cfc; padding: 0.45em 0.6em; margin: 0 0.25em; line-height: 1; border-radius: 0.35em;\">\n",
       "    Richards\n",
       "    <span style=\"font-size: 0.8em; font-weight: bold; line-height: 1; border-radius: 0.35em; vertical-align: middle; margin-left: 0.5rem\">PERSON</span>\n",
       "</mark>\n",
       ".</div></span>"
      ],
      "text/plain": [
       "<IPython.core.display.HTML object>"
      ]
     },
     "metadata": {},
     "output_type": "display_data"
    },
    {
     "name": "stdout",
     "output_type": "stream",
     "text": [
      "best thesaurus\n"
     ]
    },
    {
     "data": {
      "text/html": [
       "<span class=\"tex2jax_ignore\"><div class=\"entities\" style=\"line-height: 2.5; direction: ltr\">Model railway carriage, \n",
       "<mark class=\"entity\" style=\"background: #e4e7d2; padding: 0.45em 0.6em; margin: 0 0.25em; line-height: 1; border-radius: 0.35em;\">\n",
       "    33mm\n",
       "    <span style=\"font-size: 0.8em; font-weight: bold; line-height: 1; border-radius: 0.35em; vertical-align: middle; margin-left: 0.5rem\">QUANTITY</span>\n",
       "</mark>\n",
       " gauge, 2-rail electric, \n",
       "<mark class=\"entity\" style=\"background: #7aecec; padding: 0.45em 0.6em; margin: 0 0.25em; line-height: 1; border-radius: 0.35em;\">\n",
       "    London &amp; North Western Railway\n",
       "    <span style=\"font-size: 0.8em; font-weight: bold; line-height: 1; border-radius: 0.35em; vertical-align: middle; margin-left: 0.5rem\">ORG</span>\n",
       "</mark>\n",
       " 0-8-0 No. \n",
       "<mark class=\"entity\" style=\"background: #e4e7d2; padding: 0.45em 0.6em; margin: 0 0.25em; line-height: 1; border-radius: 0.35em;\">\n",
       "    1401\n",
       "    <span style=\"font-size: 0.8em; font-weight: bold; line-height: 1; border-radius: 0.35em; vertical-align: middle; margin-left: 0.5rem\">CARDINAL</span>\n",
       "</mark>\n",
       ", built by \n",
       "<mark class=\"entity\" style=\"background: #aa9cfc; padding: 0.45em 0.6em; margin: 0 0.25em; line-height: 1; border-radius: 0.35em;\">\n",
       "    Richards\n",
       "    <span style=\"font-size: 0.8em; font-weight: bold; line-height: 1; border-radius: 0.35em; vertical-align: middle; margin-left: 0.5rem\">PERSON</span>\n",
       "</mark>\n",
       ".</div></span>"
      ],
      "text/plain": [
       "<IPython.core.display.HTML object>"
      ]
     },
     "metadata": {},
     "output_type": "display_data"
    },
    {
     "name": "stdout",
     "output_type": "stream",
     "text": [
      "best thesaurus w/ date patterns\n"
     ]
    },
    {
     "data": {
      "text/html": [
       "<span class=\"tex2jax_ignore\"><div class=\"entities\" style=\"line-height: 2.5; direction: ltr\">Model railway carriage, \n",
       "<mark class=\"entity\" style=\"background: #e4e7d2; padding: 0.45em 0.6em; margin: 0 0.25em; line-height: 1; border-radius: 0.35em;\">\n",
       "    33mm\n",
       "    <span style=\"font-size: 0.8em; font-weight: bold; line-height: 1; border-radius: 0.35em; vertical-align: middle; margin-left: 0.5rem\">QUANTITY</span>\n",
       "</mark>\n",
       " gauge, 2-rail electric, \n",
       "<mark class=\"entity\" style=\"background: #7aecec; padding: 0.45em 0.6em; margin: 0 0.25em; line-height: 1; border-radius: 0.35em;\">\n",
       "    London &amp; North Western Railway\n",
       "    <span style=\"font-size: 0.8em; font-weight: bold; line-height: 1; border-radius: 0.35em; vertical-align: middle; margin-left: 0.5rem\">ORG</span>\n",
       "</mark>\n",
       " 0-8-0 No. \n",
       "<mark class=\"entity\" style=\"background: #e4e7d2; padding: 0.45em 0.6em; margin: 0 0.25em; line-height: 1; border-radius: 0.35em;\">\n",
       "    1401\n",
       "    <span style=\"font-size: 0.8em; font-weight: bold; line-height: 1; border-radius: 0.35em; vertical-align: middle; margin-left: 0.5rem\">CARDINAL</span>\n",
       "</mark>\n",
       ", built by \n",
       "<mark class=\"entity\" style=\"background: #aa9cfc; padding: 0.45em 0.6em; margin: 0 0.25em; line-height: 1; border-radius: 0.35em;\">\n",
       "    Richards\n",
       "    <span style=\"font-size: 0.8em; font-weight: bold; line-height: 1; border-radius: 0.35em; vertical-align: middle; margin-left: 0.5rem\">PERSON</span>\n",
       "</mark>\n",
       ".</div></span>"
      ],
      "text/plain": [
       "<IPython.core.display.HTML object>"
      ]
     },
     "metadata": {},
     "output_type": "display_data"
    },
    {
     "name": "stdout",
     "output_type": "stream",
     "text": [
      "GT\n"
     ]
    },
    {
     "data": {
      "text/html": [
       "<span class=\"tex2jax_ignore\"><div class=\"entities\" style=\"line-height: 2.5; direction: ltr\">Model railway carriage, 33mm gauge, 2-rail electric, \n",
       "<mark class=\"entity\" style=\"background: #7aecec; padding: 0.45em 0.6em; margin: 0 0.25em; line-height: 1; border-radius: 0.35em;\">\n",
       "    London &amp; North Western Railway\n",
       "    <span style=\"font-size: 0.8em; font-weight: bold; line-height: 1; border-radius: 0.35em; vertical-align: middle; margin-left: 0.5rem\">ORG</span>\n",
       "</mark>\n",
       " 0-8-0 No. 1401, built by \n",
       "<mark class=\"entity\" style=\"background: #aa9cfc; padding: 0.45em 0.6em; margin: 0 0.25em; line-height: 1; border-radius: 0.35em;\">\n",
       "    Richards\n",
       "    <span style=\"font-size: 0.8em; font-weight: bold; line-height: 1; border-radius: 0.35em; vertical-align: middle; margin-left: 0.5rem\">PERSON</span>\n",
       "</mark>\n",
       ".</div></span>"
      ],
      "text/plain": [
       "<IPython.core.display.HTML object>"
      ]
     },
     "metadata": {},
     "output_type": "display_data"
    },
    {
     "name": "stdout",
     "output_type": "stream",
     "text": [
      "-----\n",
      "-----\n",
      "NER\n"
     ]
    },
    {
     "data": {
      "text/html": [
       "<span class=\"tex2jax_ignore\"><div class=\"entities\" style=\"line-height: 2.5; direction: ltr\">Combined spatula and olive-ended probe, bronze, \n",
       "<mark class=\"entity\" style=\"background: #c887fb; padding: 0.45em 0.6em; margin: 0 0.25em; line-height: 1; border-radius: 0.35em;\">\n",
       "    Roman\n",
       "    <span style=\"font-size: 0.8em; font-weight: bold; line-height: 1; border-radius: 0.35em; vertical-align: middle; margin-left: 0.5rem\">NORP</span>\n",
       "</mark>\n",
       ", from \n",
       "<mark class=\"entity\" style=\"background: #aa9cfc; padding: 0.45em 0.6em; margin: 0 0.25em; line-height: 1; border-radius: 0.35em;\">\n",
       "    Sforza\n",
       "    <span style=\"font-size: 0.8em; font-weight: bold; line-height: 1; border-radius: 0.35em; vertical-align: middle; margin-left: 0.5rem\">PERSON</span>\n",
       "</mark>\n",
       " collection</div></span>"
      ],
      "text/plain": [
       "<IPython.core.display.HTML object>"
      ]
     },
     "metadata": {},
     "output_type": "display_data"
    },
    {
     "name": "stdout",
     "output_type": "stream",
     "text": [
      "best thesaurus\n"
     ]
    },
    {
     "data": {
      "text/html": [
       "<span class=\"tex2jax_ignore\"><div class=\"entities\" style=\"line-height: 2.5; direction: ltr\">Combined spatula and olive-ended probe, bronze, \n",
       "<mark class=\"entity\" style=\"background: #c887fb; padding: 0.45em 0.6em; margin: 0 0.25em; line-height: 1; border-radius: 0.35em;\">\n",
       "    Roman\n",
       "    <span style=\"font-size: 0.8em; font-weight: bold; line-height: 1; border-radius: 0.35em; vertical-align: middle; margin-left: 0.5rem\">NORP</span>\n",
       "</mark>\n",
       ", from \n",
       "<mark class=\"entity\" style=\"background: #aa9cfc; padding: 0.45em 0.6em; margin: 0 0.25em; line-height: 1; border-radius: 0.35em;\">\n",
       "    Sforza\n",
       "    <span style=\"font-size: 0.8em; font-weight: bold; line-height: 1; border-radius: 0.35em; vertical-align: middle; margin-left: 0.5rem\">PERSON</span>\n",
       "</mark>\n",
       " collection</div></span>"
      ],
      "text/plain": [
       "<IPython.core.display.HTML object>"
      ]
     },
     "metadata": {},
     "output_type": "display_data"
    },
    {
     "name": "stdout",
     "output_type": "stream",
     "text": [
      "best thesaurus w/ date patterns\n"
     ]
    },
    {
     "data": {
      "text/html": [
       "<span class=\"tex2jax_ignore\"><div class=\"entities\" style=\"line-height: 2.5; direction: ltr\">Combined spatula and olive-ended probe, bronze, \n",
       "<mark class=\"entity\" style=\"background: #c887fb; padding: 0.45em 0.6em; margin: 0 0.25em; line-height: 1; border-radius: 0.35em;\">\n",
       "    Roman\n",
       "    <span style=\"font-size: 0.8em; font-weight: bold; line-height: 1; border-radius: 0.35em; vertical-align: middle; margin-left: 0.5rem\">NORP</span>\n",
       "</mark>\n",
       ", from \n",
       "<mark class=\"entity\" style=\"background: #aa9cfc; padding: 0.45em 0.6em; margin: 0 0.25em; line-height: 1; border-radius: 0.35em;\">\n",
       "    Sforza\n",
       "    <span style=\"font-size: 0.8em; font-weight: bold; line-height: 1; border-radius: 0.35em; vertical-align: middle; margin-left: 0.5rem\">PERSON</span>\n",
       "</mark>\n",
       " collection</div></span>"
      ],
      "text/plain": [
       "<IPython.core.display.HTML object>"
      ]
     },
     "metadata": {},
     "output_type": "display_data"
    },
    {
     "name": "stdout",
     "output_type": "stream",
     "text": [
      "GT\n"
     ]
    },
    {
     "data": {
      "text/html": [
       "<span class=\"tex2jax_ignore\"><div class=\"entities\" style=\"line-height: 2.5; direction: ltr\">Combined spatula and olive-ended probe, bronze, Roman, from Sforza collection</div></span>"
      ],
      "text/plain": [
       "<IPython.core.display.HTML object>"
      ]
     },
     "metadata": {},
     "output_type": "display_data"
    },
    {
     "name": "stdout",
     "output_type": "stream",
     "text": [
      "-----\n",
      "-----\n"
     ]
    }
   ],
   "source": [
    "for text, annotations in data[0:10]:\n",
    "    print(\"NER\")\n",
    "    display_ner_annotations(text, nlp_lg)\n",
    "    print(\"best thesaurus\")\n",
    "    display_ner_annotations(text, nlp_thes_aft)\n",
    "    print(\"best thesaurus w/ date patterns\")\n",
    "    display_ner_annotations(text, nlp_dates_bef_thes_aft)\n",
    "    print(\"GT\")\n",
    "    display_manual_annotations(text, annotations)\n",
    "    print(\"-----\")\n",
    "    print(\"-----\")"
   ]
  },
  {
   "cell_type": "code",
   "execution_count": null,
   "metadata": {},
   "outputs": [],
   "source": []
  }
 ],
 "metadata": {
  "kernelspec": {
   "display_name": "Python 3",
   "language": "python",
   "name": "python3"
  },
  "language_info": {
   "codemirror_mode": {
    "name": "ipython",
    "version": 3
   },
   "file_extension": ".py",
   "mimetype": "text/x-python",
   "name": "python",
   "nbconvert_exporter": "python",
   "pygments_lexer": "ipython3",
   "version": "3.7.3"
  }
 },
 "nbformat": 4,
 "nbformat_minor": 4
}
