{
 "cells": [
  {
   "cell_type": "markdown",
   "metadata": {},
   "source": [
    "# Exporting Spacy Labels to Label Studio"
   ]
  },
  {
   "cell_type": "code",
   "execution_count": 1,
   "metadata": {},
   "outputs": [],
   "source": [
    "import sys\n",
    "sys.path.append(\"..\")\n",
    "\n",
    "import spacy\n",
    "from hc_nlp.pipeline import EntityFilter, ThesaurusMatcher, DateMatcher, MapEntityTypes\n",
    "\n",
    "import json\n",
    "from tqdm.auto import tqdm"
   ]
  },
  {
   "cell_type": "code",
   "execution_count": 2,
   "metadata": {},
   "outputs": [
    {
     "name": "stdout",
     "output_type": "stream",
     "text": [
      "2020-12-08 18:46:35,362 - hc_nlp.pipeline - INFO - Loading thesaurus from ../data/labels_all_unambiguous_types_people_orgs.jsonl\n",
      "2020-12-08 18:46:40,537 - hc_nlp.pipeline - INFO - 17016 term thesaurus imported in 5s\n"
     ]
    },
    {
     "data": {
      "text/plain": [
       "['tagger',\n",
       " 'parser',\n",
       " 'DateMatcher',\n",
       " 'ner',\n",
       " 'ThesaurusMatcher',\n",
       " 'EntityFilter',\n",
       " 'MapEntityTypes']"
      ]
     },
     "execution_count": 2,
     "metadata": {},
     "output_type": "execute_result"
    }
   ],
   "source": [
    "nlp = spacy.load(\"en_core_web_lg\")\n",
    "\n",
    "thes_ow = ThesaurusMatcher(nlp, thesaurus_path=\"../data/labels_all_unambiguous_types_people_orgs.jsonl\", \n",
    "                                  case_sensitive=False, overwrite_ents=True)\n",
    "entityfilter = EntityFilter()\n",
    "datematcher = DateMatcher(nlp)\n",
    "mapentitytypes = MapEntityTypes(nlp, validate_mapping=False)\n",
    "\n",
    "nlp.add_pipe(datematcher, before='ner')\n",
    "nlp.add_pipe(thes_ow, after='ner')\n",
    "nlp.add_pipe(entityfilter, last=True)\n",
    "nlp.add_pipe(mapentitytypes, last=True)\n",
    "\n",
    "nlp.pipe_names"
   ]
  },
  {
   "cell_type": "code",
   "execution_count": 3,
   "metadata": {},
   "outputs": [
    {
     "data": {
      "text/plain": [
       "{'uri': 'https://collection.sciencemuseumgroup.org.uk/objects/co8663782',\n",
       " 'text': \"Two-minute phonograph cylinder containing ‘The Dawn ’ by Amy Evans, associated with an Edison 'Amberola' phonograph, 1880-1912\"}"
      ]
     },
     "execution_count": 3,
     "metadata": {},
     "output_type": "execute_result"
    }
   ],
   "source": [
    "with open(\"../data/text_processed_750.json\", \"r\") as f:\n",
    "    data = json.load(f)\n",
    "    \n",
    "data[0]"
   ]
  },
  {
   "cell_type": "code",
   "execution_count": 4,
   "metadata": {},
   "outputs": [],
   "source": [
    "allowed_labels = [\"PERSON\", \"ORG\", \"NORP\", \"LOC\", \"OBJECT\", \"EVENT\", \"DATE\"]"
   ]
  },
  {
   "cell_type": "code",
   "execution_count": 7,
   "metadata": {},
   "outputs": [
    {
     "data": {
      "application/vnd.jupyter.widget-view+json": {
       "model_id": "f1005b096129442e8212983006e0510f",
       "version_major": 2,
       "version_minor": 0
      },
      "text/plain": [
       "HBox(children=(HTML(value=''), FloatProgress(value=0.0, max=750.0), HTML(value='')))"
      ]
     },
     "metadata": {},
     "output_type": "display_data"
    },
    {
     "name": "stdout",
     "output_type": "stream",
     "text": [
      "\n"
     ]
    },
    {
     "data": {
      "text/plain": [
       "{'CARDINAL', 'FAC', 'LANGUAGE', 'LAW', 'MONEY', 'ORDINAL', 'QUANTITY', 'TIME'}"
      ]
     },
     "execution_count": 7,
     "metadata": {},
     "output_type": "execute_result"
    }
   ],
   "source": [
    "new_data = []\n",
    "ignored_labels = []\n",
    "\n",
    "for idx, item in tqdm(enumerate(data), total=len(data)):\n",
    "    new_item = {\"id\": idx, \"data\": item}\n",
    "    \n",
    "    completions = [{\n",
    "#         \"completed_at\": 10000000,\n",
    "        \"id\": idx*1000 + 1,\n",
    "        \"lead_time\": 0,\n",
    "        \"result\": []\n",
    "    }]\n",
    "    \n",
    "    doc = nlp(item['text'])\n",
    "    \n",
    "    for idx, ent in enumerate(doc.ents):\n",
    "        if ent.label_ in allowed_labels:\n",
    "            completions[0]['result'].append(\n",
    "                {\n",
    "                    \"from_name\": \"label\",\n",
    "                    \"id\": str(hash(ent.text)),\n",
    "                    \"to_name\": \"text\",\n",
    "                    \"type\": \"labels\",\n",
    "                    \"value\": {\n",
    "                      \"labels\": [\n",
    "                        ent.label_\n",
    "                      ],\n",
    "                      \"start\": doc[ent.start].idx,\n",
    "                      \"end\": doc[ent.end-1].idx + len(doc[ent.end-1].text),\n",
    "                      \"text\": ent.text,\n",
    "                      \"score\": 1,\n",
    "                    },\n",
    "                }\n",
    "            )\n",
    "        else:\n",
    "            ignored_labels.append(ent.label_)\n",
    "        \n",
    "    new_item['predictions'] = completions\n",
    "    new_data.append(new_item)    \n",
    "    \n",
    "    \n",
    "set(ignored_labels)"
   ]
  },
  {
   "cell_type": "code",
   "execution_count": 8,
   "metadata": {},
   "outputs": [],
   "source": [
    "assert len(new_data) == len(data)\n",
    "# output_path = \"../data/text_processed_spacy_lg_750.json\"\n",
    "\n",
    "with open(output_path, 'w') as f:\n",
    "    json.dump(new_data, f)"
   ]
  },
  {
   "cell_type": "code",
   "execution_count": 6,
   "metadata": {},
   "outputs": [
    {
     "name": "stdout",
     "output_type": "stream",
     "text": [
      "Oliver Lodge PERSON\n",
      "109\n",
      "\n",
      "England LOC\n",
      "118\n",
      "\n",
      "1894-1904 DATE\n",
      "128\n",
      "\n"
     ]
    }
   ],
   "source": [
    "# -- DEBUG\n",
    "text = \"Filing coherer, glass tube fitted on to mounting bracket with terminals, designed or used by Sir Oliver Lodge, England, 1894-1904\"\n",
    "\n",
    "doc = nlp(text)\n",
    "for idx, ent in enumerate(doc.ents):\n",
    "    print(ent.text, ent.label_)\n",
    "    print(doc[ent.end].idx + len(doc[ent.end]) - 1 if ent.end < len(doc) else len(doc.text)-1)\n",
    "    print()"
   ]
  },
  {
   "cell_type": "code",
   "execution_count": null,
   "metadata": {},
   "outputs": [],
   "source": []
  }
 ],
 "metadata": {
  "kernelspec": {
   "display_name": "Python 3",
   "language": "python",
   "name": "python3"
  },
  "language_info": {
   "codemirror_mode": {
    "name": "ipython",
    "version": 3
   },
   "file_extension": ".py",
   "mimetype": "text/x-python",
   "name": "python",
   "nbconvert_exporter": "python",
   "pygments_lexer": "ipython3",
   "version": "3.7.4"
  }
 },
 "nbformat": 4,
 "nbformat_minor": 4
}
