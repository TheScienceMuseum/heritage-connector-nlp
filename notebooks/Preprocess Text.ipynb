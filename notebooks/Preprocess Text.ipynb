{
 "cells": [
  {
   "cell_type": "markdown",
   "metadata": {},
   "source": [
    "# Preprocessing Text"
   ]
  },
  {
   "cell_type": "code",
   "execution_count": 1,
   "metadata": {},
   "outputs": [
    {
     "name": "stderr",
     "output_type": "stream",
     "text": [
      "/Users/kalyan/.local/share/virtualenvs/heritage-connector-nlp-u52fn-qD/lib/python3.7/site-packages/tqdm/std.py:656: FutureWarning: The Panel class is removed from pandas. Accessing it from the top-level namespace will also be removed in the next version\n",
      "  from pandas import Panel\n"
     ]
    }
   ],
   "source": [
    "import spacy\n",
    "import pandas as pd\n",
    "import matplotlib.pyplot as plt\n",
    "import seaborn as sns\n",
    "import re\n",
    "from tqdm import tqdm\n",
    "\n",
    "tqdm.pandas()"
   ]
  },
  {
   "cell_type": "code",
   "execution_count": 2,
   "metadata": {},
   "outputs": [
    {
     "data": {
      "text/plain": [
       "[]"
      ]
     },
     "execution_count": 2,
     "metadata": {},
     "output_type": "execute_result"
    }
   ],
   "source": [
    "# nlp = spacy.load(\"en_core_web_sm\", disable = ['ner', 'tagger', 'parser'])\n",
    "\n",
    "import en_core_web_sm\n",
    "nlp = en_core_web_sm.load(disable = ['ner', 'tagger', 'parser'])\n",
    "\n",
    "nlp.pipe_names"
   ]
  },
  {
   "cell_type": "markdown",
   "metadata": {},
   "source": [
    "## 1. Load Data"
   ]
  },
  {
   "cell_type": "code",
   "execution_count": 3,
   "metadata": {},
   "outputs": [],
   "source": [
    "def load_data(data_path):\n",
    "    return pd.read_json(data_path)"
   ]
  },
  {
   "cell_type": "code",
   "execution_count": 4,
   "metadata": {},
   "outputs": [
    {
     "data": {
      "text/html": [
       "<div>\n",
       "<style scoped>\n",
       "    .dataframe tbody tr th:only-of-type {\n",
       "        vertical-align: middle;\n",
       "    }\n",
       "\n",
       "    .dataframe tbody tr th {\n",
       "        vertical-align: top;\n",
       "    }\n",
       "\n",
       "    .dataframe thead th {\n",
       "        text-align: right;\n",
       "    }\n",
       "</style>\n",
       "<table border=\"1\" class=\"dataframe\">\n",
       "  <thead>\n",
       "    <tr style=\"text-align: right;\">\n",
       "      <th></th>\n",
       "      <th>uri</th>\n",
       "      <th>text</th>\n",
       "    </tr>\n",
       "  </thead>\n",
       "  <tbody>\n",
       "    <tr>\n",
       "      <th>0</th>\n",
       "      <td>https://collection.sciencemuseumgroup.org.uk/o...</td>\n",
       "      <td>Disc plough (African, Australian and South Ame...</td>\n",
       "    </tr>\n",
       "    <tr>\n",
       "      <th>1</th>\n",
       "      <td>https://collection.sciencemuseumgroup.org.uk/o...</td>\n",
       "      <td>Early English Rotherham plough, 1720</td>\n",
       "    </tr>\n",
       "    <tr>\n",
       "      <th>2</th>\n",
       "      <td>https://collection.sciencemuseumgroup.org.uk/o...</td>\n",
       "      <td>English general purpose plough, 1926</td>\n",
       "    </tr>\n",
       "    <tr>\n",
       "      <th>3</th>\n",
       "      <td>https://collection.sciencemuseumgroup.org.uk/o...</td>\n",
       "      <td>Ceylon plough (model)</td>\n",
       "    </tr>\n",
       "    <tr>\n",
       "      <th>4</th>\n",
       "      <td>https://collection.sciencemuseumgroup.org.uk/o...</td>\n",
       "      <td>Skylark stage 1 attitude control bay (serial N...</td>\n",
       "    </tr>\n",
       "  </tbody>\n",
       "</table>\n",
       "</div>"
      ],
      "text/plain": [
       "                                                 uri  \\\n",
       "0  https://collection.sciencemuseumgroup.org.uk/o...   \n",
       "1  https://collection.sciencemuseumgroup.org.uk/o...   \n",
       "2  https://collection.sciencemuseumgroup.org.uk/o...   \n",
       "3  https://collection.sciencemuseumgroup.org.uk/o...   \n",
       "4  https://collection.sciencemuseumgroup.org.uk/o...   \n",
       "\n",
       "                                                text  \n",
       "0  Disc plough (African, Australian and South Ame...  \n",
       "1               Early English Rotherham plough, 1720  \n",
       "2               English general purpose plough, 1926  \n",
       "3                              Ceylon plough (model)  \n",
       "4  Skylark stage 1 attitude control bay (serial N...  "
      ]
     },
     "execution_count": 4,
     "metadata": {},
     "output_type": "execute_result"
    }
   ],
   "source": [
    "data = load_data(\"../data/text_all.json\")\n",
    "data.head()"
   ]
  },
  {
   "cell_type": "markdown",
   "metadata": {},
   "source": [
    "## 2. Process Text"
   ]
  },
  {
   "cell_type": "markdown",
   "metadata": {},
   "source": [
    "### 2.1 Remove text in brackets, URLs and multiple consecutive uppercase words"
   ]
  },
  {
   "cell_type": "code",
   "execution_count": 5,
   "metadata": {},
   "outputs": [
    {
     "data": {
      "text/plain": [
       "\"Disc plough 'ADA' LOVELACE\""
      ]
     },
     "execution_count": 5,
     "metadata": {},
     "output_type": "execute_result"
    }
   ],
   "source": [
    "def process_text(text):\n",
    "    # remove brackets and text inside them\n",
    "    text = re.sub(\"[\\(\\[].*?[\\)\\]]\", \"\", text)\n",
    "    \n",
    "    # normalise quote marks\n",
    "    text = re.sub(\"`\", \"'\", text)\n",
    "    \n",
    "    doc = nlp(text)\n",
    "    \n",
    "    remove_idxs = []\n",
    "    \n",
    "    idx = 0\n",
    "    while idx < len(doc):\n",
    "        token = doc[idx]\n",
    "        \n",
    "        # remove urls\n",
    "        if token.like_url:\n",
    "            remove_idxs.append(idx)\n",
    "        \n",
    "        # remove multiple consecutive uppercase tokens\n",
    "        elif token.is_upper and idx != len(doc) - 1:\n",
    "            if doc[idx+1].is_upper or doc[idx+1].is_digit:\n",
    "                remove_idxs += [idx, idx+1]\n",
    "        \n",
    "        idx += 1\n",
    "    \n",
    "    return \"\".join([token.text_with_ws for idx, token in enumerate(doc) if idx not in remove_idxs])\n",
    "\n",
    "process_text(data.loc[0, 'text'] + 'http://wikidata.org' + \" 'ADA' LOVELACE\")"
   ]
  },
  {
   "cell_type": "code",
   "execution_count": 6,
   "metadata": {},
   "outputs": [
    {
     "name": "stderr",
     "output_type": "stream",
     "text": [
      "100%|██████████| 291620/291620 [01:26<00:00, 3368.64it/s]\n"
     ]
    }
   ],
   "source": [
    "data['text'] = data['text'].progress_apply(process_text)"
   ]
  },
  {
   "cell_type": "code",
   "execution_count": 7,
   "metadata": {},
   "outputs": [
    {
     "data": {
      "text/html": [
       "<div>\n",
       "<style scoped>\n",
       "    .dataframe tbody tr th:only-of-type {\n",
       "        vertical-align: middle;\n",
       "    }\n",
       "\n",
       "    .dataframe tbody tr th {\n",
       "        vertical-align: top;\n",
       "    }\n",
       "\n",
       "    .dataframe thead th {\n",
       "        text-align: right;\n",
       "    }\n",
       "</style>\n",
       "<table border=\"1\" class=\"dataframe\">\n",
       "  <thead>\n",
       "    <tr style=\"text-align: right;\">\n",
       "      <th></th>\n",
       "      <th>uri</th>\n",
       "      <th>text</th>\n",
       "    </tr>\n",
       "  </thead>\n",
       "  <tbody>\n",
       "    <tr>\n",
       "      <th>0</th>\n",
       "      <td>https://collection.sciencemuseumgroup.org.uk/o...</td>\n",
       "      <td>Disc plough</td>\n",
       "    </tr>\n",
       "    <tr>\n",
       "      <th>1</th>\n",
       "      <td>https://collection.sciencemuseumgroup.org.uk/o...</td>\n",
       "      <td>Early English Rotherham plough, 1720</td>\n",
       "    </tr>\n",
       "    <tr>\n",
       "      <th>2</th>\n",
       "      <td>https://collection.sciencemuseumgroup.org.uk/o...</td>\n",
       "      <td>English general purpose plough, 1926</td>\n",
       "    </tr>\n",
       "    <tr>\n",
       "      <th>3</th>\n",
       "      <td>https://collection.sciencemuseumgroup.org.uk/o...</td>\n",
       "      <td>Ceylon plough</td>\n",
       "    </tr>\n",
       "    <tr>\n",
       "      <th>4</th>\n",
       "      <td>https://collection.sciencemuseumgroup.org.uk/o...</td>\n",
       "      <td>Skylark stage 1 attitude control bay  and pneu...</td>\n",
       "    </tr>\n",
       "  </tbody>\n",
       "</table>\n",
       "</div>"
      ],
      "text/plain": [
       "                                                 uri  \\\n",
       "0  https://collection.sciencemuseumgroup.org.uk/o...   \n",
       "1  https://collection.sciencemuseumgroup.org.uk/o...   \n",
       "2  https://collection.sciencemuseumgroup.org.uk/o...   \n",
       "3  https://collection.sciencemuseumgroup.org.uk/o...   \n",
       "4  https://collection.sciencemuseumgroup.org.uk/o...   \n",
       "\n",
       "                                                text  \n",
       "0                                       Disc plough   \n",
       "1               Early English Rotherham plough, 1720  \n",
       "2               English general purpose plough, 1926  \n",
       "3                                     Ceylon plough   \n",
       "4  Skylark stage 1 attitude control bay  and pneu...  "
      ]
     },
     "execution_count": 7,
     "metadata": {},
     "output_type": "execute_result"
    }
   ],
   "source": [
    "data.head()"
   ]
  },
  {
   "cell_type": "markdown",
   "metadata": {},
   "source": [
    "### 2.2 Filter text length"
   ]
  },
  {
   "cell_type": "code",
   "execution_count": 8,
   "metadata": {},
   "outputs": [
    {
     "data": {
      "text/plain": [
       "(0.0, 100.0)"
      ]
     },
     "execution_count": 8,
     "metadata": {},
     "output_type": "execute_result"
    },
    {
     "data": {
      "image/png": "[encoded data removed]",
      "text/plain": [
       "<Figure size 360x360 with 1 Axes>"
      ]
     },
     "metadata": {
      "needs_background": "light"
     },
     "output_type": "display_data"
    }
   ],
   "source": [
    "sns.displot(data['text'].apply(lambda i: len(i.split(\" \"))), kde=False)\n",
    "plt.xlim(0, 100)"
   ]
  },
  {
   "cell_type": "code",
   "execution_count": 9,
   "metadata": {},
   "outputs": [
    {
     "name": "stdout",
     "output_type": "stream",
     "text": [
      "198501\n"
     ]
    },
    {
     "data": {
      "image/png": "[encoded data removed]",
      "text/plain": [
       "<Figure size 360x360 with 1 Axes>"
      ]
     },
     "metadata": {
      "needs_background": "light"
     },
     "output_type": "display_data"
    }
   ],
   "source": [
    "min_length = 10\n",
    "max_length = 50\n",
    "\n",
    "data_filtered = data.copy()\n",
    "data_filtered['text_len'] = data_filtered['text'].apply(lambda i: len(i.split(\" \")))\n",
    "data_filtered = data_filtered.loc[(data_filtered['text_len'] >= min_length) & (data_filtered['text_len'] < max_length), ['uri', 'text']]\n",
    "\n",
    "sns.displot(data_filtered['text'].apply(lambda i: len(i.split(\" \"))), kde=False)\n",
    "plt.xlim(0, 100)\n",
    "print(len(data_filtered))"
   ]
  },
  {
   "cell_type": "markdown",
   "metadata": {},
   "source": [
    "## Export data"
   ]
  },
  {
   "cell_type": "code",
   "execution_count": 10,
   "metadata": {},
   "outputs": [],
   "source": [
    "num_export = 750"
   ]
  },
  {
   "cell_type": "code",
   "execution_count": 11,
   "metadata": {},
   "outputs": [],
   "source": [
    "data_filtered.sample(num_export, random_state=42).to_json(f\"../data/text_processed_{num_export}.json\", orient='records')"
   ]
  },
  {
   "cell_type": "code",
   "execution_count": null,
   "metadata": {},
   "outputs": [],
   "source": []
  }
 ],
 "metadata": {
  "kernelspec": {
   "display_name": "Python 3",
   "language": "python",
   "name": "python3"
  },
  "language_info": {
   "codemirror_mode": {
    "name": "ipython",
    "version": 3
   },
   "file_extension": ".py",
   "mimetype": "text/x-python",
   "name": "python",
   "nbconvert_exporter": "python",
   "pygments_lexer": "ipython3",
   "version": "3.7.4"
  }
 },
 "nbformat": 4,
 "nbformat_minor": 4
}
