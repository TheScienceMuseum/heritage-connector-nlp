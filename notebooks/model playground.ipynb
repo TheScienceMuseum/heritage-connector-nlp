{
 "cells": [
  {
   "cell_type": "markdown",
   "metadata": {},
   "source": [
    "# Model Playground\n",
    "For experimenting with `hc-nlp`'s best model."
   ]
  },
  {
   "cell_type": "code",
   "execution_count": 1,
   "metadata": {},
   "outputs": [],
   "source": [
    "%load_ext autoreload\n",
    "%autoreload 2\n",
    "\n",
    "import sys\n",
    "sys.path.append(\"..\")\n",
    "\n",
    "import spacy\n",
    "from hc_nlp import pipeline, constants\n",
    "\n",
    "def load_augmented_model(thesaurus_path: str, model_type: str = \"en_core_web_trf\"):\n",
    "    nlp = spacy.load(model_type)\n",
    "    \n",
    "    nlp.add_pipe('date_matcher', before='ner')\n",
    "    nlp.add_pipe('pattern_matcher', before='date_matcher', config={\"patterns\": constants.COLLECTION_NAME_PATTERNS})\n",
    "    nlp.add_pipe('thesaurus_matcher', config={\"case_sensitive\": False, \"overwrite_ents\": False, \"thesaurus_path\":thesaurus_path}, after='ner')\n",
    "    nlp.add_pipe('entity_filter', config={\"ent_labels_ignore\": [\"DATE\"]}, last=True)\n",
    "    nlp.add_pipe('map_entity_types', last=True)\n",
    "\n",
    "    return nlp"
   ]
  },
  {
   "cell_type": "code",
   "execution_count": 2,
   "metadata": {},
   "outputs": [
    {
     "name": "stdout",
     "output_type": "stream",
     "text": [
      "2021-01-21 12:47:14,412 - hc_nlp.pipeline - INFO - Loading thesaurus from ../data/labels_all_unambiguous_types_people_orgs.jsonl\n",
      "2021-01-21 12:47:16,886 - hc_nlp.pipeline - INFO - 17016 term thesaurus imported in 2s\n"
     ]
    },
    {
     "data": {
      "text/plain": [
       "(['transformer',\n",
       "  'tagger',\n",
       "  'parser',\n",
       "  'ner',\n",
       "  'attribute_ruler',\n",
       "  'lemmatizer',\n",
       "  'map_entity_types'],\n",
       " ['transformer',\n",
       "  'tagger',\n",
       "  'parser',\n",
       "  'pattern_matcher',\n",
       "  'date_matcher',\n",
       "  'ner',\n",
       "  'thesaurus_matcher',\n",
       "  'attribute_ruler',\n",
       "  'lemmatizer',\n",
       "  'entity_filter',\n",
       "  'map_entity_types'])"
      ]
     },
     "execution_count": 2,
     "metadata": {},
     "output_type": "execute_result"
    }
   ],
   "source": [
    "nlp = spacy.load(\"en_core_web_trf\")\n",
    "nlp.add_pipe('map_entity_types', last=True)\n",
    "\n",
    "nlp_aug = load_augmented_model(\"../data/labels_all_unambiguous_types_people_orgs.jsonl\")\n",
    "\n",
    "nlp.pipe_names, nlp_aug.pipe_names"
   ]
  },
  {
   "cell_type": "markdown",
   "metadata": {},
   "source": [
    "---"
   ]
  },
  {
   "cell_type": "markdown",
   "metadata": {},
   "source": [
    "## text"
   ]
  },
  {
   "cell_type": "code",
   "execution_count": 3,
   "metadata": {},
   "outputs": [],
   "source": [
    "text = \"\"\"\n",
    "Illuminated album presented to Mr Joseph Henry Morton, born in London, on his retirement from the London & North Eastern Railway after 51 years faithful service, 31 March 1924. Green leather bound book inscribed with the signatures of those who identified themselves with the presentation.\n",
    "\"\"\""
   ]
  },
  {
   "cell_type": "markdown",
   "metadata": {},
   "source": [
    "## base model"
   ]
  },
  {
   "cell_type": "code",
   "execution_count": 4,
   "metadata": {},
   "outputs": [
    {
     "data": {
      "text/html": [
       "<span class=\"tex2jax_ignore\"><div class=\"entities\" style=\"line-height: 2.5; direction: ltr\"></br>Illuminated album presented to Mr \n",
       "<mark class=\"entity\" style=\"background: #aa9cfc; padding: 0.45em 0.6em; margin: 0 0.25em; line-height: 1; border-radius: 0.35em;\">\n",
       "    Joseph Henry Morton\n",
       "    <span style=\"font-size: 0.8em; font-weight: bold; line-height: 1; border-radius: 0.35em; vertical-align: middle; margin-left: 0.5rem\">PERSON</span>\n",
       "</mark>\n",
       ", born in \n",
       "<mark class=\"entity\" style=\"background: #ff9561; padding: 0.45em 0.6em; margin: 0 0.25em; line-height: 1; border-radius: 0.35em;\">\n",
       "    London\n",
       "    <span style=\"font-size: 0.8em; font-weight: bold; line-height: 1; border-radius: 0.35em; vertical-align: middle; margin-left: 0.5rem\">LOC</span>\n",
       "</mark>\n",
       ", on his retirement from \n",
       "<mark class=\"entity\" style=\"background: #7aecec; padding: 0.45em 0.6em; margin: 0 0.25em; line-height: 1; border-radius: 0.35em;\">\n",
       "    the London &amp; North Eastern Railway\n",
       "    <span style=\"font-size: 0.8em; font-weight: bold; line-height: 1; border-radius: 0.35em; vertical-align: middle; margin-left: 0.5rem\">ORG</span>\n",
       "</mark>\n",
       " after \n",
       "<mark class=\"entity\" style=\"background: #bfe1d9; padding: 0.45em 0.6em; margin: 0 0.25em; line-height: 1; border-radius: 0.35em;\">\n",
       "    51 years\n",
       "    <span style=\"font-size: 0.8em; font-weight: bold; line-height: 1; border-radius: 0.35em; vertical-align: middle; margin-left: 0.5rem\">DATE</span>\n",
       "</mark>\n",
       " faithful service, \n",
       "<mark class=\"entity\" style=\"background: #bfe1d9; padding: 0.45em 0.6em; margin: 0 0.25em; line-height: 1; border-radius: 0.35em;\">\n",
       "    31 March 1924\n",
       "    <span style=\"font-size: 0.8em; font-weight: bold; line-height: 1; border-radius: 0.35em; vertical-align: middle; margin-left: 0.5rem\">DATE</span>\n",
       "</mark>\n",
       ". Green leather bound book inscribed with the signatures of those who identified themselves with the presentation.</br></div></span>"
      ],
      "text/plain": [
       "<IPython.core.display.HTML object>"
      ]
     },
     "metadata": {},
     "output_type": "display_data"
    }
   ],
   "source": [
    "doc = nlp(text)\n",
    "\n",
    "spacy.displacy.render(doc, style='ent')"
   ]
  },
  {
   "cell_type": "code",
   "execution_count": 5,
   "metadata": {},
   "outputs": [
    {
     "data": {
      "text/plain": [
       "['Joseph Henry Morton',\n",
       " 'London',\n",
       " 'the London & North Eastern Railway',\n",
       " '51 years',\n",
       " '31 March 1924']"
      ]
     },
     "execution_count": 5,
     "metadata": {},
     "output_type": "execute_result"
    }
   ],
   "source": [
    "[ent.text for ent in doc.ents]"
   ]
  },
  {
   "cell_type": "markdown",
   "metadata": {},
   "source": [
    "## augmented model"
   ]
  },
  {
   "cell_type": "code",
   "execution_count": 6,
   "metadata": {},
   "outputs": [
    {
     "name": "stdout",
     "output_type": "stream",
     "text": [
      "['Joseph Henry Morton', 'London', 'the London & North Eastern Railway', '31 March 1924']\n"
     ]
    },
    {
     "data": {
      "text/html": [
       "<span class=\"tex2jax_ignore\"><div class=\"entities\" style=\"line-height: 2.5; direction: ltr\"></br>Illuminated album presented to Mr \n",
       "<mark class=\"entity\" style=\"background: #aa9cfc; padding: 0.45em 0.6em; margin: 0 0.25em; line-height: 1; border-radius: 0.35em;\">\n",
       "    Joseph Henry Morton\n",
       "    <span style=\"font-size: 0.8em; font-weight: bold; line-height: 1; border-radius: 0.35em; vertical-align: middle; margin-left: 0.5rem\">PERSON</span>\n",
       "</mark>\n",
       ", born in \n",
       "<mark class=\"entity\" style=\"background: #ff9561; padding: 0.45em 0.6em; margin: 0 0.25em; line-height: 1; border-radius: 0.35em;\">\n",
       "    London\n",
       "    <span style=\"font-size: 0.8em; font-weight: bold; line-height: 1; border-radius: 0.35em; vertical-align: middle; margin-left: 0.5rem\">LOC</span>\n",
       "</mark>\n",
       ", on his retirement from \n",
       "<mark class=\"entity\" style=\"background: #7aecec; padding: 0.45em 0.6em; margin: 0 0.25em; line-height: 1; border-radius: 0.35em;\">\n",
       "    the London &amp; North Eastern Railway\n",
       "    <span style=\"font-size: 0.8em; font-weight: bold; line-height: 1; border-radius: 0.35em; vertical-align: middle; margin-left: 0.5rem\">ORG</span>\n",
       "</mark>\n",
       " after 51 years faithful service, \n",
       "<mark class=\"entity\" style=\"background: #bfe1d9; padding: 0.45em 0.6em; margin: 0 0.25em; line-height: 1; border-radius: 0.35em;\">\n",
       "    31 March 1924\n",
       "    <span style=\"font-size: 0.8em; font-weight: bold; line-height: 1; border-radius: 0.35em; vertical-align: middle; margin-left: 0.5rem\">DATE</span>\n",
       "</mark>\n",
       ". Green leather bound book inscribed with the signatures of those who identified themselves with the presentation.</br></div></span>"
      ],
      "text/plain": [
       "<IPython.core.display.HTML object>"
      ]
     },
     "metadata": {},
     "output_type": "display_data"
    }
   ],
   "source": [
    "doc_aug = nlp_aug(text)\n",
    "\n",
    "print([ent.text for ent in doc_aug.ents])\n",
    "spacy.displacy.render(doc_aug, style='ent')"
   ]
  },
  {
   "cell_type": "code",
   "execution_count": 7,
   "metadata": {},
   "outputs": [
    {
     "data": {
      "text/plain": [
       "[('Joseph Henry Morton', 6, 9, Mr),\n",
       " ('London', 12, 13, in),\n",
       " ('the London & North Eastern Railway', 18, 24, from),\n",
       " ('51 years', 25, 27, after),\n",
       " ('31 March 1924', 30, 33, ,)]"
      ]
     },
     "execution_count": 7,
     "metadata": {},
     "output_type": "execute_result"
    }
   ],
   "source": [
    "[(ent.text, ent.start, ent.end, doc[ent.start - 1]) for ent in doc.ents]"
   ]
  },
  {
   "cell_type": "markdown",
   "metadata": {},
   "source": [
    "---"
   ]
  },
  {
   "cell_type": "markdown",
   "metadata": {},
   "source": [
    "# test model"
   ]
  },
  {
   "cell_type": "code",
   "execution_count": 8,
   "metadata": {},
   "outputs": [],
   "source": [
    "from hc_nlp.io import load_text_and_annotations_from_labelstudio\n",
    "from hc_nlp.model_testing import test_ner\n",
    "import pandas as pd\n",
    "import time\n",
    "\n",
    "def generate_results_table(pipelines: dict, examples: list):\n",
    "    results = pd.DataFrame()\n",
    "    times = dict()\n",
    "    for name, p in pipelines.items():\n",
    "        start = time.time()\n",
    "        temp_res = pd.json_normalize(test_ner(p, examples=examples))\n",
    "        end = time.time()\n",
    "        temp_res['pipeline'] = name\n",
    "        \n",
    "        results = results.append(temp_res)\n",
    "        times[name] = end-start\n",
    "        print(f\"{name}: {int(end-start)}s\")\n",
    "        \n",
    "    results = results.set_index('pipeline')\n",
    "    \n",
    "    return results, times\n"
   ]
  },
  {
   "cell_type": "code",
   "execution_count": 9,
   "metadata": {},
   "outputs": [],
   "source": [
    "data = load_text_and_annotations_from_labelstudio(\"../labelling/export/2020-12-10-12-43-04.zip\", nlp)\n"
   ]
  },
  {
   "cell_type": "code",
   "execution_count": 10,
   "metadata": {},
   "outputs": [
    {
     "name": "stdout",
     "output_type": "stream",
     "text": [
      "Failed:  Poster, London & North Eastern Railway, Bamburgh by Tom Purvis, 1936. Coloured lithograph depicting a stylised view of the coast with Bamburgh castle, the beach and village. Printed by Chorley & Pickersgill Ltd, Lithographers, Leeds. Format: double royal. Dimensions: 40 x 25 inches, 1016 x 635mm.\n",
      "[E103] Trying to set conflicting doc.ents: '(40, 48, 'LOC')' and '(40, 51, 'NORP')'. A token can only be part of one entity, so make sure the entities you're setting don't overlap.\n",
      "Failed:  Glass bottle containing unknown grey, metallic-looking powder. Part of Statham's student chemical laboratory.\n",
      "[E103] Trying to set conflicting doc.ents: '(71, 78, 'PERSON')' and '(71, 78, 'ORG')'. A token can only be part of one entity, so make sure the entities you're setting don't overlap.\n",
      "Failed:  Bone gouge probably by McQueen of Newcastle, England, late 19th early 20th century, nickel plated steel, handle probably brass, nickel plated\n",
      "[E103] Trying to set conflicting doc.ents: '(23, 43, 'ORG')' and '(34, 43, 'LOC')'. A token can only be part of one entity, so make sure the entities you're setting don't overlap.\n",
      "Failed:  British War Medal 1914-1920, silver, ribbon missing, awarded to Pte A.J. Walker, of for services during 1st World War, designed by B.M., English, 1918-1920\n",
      "[E103] Trying to set conflicting doc.ents: '(0, 22, 'EVENT')' and '(18, 27, 'DATE')'. A token can only be part of one entity, so make sure the entities you're setting don't overlap.\n",
      "Failed:  Poster,  Travel in Style - Leeds-Settle-Carlisle - On the Metro - Pullman Steam Excursion with 4498 Sir Nigel Gresley, Saturday 18 June 1988.  Sponsored by West Yorkshire Passenger Transport Authority.  Illustration of train passing over viaduct.\n",
      "[E103] Trying to set conflicting doc.ents: '(119, 130, 'DATE')' and '(128, 140, 'DATE')'. A token can only be part of one entity, so make sure the entities you're setting don't overlap.\n",
      "Failed:  Vintage silver gelatin print by George Davison, mounted on card. Titled \"Entrance to Lowestoft Harbour\", this image was displayed in the Photographic Society of Great Britain exhibition of 1886.\n",
      "[E103] Trying to set conflicting doc.ents: '(133, 174, 'ORG')' and '(133, 185, 'ORG')'. A token can only be part of one entity, so make sure the entities you're setting don't overlap.\n",
      "core: 66s\n",
      "Failed:  Poster, London & North Eastern Railway, Bamburgh by Tom Purvis, 1936. Coloured lithograph depicting a stylised view of the coast with Bamburgh castle, the beach and village. Printed by Chorley & Pickersgill Ltd, Lithographers, Leeds. Format: double royal. Dimensions: 40 x 25 inches, 1016 x 635mm.\n",
      "[E103] Trying to set conflicting doc.ents: '(40, 48, 'LOC')' and '(40, 51, 'NORP')'. A token can only be part of one entity, so make sure the entities you're setting don't overlap.\n",
      "Failed:  Glass bottle containing unknown grey, metallic-looking powder. Part of Statham's student chemical laboratory.\n",
      "[E103] Trying to set conflicting doc.ents: '(71, 78, 'PERSON')' and '(71, 78, 'ORG')'. A token can only be part of one entity, so make sure the entities you're setting don't overlap.\n",
      "Failed:  Bone gouge probably by McQueen of Newcastle, England, late 19th early 20th century, nickel plated steel, handle probably brass, nickel plated\n",
      "[E103] Trying to set conflicting doc.ents: '(23, 43, 'ORG')' and '(34, 43, 'LOC')'. A token can only be part of one entity, so make sure the entities you're setting don't overlap.\n",
      "Failed:  British War Medal 1914-1920, silver, ribbon missing, awarded to Pte A.J. Walker, of for services during 1st World War, designed by B.M., English, 1918-1920\n",
      "[E103] Trying to set conflicting doc.ents: '(0, 22, 'EVENT')' and '(18, 27, 'DATE')'. A token can only be part of one entity, so make sure the entities you're setting don't overlap.\n",
      "Failed:  Poster,  Travel in Style - Leeds-Settle-Carlisle - On the Metro - Pullman Steam Excursion with 4498 Sir Nigel Gresley, Saturday 18 June 1988.  Sponsored by West Yorkshire Passenger Transport Authority.  Illustration of train passing over viaduct.\n",
      "[E103] Trying to set conflicting doc.ents: '(119, 130, 'DATE')' and '(128, 140, 'DATE')'. A token can only be part of one entity, so make sure the entities you're setting don't overlap.\n",
      "Failed:  Vintage silver gelatin print by George Davison, mounted on card. Titled \"Entrance to Lowestoft Harbour\", this image was displayed in the Photographic Society of Great Britain exhibition of 1886.\n",
      "[E103] Trying to set conflicting doc.ents: '(133, 174, 'ORG')' and '(133, 185, 'ORG')'. A token can only be part of one entity, so make sure the entities you're setting don't overlap.\n",
      "augmented: 612s\n"
     ]
    },
    {
     "data": {
      "text/html": [
       "<div>\n",
       "<style scoped>\n",
       "    .dataframe tbody tr th:only-of-type {\n",
       "        vertical-align: middle;\n",
       "    }\n",
       "\n",
       "    .dataframe tbody tr th {\n",
       "        vertical-align: top;\n",
       "    }\n",
       "\n",
       "    .dataframe thead th {\n",
       "        text-align: right;\n",
       "    }\n",
       "</style>\n",
       "<table border=\"1\" class=\"dataframe\">\n",
       "  <thead>\n",
       "    <tr style=\"text-align: right;\">\n",
       "      <th>pipeline</th>\n",
       "      <th>core</th>\n",
       "      <th>augmented</th>\n",
       "    </tr>\n",
       "  </thead>\n",
       "  <tbody>\n",
       "    <tr>\n",
       "      <th>ents_p</th>\n",
       "      <td>0.602317</td>\n",
       "      <td>0.646254</td>\n",
       "    </tr>\n",
       "    <tr>\n",
       "      <th>ents_r</th>\n",
       "      <td>0.731903</td>\n",
       "      <td>0.728552</td>\n",
       "    </tr>\n",
       "    <tr>\n",
       "      <th>ents_f</th>\n",
       "      <td>0.660817</td>\n",
       "      <td>0.68494</td>\n",
       "    </tr>\n",
       "    <tr>\n",
       "      <th>support</th>\n",
       "      <td>1549</td>\n",
       "      <td>1549</td>\n",
       "    </tr>\n",
       "    <tr>\n",
       "      <th>labels_missing_from_annotations</th>\n",
       "      <td>[CARDINAL, ORDINAL, TIME, QUANTITY, LANGUAGE, ...</td>\n",
       "      <td>[CARDINAL, ORDINAL, TIME, QUANTITY, LANGUAGE, ...</td>\n",
       "    </tr>\n",
       "    <tr>\n",
       "      <th>ents_per_type.LOC.p</th>\n",
       "      <td>0.893238</td>\n",
       "      <td>0.896057</td>\n",
       "    </tr>\n",
       "    <tr>\n",
       "      <th>ents_per_type.LOC.r</th>\n",
       "      <td>0.801917</td>\n",
       "      <td>0.798722</td>\n",
       "    </tr>\n",
       "    <tr>\n",
       "      <th>ents_per_type.LOC.f</th>\n",
       "      <td>0.845118</td>\n",
       "      <td>0.844595</td>\n",
       "    </tr>\n",
       "    <tr>\n",
       "      <th>ents_per_type.LOC.support</th>\n",
       "      <td>322</td>\n",
       "      <td>322</td>\n",
       "    </tr>\n",
       "    <tr>\n",
       "      <th>ents_per_type.ORG.p</th>\n",
       "      <td>0.612745</td>\n",
       "      <td>0.615385</td>\n",
       "    </tr>\n",
       "    <tr>\n",
       "      <th>ents_per_type.ORG.r</th>\n",
       "      <td>0.657895</td>\n",
       "      <td>0.652632</td>\n",
       "    </tr>\n",
       "    <tr>\n",
       "      <th>ents_per_type.ORG.f</th>\n",
       "      <td>0.634518</td>\n",
       "      <td>0.633461</td>\n",
       "    </tr>\n",
       "    <tr>\n",
       "      <th>ents_per_type.ORG.support</th>\n",
       "      <td>396</td>\n",
       "      <td>396</td>\n",
       "    </tr>\n",
       "    <tr>\n",
       "      <th>ents_per_type.DATE.p</th>\n",
       "      <td>0.912234</td>\n",
       "      <td>0.893229</td>\n",
       "    </tr>\n",
       "    <tr>\n",
       "      <th>ents_per_type.DATE.r</th>\n",
       "      <td>0.914667</td>\n",
       "      <td>0.914667</td>\n",
       "    </tr>\n",
       "    <tr>\n",
       "      <th>ents_per_type.DATE.f</th>\n",
       "      <td>0.913449</td>\n",
       "      <td>0.903821</td>\n",
       "    </tr>\n",
       "    <tr>\n",
       "      <th>ents_per_type.DATE.support</th>\n",
       "      <td>392</td>\n",
       "      <td>392</td>\n",
       "    </tr>\n",
       "    <tr>\n",
       "      <th>ents_per_type.OBJECT.p</th>\n",
       "      <td>0.22619</td>\n",
       "      <td>0.24359</td>\n",
       "    </tr>\n",
       "    <tr>\n",
       "      <th>ents_per_type.OBJECT.r</th>\n",
       "      <td>0.182692</td>\n",
       "      <td>0.182692</td>\n",
       "    </tr>\n",
       "    <tr>\n",
       "      <th>ents_per_type.OBJECT.f</th>\n",
       "      <td>0.202128</td>\n",
       "      <td>0.208791</td>\n",
       "    </tr>\n",
       "    <tr>\n",
       "      <th>ents_per_type.OBJECT.support</th>\n",
       "      <td>106</td>\n",
       "      <td>106</td>\n",
       "    </tr>\n",
       "    <tr>\n",
       "      <th>ents_per_type.PERSON.p</th>\n",
       "      <td>0.752874</td>\n",
       "      <td>0.766082</td>\n",
       "    </tr>\n",
       "    <tr>\n",
       "      <th>ents_per_type.PERSON.r</th>\n",
       "      <td>0.711957</td>\n",
       "      <td>0.711957</td>\n",
       "    </tr>\n",
       "    <tr>\n",
       "      <th>ents_per_type.PERSON.f</th>\n",
       "      <td>0.731844</td>\n",
       "      <td>0.738028</td>\n",
       "    </tr>\n",
       "    <tr>\n",
       "      <th>ents_per_type.PERSON.support</th>\n",
       "      <td>192</td>\n",
       "      <td>192</td>\n",
       "    </tr>\n",
       "    <tr>\n",
       "      <th>ents_per_type.NORP.p</th>\n",
       "      <td>0.886792</td>\n",
       "      <td>0.893204</td>\n",
       "    </tr>\n",
       "    <tr>\n",
       "      <th>ents_per_type.NORP.r</th>\n",
       "      <td>0.810345</td>\n",
       "      <td>0.793103</td>\n",
       "    </tr>\n",
       "    <tr>\n",
       "      <th>ents_per_type.NORP.f</th>\n",
       "      <td>0.846847</td>\n",
       "      <td>0.840183</td>\n",
       "    </tr>\n",
       "    <tr>\n",
       "      <th>ents_per_type.NORP.support</th>\n",
       "      <td>118</td>\n",
       "      <td>118</td>\n",
       "    </tr>\n",
       "    <tr>\n",
       "      <th>ents_per_type.EVENT.p</th>\n",
       "      <td>0.8</td>\n",
       "      <td>0.8</td>\n",
       "    </tr>\n",
       "    <tr>\n",
       "      <th>ents_per_type.EVENT.r</th>\n",
       "      <td>0.2</td>\n",
       "      <td>0.2</td>\n",
       "    </tr>\n",
       "    <tr>\n",
       "      <th>ents_per_type.EVENT.f</th>\n",
       "      <td>0.32</td>\n",
       "      <td>0.32</td>\n",
       "    </tr>\n",
       "    <tr>\n",
       "      <th>ents_per_type.EVENT.support</th>\n",
       "      <td>23</td>\n",
       "      <td>23</td>\n",
       "    </tr>\n",
       "  </tbody>\n",
       "</table>\n",
       "</div>"
      ],
      "text/plain": [
       "pipeline                                                                      core  \\\n",
       "ents_p                                                                    0.602317   \n",
       "ents_r                                                                    0.731903   \n",
       "ents_f                                                                    0.660817   \n",
       "support                                                                       1549   \n",
       "labels_missing_from_annotations  [CARDINAL, ORDINAL, TIME, QUANTITY, LANGUAGE, ...   \n",
       "ents_per_type.LOC.p                                                       0.893238   \n",
       "ents_per_type.LOC.r                                                       0.801917   \n",
       "ents_per_type.LOC.f                                                       0.845118   \n",
       "ents_per_type.LOC.support                                                      322   \n",
       "ents_per_type.ORG.p                                                       0.612745   \n",
       "ents_per_type.ORG.r                                                       0.657895   \n",
       "ents_per_type.ORG.f                                                       0.634518   \n",
       "ents_per_type.ORG.support                                                      396   \n",
       "ents_per_type.DATE.p                                                      0.912234   \n",
       "ents_per_type.DATE.r                                                      0.914667   \n",
       "ents_per_type.DATE.f                                                      0.913449   \n",
       "ents_per_type.DATE.support                                                     392   \n",
       "ents_per_type.OBJECT.p                                                     0.22619   \n",
       "ents_per_type.OBJECT.r                                                    0.182692   \n",
       "ents_per_type.OBJECT.f                                                    0.202128   \n",
       "ents_per_type.OBJECT.support                                                   106   \n",
       "ents_per_type.PERSON.p                                                    0.752874   \n",
       "ents_per_type.PERSON.r                                                    0.711957   \n",
       "ents_per_type.PERSON.f                                                    0.731844   \n",
       "ents_per_type.PERSON.support                                                   192   \n",
       "ents_per_type.NORP.p                                                      0.886792   \n",
       "ents_per_type.NORP.r                                                      0.810345   \n",
       "ents_per_type.NORP.f                                                      0.846847   \n",
       "ents_per_type.NORP.support                                                     118   \n",
       "ents_per_type.EVENT.p                                                          0.8   \n",
       "ents_per_type.EVENT.r                                                          0.2   \n",
       "ents_per_type.EVENT.f                                                         0.32   \n",
       "ents_per_type.EVENT.support                                                     23   \n",
       "\n",
       "pipeline                                                                 augmented  \n",
       "ents_p                                                                    0.646254  \n",
       "ents_r                                                                    0.728552  \n",
       "ents_f                                                                     0.68494  \n",
       "support                                                                       1549  \n",
       "labels_missing_from_annotations  [CARDINAL, ORDINAL, TIME, QUANTITY, LANGUAGE, ...  \n",
       "ents_per_type.LOC.p                                                       0.896057  \n",
       "ents_per_type.LOC.r                                                       0.798722  \n",
       "ents_per_type.LOC.f                                                       0.844595  \n",
       "ents_per_type.LOC.support                                                      322  \n",
       "ents_per_type.ORG.p                                                       0.615385  \n",
       "ents_per_type.ORG.r                                                       0.652632  \n",
       "ents_per_type.ORG.f                                                       0.633461  \n",
       "ents_per_type.ORG.support                                                      396  \n",
       "ents_per_type.DATE.p                                                      0.893229  \n",
       "ents_per_type.DATE.r                                                      0.914667  \n",
       "ents_per_type.DATE.f                                                      0.903821  \n",
       "ents_per_type.DATE.support                                                     392  \n",
       "ents_per_type.OBJECT.p                                                     0.24359  \n",
       "ents_per_type.OBJECT.r                                                    0.182692  \n",
       "ents_per_type.OBJECT.f                                                    0.208791  \n",
       "ents_per_type.OBJECT.support                                                   106  \n",
       "ents_per_type.PERSON.p                                                    0.766082  \n",
       "ents_per_type.PERSON.r                                                    0.711957  \n",
       "ents_per_type.PERSON.f                                                    0.738028  \n",
       "ents_per_type.PERSON.support                                                   192  \n",
       "ents_per_type.NORP.p                                                      0.893204  \n",
       "ents_per_type.NORP.r                                                      0.793103  \n",
       "ents_per_type.NORP.f                                                      0.840183  \n",
       "ents_per_type.NORP.support                                                     118  \n",
       "ents_per_type.EVENT.p                                                          0.8  \n",
       "ents_per_type.EVENT.r                                                          0.2  \n",
       "ents_per_type.EVENT.f                                                         0.32  \n",
       "ents_per_type.EVENT.support                                                     23  "
      ]
     },
     "execution_count": 10,
     "metadata": {},
     "output_type": "execute_result"
    }
   ],
   "source": [
    "res, times = generate_results_table({\"core\": nlp, \"augmented\": nlp_aug}, data)\n",
    "\n",
    "res.T"
   ]
  },
  {
   "cell_type": "code",
   "execution_count": null,
   "metadata": {},
   "outputs": [],
   "source": []
  }
 ],
 "metadata": {
  "kernelspec": {
   "display_name": "Python 3",
   "language": "python",
   "name": "python3"
  },
  "language_info": {
   "codemirror_mode": {
    "name": "ipython",
    "version": 3
   },
   "file_extension": ".py",
   "mimetype": "text/x-python",
   "name": "python",
   "nbconvert_exporter": "python",
   "pygments_lexer": "ipython3",
   "version": "3.7.3"
  }
 },
 "nbformat": 4,
 "nbformat_minor": 4
}
