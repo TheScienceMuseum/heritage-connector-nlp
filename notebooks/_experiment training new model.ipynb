{
 "cells": [
  {
   "cell_type": "markdown",
   "metadata": {},
   "source": [
    "# Training a new model\n"
   ]
  },
  {
   "cell_type": "code",
   "execution_count": 1,
   "metadata": {},
   "outputs": [],
   "source": [
    "%load_ext autoreload\n",
    "%autoreload 2\n",
    "\n",
    "import sys\n",
    "sys.path.append(\"..\")\n",
    "\n",
    "from hc_nlp.pipeline import ThesaurusMatcher, EntityFilter, MapEntityTypes, DateMatcher\n",
    "from hc_nlp.model_testing import test_ner\n",
    "from hc_nlp.io import load_text_and_annotations_from_labelstudio\n",
    "from hc_nlp.spacy_helpers import correct_entity_boundaries\n",
    "from hc_nlp import constants\n",
    "\n",
    "import pprint\n",
    "pp = pprint.PrettyPrinter(indent=2)\n",
    "\n",
    "import pandas as pd\n",
    "import time\n",
    "\n",
    "import random\n",
    "import warnings\n",
    "\n",
    "from tqdm.auto import tqdm\n",
    "\n",
    "import spacy\n",
    "from spacy.util import minibatch, compounding\n",
    "from spacy.training import Example\n"
   ]
  },
  {
   "cell_type": "code",
   "execution_count": 2,
   "metadata": {},
   "outputs": [],
   "source": [
    "nlp = spacy.load(\"en_core_web_lg\")"
   ]
  },
  {
   "cell_type": "markdown",
   "metadata": {},
   "source": [
    "## 1. Create training set\n",
    "This is all the data that isn't in the test set at `../data/TEST_SET_2020-12-10-12-43-04.zip`"
   ]
  },
  {
   "cell_type": "code",
   "execution_count": 3,
   "metadata": {},
   "outputs": [],
   "source": [
    "TEST_DATA = load_text_and_annotations_from_labelstudio('../data/TEST_SET_2020-12-10-12-43-04.zip', spacy_model=nlp)\n",
    "test_text = [i[0] for i in TEST_DATA]"
   ]
  },
  {
   "cell_type": "code",
   "execution_count": 4,
   "metadata": {},
   "outputs": [
    {
     "data": {
      "text/plain": [
       "(('Soup plate, white ceramic, Newhaven to Dieppe service logo at top. Made by C Mc D Mann & Co Ltd, Hanley. Overall: 44 mm x 253 mm, 0.73kg.',\n",
       "  [(97, 103, 'LOC'), (27, 35, 'LOC'), (39, 45, 'LOC'), (75, 95, 'ORG')]),\n",
       " 'Soup plate, white ceramic, Newhaven to Dieppe service logo at top. Made by C Mc D Mann & Co Ltd, Hanley. Overall: 44 mm x 253 mm, 0.73kg.')"
      ]
     },
     "execution_count": 4,
     "metadata": {},
     "output_type": "execute_result"
    }
   ],
   "source": [
    "TEST_DATA[0], test_text[0]"
   ]
  },
  {
   "cell_type": "code",
   "execution_count": 5,
   "metadata": {},
   "outputs": [],
   "source": [
    "text = pd.read_json(\"../data/text_all.json\")"
   ]
  },
  {
   "cell_type": "code",
   "execution_count": 6,
   "metadata": {},
   "outputs": [
    {
     "data": {
      "text/plain": [
       "(291620, 264098, 2297)"
      ]
     },
     "execution_count": 6,
     "metadata": {},
     "output_type": "execute_result"
    }
   ],
   "source": [
    "# text_test may contain duplicates as the descriptions come from labelled data, but text_train will not\n",
    "text_train = text[~text['text'].isin(test_text)].drop_duplicates(subset='text')\n",
    "text_test = text[text['text'].isin(test_text)]\n",
    "\n",
    "len(text), len(text_train), len(text_test)"
   ]
  },
  {
   "cell_type": "code",
   "execution_count": 7,
   "metadata": {},
   "outputs": [],
   "source": [
    "train_size = None\n",
    "\n",
    "text_train = text_train.sample(train_size, random_state=42) if train_size is not None else text_train"
   ]
  },
  {
   "cell_type": "markdown",
   "metadata": {},
   "source": [
    "## 2. Train new model\n",
    "\n",
    "### 2.1 Initialise model with rule- and thesaurus-based matching\n",
    "\n",
    "- `nlp` is our out-of-the-box model\n",
    "- `nlp_thes` is our model with the additional components"
   ]
  },
  {
   "cell_type": "code",
   "execution_count": 8,
   "metadata": {},
   "outputs": [
    {
     "name": "stdout",
     "output_type": "stream",
     "text": [
      "2021-01-07 15:53:21,212 - hc_nlp.pipeline - INFO - Loading thesaurus from ../data/labels_all_unambiguous_types_people_orgs.jsonl\n"
     ]
    },
    {
     "name": "stderr",
     "output_type": "stream",
     "text": [
      "Loading thesaurus from ../data/labels_all_unambiguous_types_people_orgs.jsonl\n"
     ]
    },
    {
     "name": "stdout",
     "output_type": "stream",
     "text": [
      "2021-01-07 15:53:23,493 - hc_nlp.pipeline - INFO - 17016 term thesaurus imported in 2s\n"
     ]
    },
    {
     "name": "stderr",
     "output_type": "stream",
     "text": [
      "17016 term thesaurus imported in 2s\n"
     ]
    },
    {
     "data": {
      "text/plain": [
       "(['tok2vec', 'tagger', 'parser', 'ner', 'attribute_ruler', 'lemmatizer'],\n",
       " ['tok2vec',\n",
       "  'tagger',\n",
       "  'parser',\n",
       "  'DateMatcher',\n",
       "  'ner',\n",
       "  'ThesaurusMatcher',\n",
       "  'attribute_ruler',\n",
       "  'lemmatizer',\n",
       "  'EntityFilter'])"
      ]
     },
     "execution_count": 8,
     "metadata": {},
     "output_type": "execute_result"
    }
   ],
   "source": [
    "# model with rules for dates before & thesaurus after, with overwrite\n",
    "# thes_ow = ThesaurusMatcher(nlp, thesaurus_path=\"../data/labels_all_unambiguous_types_people_orgs.jsonl\", \n",
    "#                                   case_sensitive=False, overwrite_ents=True)\n",
    "# entityfilter = EntityFilter(ent_labels_ignore=['DATE'])\n",
    "# mapentitytypes = MapEntityTypes(nlp, validate_mapping=False)\n",
    "\n",
    "nlp_thes = spacy.load(\"en_core_web_lg\")\n",
    "nlp_thes.add_pipe('DateMatcher', before='ner')\n",
    "nlp_thes.add_pipe('ThesaurusMatcher', config={\"case_sensitive\": False, \"overwrite_ents\": True, \"thesaurus_path\":\"../data/labels_all_unambiguous_types_people_orgs.jsonl\"}, after='ner')\n",
    "nlp_thes.add_pipe('EntityFilter', config={\"ent_labels_ignore\": [\"DATE\"]}, last=True)\n",
    "# nlp_thes.add_pipe(mapentitytypes)\n",
    "\n",
    "# nlp.add_pipe(mapentitytypes)\n",
    "\n",
    "nlp.pipe_names, nlp_thes.pipe_names"
   ]
  },
  {
   "cell_type": "markdown",
   "metadata": {},
   "source": [
    "### 2.2 Create training data"
   ]
  },
  {
   "cell_type": "code",
   "execution_count": 9,
   "metadata": {},
   "outputs": [
    {
     "data": {
      "text/plain": [
       "[(7, 17, 'PERSON')]"
      ]
     },
     "execution_count": 9,
     "metadata": {},
     "output_type": "execute_result"
    }
   ],
   "source": [
    "def get_entity_list(doc, correct=True):\n",
    "    entity_list = []\n",
    "    \n",
    "    for ent in doc.ents:\n",
    "        start = doc[ent.start].idx\n",
    "\n",
    "        # TODO: correct end in hc-nlp\n",
    "        end = doc[ent.end-1].idx + len(doc[ent.end-1].text)\n",
    "        entity_list.append((start, end, ent.label_))\n",
    "        \n",
    "    if correct:\n",
    "        entity_list_old = entity_list\n",
    "        entity_list = correct_entity_boundaries(nlp, doc.text, entity_list)\n",
    "\n",
    "        if entity_list_old != entity_list:\n",
    "            print(entity_list_old, entity_list, doc.text)\n",
    "\n",
    "    return entity_list\n",
    "\n",
    "text = \"Who is Shaka Khan?\"\n",
    "doc = nlp_thes(text)\n",
    "\n",
    "get_entity_list(doc)"
   ]
  },
  {
   "cell_type": "code",
   "execution_count": 10,
   "metadata": {},
   "outputs": [
    {
     "name": "stdout",
     "output_type": "stream",
     "text": [
      "[(123, 142, 'ORG')] [(130, 141, 'ORG')] Window, showing figure of St.Paul when viewed through polaroid screens. (includes illuminating box and 2 viewing screens):Children's Gallery: Polarised Light (St. Pauls Window).\n",
      "5000 records created in 55 seconds\n"
     ]
    }
   ],
   "source": [
    "TRAIN_DATA = []\n",
    "model = nlp_thes\n",
    "\n",
    "start = time.time()\n",
    "for doc in model.pipe(text_train['text'].head(5000).tolist()):\n",
    "    TRAIN_DATA.append(\n",
    "        Example.from_dict(doc, {\"entities\": get_entity_list(doc)})\n",
    "#         (doc.text, {\"entities\": get_entity_list(doc)})\n",
    "    )\n",
    "end = time.time()\n",
    "\n",
    "print(f\"{len(TRAIN_DATA)} records created in {int(end-start)} seconds\")"
   ]
  },
  {
   "cell_type": "markdown",
   "metadata": {},
   "source": [
    "### 2.3 Train new model"
   ]
  },
  {
   "cell_type": "code",
   "execution_count": 11,
   "metadata": {},
   "outputs": [],
   "source": [
    "nlp_new = spacy.load('en_core_web_lg')\n",
    "ner = nlp_new.get_pipe(\"ner\")\n",
    "\n",
    "n_iter = 100"
   ]
  },
  {
   "cell_type": "code",
   "execution_count": 12,
   "metadata": {
    "collapsed": true,
    "jupyter": {
     "outputs_hidden": true
    }
   },
   "outputs": [
    {
     "name": "stdout",
     "output_type": "stream",
     "text": [
      "failure\n",
      "Losses {'ner': 3602.1182443512066}\n",
      "Failed:  Poster, London & North Eastern Railway, Bamburgh by Tom Purvis, 1936. Coloured lithograph depicting a stylised view of the coast with Bamburgh castle, the beach and village. Printed by Chorley & Pickersgill Ltd, Lithographers, Leeds. Format: double royal. Dimensions: 40 x 25 inches, 1016 x 635mm.\n",
      "[E103] Trying to set conflicting doc.ents: '(40, 48, 'LOC')' and '(40, 51, 'NORP')'. A token can only be part of one entity, so make sure the entities you're setting don't overlap.\n",
      "Failed:  Glass bottle containing unknown grey, metallic-looking powder. Part of Statham's student chemical laboratory.\n",
      "[E103] Trying to set conflicting doc.ents: '(71, 78, 'ORG')' and '(71, 78, 'PERSON')'. A token can only be part of one entity, so make sure the entities you're setting don't overlap.\n",
      "Failed:  Bone gouge probably by McQueen of Newcastle, England, late 19th early 20th century, nickel plated steel, handle probably brass, nickel plated\n",
      "[E103] Trying to set conflicting doc.ents: '(34, 43, 'LOC')' and '(23, 43, 'ORG')'. A token can only be part of one entity, so make sure the entities you're setting don't overlap.\n",
      "Failed:  British War Medal 1914-1920, silver, ribbon missing, awarded to Pte A.J. Walker, of for services during 1st World War, designed by B.M., English, 1918-1920\n",
      "[E103] Trying to set conflicting doc.ents: '(18, 27, 'DATE')' and '(0, 22, 'EVENT')'. A token can only be part of one entity, so make sure the entities you're setting don't overlap.\n",
      "Failed:  Poster,  Travel in Style - Leeds-Settle-Carlisle - On the Metro - Pullman Steam Excursion with 4498 Sir Nigel Gresley, Saturday 18 June 1988.  Sponsored by West Yorkshire Passenger Transport Authority.  Illustration of train passing over viaduct.\n",
      "[E103] Trying to set conflicting doc.ents: '(119, 130, 'DATE')' and '(128, 140, 'DATE')'. A token can only be part of one entity, so make sure the entities you're setting don't overlap.\n",
      "Failed:  Vintage silver gelatin print by George Davison, mounted on card. Titled \"Entrance to Lowestoft Harbour\", this image was displayed in the Photographic Society of Great Britain exhibition of 1886.\n",
      "[E103] Trying to set conflicting doc.ents: '(133, 185, 'ORG')' and '(133, 174, 'ORG')'. A token can only be part of one entity, so make sure the entities you're setting don't overlap.\n",
      "Failed:  Gold plated BBC Micro computer with two 1-megabyte disc drives and keyboard, made by Acorn Computers Limited, Cambridge, England,1985.  From 'The Micro User' competition.\n",
      "[E067] Invalid BILUO tag sequence: Got a tag starting with L without a preceding 'B' (beginning of an entity). Tag sequence:\n",
      "['O', 'O', 'B-OBJECT', 'I-OBJECT', 'L-OBJECT', 'O', 'O', 'O', 'O', 'O', 'O', 'O', 'O', 'O', 'O', 'O', 'O', 'B-ORG', 'I-ORG', 'L-ORG', 'O', 'U-LOC', 'O', 'L-DATE']\n",
      "Test performance {'ents_p': 0.41497326203208557, 'ents_r': 0.5218560860793544, 'ents_f': 0.462317545427465, 'ents_per_type': {'LOC': {'p': 0.45, 'r': 0.05787781350482315, 'f': 0.10256410256410255, 'support': 322}, 'ORG': {'p': 0.4785553047404063, 'r': 0.5593667546174143, 'f': 0.5158150851581509, 'support': 396}, 'DATE': {'p': 0.8152709359605911, 'r': 0.8826666666666667, 'f': 0.8476312419974391, 'support': 392}, 'OBJECT': {'p': 0.0, 'r': 0.0, 'f': 0.0, 'support': 106}, 'PERSON': {'p': 0.44477611940298506, 'r': 0.8097826086956522, 'f': 0.5741811175337187, 'support': 192}, 'NORP': {'p': 0.7619047619047619, 'r': 0.5517241379310345, 'f': 0.64, 'support': 118}, 'EVENT': {'p': 0.4, 'r': 0.10526315789473684, 'f': 0.16666666666666666, 'support': 23}}, 'support': 1549, 'labels_missing_from_annotations': ['PRODUCT', 'WORK_OF_ART', 'FAC', 'GPE', 'QUANTITY', 'LANGUAGE', 'CARDINAL']}\n",
      "failure\n",
      "Losses {'ner': 5003.24271825919}\n",
      "Failed:  Poster, London & North Eastern Railway, Bamburgh by Tom Purvis, 1936. Coloured lithograph depicting a stylised view of the coast with Bamburgh castle, the beach and village. Printed by Chorley & Pickersgill Ltd, Lithographers, Leeds. Format: double royal. Dimensions: 40 x 25 inches, 1016 x 635mm.\n",
      "[E103] Trying to set conflicting doc.ents: '(40, 48, 'LOC')' and '(40, 51, 'NORP')'. A token can only be part of one entity, so make sure the entities you're setting don't overlap.\n",
      "Failed:  Glass bottle containing unknown grey, metallic-looking powder. Part of Statham's student chemical laboratory.\n",
      "[E103] Trying to set conflicting doc.ents: '(71, 78, 'ORG')' and '(71, 78, 'PERSON')'. A token can only be part of one entity, so make sure the entities you're setting don't overlap.\n",
      "Failed:  Bone gouge probably by McQueen of Newcastle, England, late 19th early 20th century, nickel plated steel, handle probably brass, nickel plated\n",
      "[E103] Trying to set conflicting doc.ents: '(34, 43, 'LOC')' and '(23, 43, 'ORG')'. A token can only be part of one entity, so make sure the entities you're setting don't overlap.\n",
      "Failed:  British War Medal 1914-1920, silver, ribbon missing, awarded to Pte A.J. Walker, of for services during 1st World War, designed by B.M., English, 1918-1920\n",
      "[E103] Trying to set conflicting doc.ents: '(18, 27, 'DATE')' and '(0, 22, 'EVENT')'. A token can only be part of one entity, so make sure the entities you're setting don't overlap.\n",
      "Failed:  Poster,  Travel in Style - Leeds-Settle-Carlisle - On the Metro - Pullman Steam Excursion with 4498 Sir Nigel Gresley, Saturday 18 June 1988.  Sponsored by West Yorkshire Passenger Transport Authority.  Illustration of train passing over viaduct.\n",
      "[E103] Trying to set conflicting doc.ents: '(119, 130, 'DATE')' and '(128, 140, 'DATE')'. A token can only be part of one entity, so make sure the entities you're setting don't overlap.\n",
      "Failed:  Vintage silver gelatin print by George Davison, mounted on card. Titled \"Entrance to Lowestoft Harbour\", this image was displayed in the Photographic Society of Great Britain exhibition of 1886.\n",
      "[E103] Trying to set conflicting doc.ents: '(133, 185, 'ORG')' and '(133, 174, 'ORG')'. A token can only be part of one entity, so make sure the entities you're setting don't overlap.\n",
      "Failed:  Gold plated BBC Micro computer with two 1-megabyte disc drives and keyboard, made by Acorn Computers Limited, Cambridge, England,1985.  From 'The Micro User' competition.\n",
      "[E067] Invalid BILUO tag sequence: Got a tag starting with L without a preceding 'B' (beginning of an entity). Tag sequence:\n",
      "['O', 'O', 'B-OBJECT', 'I-OBJECT', 'L-OBJECT', 'O', 'O', 'O', 'O', 'O', 'O', 'O', 'O', 'O', 'O', 'O', 'O', 'B-ORG', 'I-ORG', 'L-ORG', 'O', 'U-LOC', 'O', 'L-DATE']\n",
      "Test performance {'ents_p': 0.423841059602649, 'ents_r': 0.5164761264290518, 'ents_f': 0.4655956350409215, 'ents_per_type': {'LOC': {'p': 0.375, 'r': 0.028938906752411574, 'f': 0.05373134328358209, 'support': 322}, 'ORG': {'p': 0.5059101654846335, 'r': 0.5646437994722955, 'f': 0.5336658354114714, 'support': 396}, 'DATE': {'p': 0.8619791666666666, 'r': 0.8826666666666667, 'f': 0.8722002635046113, 'support': 392}, 'OBJECT': {'p': 0.0, 'r': 0.0, 'f': 0.0, 'support': 106}, 'PERSON': {'p': 0.48148148148148145, 'r': 0.7771739130434783, 'f': 0.5945945945945946, 'support': 192}, 'NORP': {'p': 0.6699029126213593, 'r': 0.5948275862068966, 'f': 0.6301369863013699, 'support': 118}, 'EVENT': {'p': 0.6666666666666666, 'r': 0.10526315789473684, 'f': 0.18181818181818182, 'support': 23}}, 'support': 1549, 'labels_missing_from_annotations': ['PRODUCT', 'WORK_OF_ART', 'FAC', 'ORDINAL', 'GPE', 'QUANTITY', 'LANGUAGE', 'CARDINAL']}\n",
      "failure\n",
      "Losses {'ner': 3933.648202967788}\n",
      "Failed:  Poster, London & North Eastern Railway, Bamburgh by Tom Purvis, 1936. Coloured lithograph depicting a stylised view of the coast with Bamburgh castle, the beach and village. Printed by Chorley & Pickersgill Ltd, Lithographers, Leeds. Format: double royal. Dimensions: 40 x 25 inches, 1016 x 635mm.\n",
      "[E103] Trying to set conflicting doc.ents: '(40, 48, 'LOC')' and '(40, 51, 'NORP')'. A token can only be part of one entity, so make sure the entities you're setting don't overlap.\n",
      "Failed:  Glass bottle containing unknown grey, metallic-looking powder. Part of Statham's student chemical laboratory.\n",
      "[E103] Trying to set conflicting doc.ents: '(71, 78, 'ORG')' and '(71, 78, 'PERSON')'. A token can only be part of one entity, so make sure the entities you're setting don't overlap.\n",
      "Failed:  Bone gouge probably by McQueen of Newcastle, England, late 19th early 20th century, nickel plated steel, handle probably brass, nickel plated\n",
      "[E103] Trying to set conflicting doc.ents: '(34, 43, 'LOC')' and '(23, 43, 'ORG')'. A token can only be part of one entity, so make sure the entities you're setting don't overlap.\n",
      "Failed:  British War Medal 1914-1920, silver, ribbon missing, awarded to Pte A.J. Walker, of for services during 1st World War, designed by B.M., English, 1918-1920\n",
      "[E103] Trying to set conflicting doc.ents: '(18, 27, 'DATE')' and '(0, 22, 'EVENT')'. A token can only be part of one entity, so make sure the entities you're setting don't overlap.\n",
      "Failed:  Poster,  Travel in Style - Leeds-Settle-Carlisle - On the Metro - Pullman Steam Excursion with 4498 Sir Nigel Gresley, Saturday 18 June 1988.  Sponsored by West Yorkshire Passenger Transport Authority.  Illustration of train passing over viaduct.\n",
      "[E103] Trying to set conflicting doc.ents: '(119, 130, 'DATE')' and '(128, 140, 'DATE')'. A token can only be part of one entity, so make sure the entities you're setting don't overlap.\n",
      "Failed:  Vintage silver gelatin print by George Davison, mounted on card. Titled \"Entrance to Lowestoft Harbour\", this image was displayed in the Photographic Society of Great Britain exhibition of 1886.\n",
      "[E103] Trying to set conflicting doc.ents: '(133, 185, 'ORG')' and '(133, 174, 'ORG')'. A token can only be part of one entity, so make sure the entities you're setting don't overlap.\n",
      "Failed:  Gold plated BBC Micro computer with two 1-megabyte disc drives and keyboard, made by Acorn Computers Limited, Cambridge, England,1985.  From 'The Micro User' competition.\n",
      "[E067] Invalid BILUO tag sequence: Got a tag starting with L without a preceding 'B' (beginning of an entity). Tag sequence:\n",
      "['O', 'O', 'B-OBJECT', 'I-OBJECT', 'L-OBJECT', 'O', 'O', 'O', 'O', 'O', 'O', 'O', 'O', 'O', 'O', 'O', 'O', 'B-ORG', 'I-ORG', 'L-ORG', 'O', 'U-LOC', 'O', 'L-DATE']\n",
      "Test performance {'ents_p': 0.4141978759083287, 'ents_r': 0.49831876260928043, 'ents_f': 0.4523809523809524, 'ents_per_type': {'LOC': {'p': 0.3333333333333333, 'r': 0.00964630225080386, 'f': 0.01875, 'support': 322}, 'ORG': {'p': 0.46881720430107526, 'r': 0.575197889182058, 'f': 0.5165876777251185, 'support': 396}, 'DATE': {'p': 0.8845070422535212, 'r': 0.8373333333333334, 'f': 0.8602739726027397, 'support': 392}, 'OBJECT': {'p': 0.0, 'r': 0.0, 'f': 0.0, 'support': 106}, 'PERSON': {'p': 0.4473684210526316, 'r': 0.7391304347826086, 'f': 0.5573770491803278, 'support': 192}, 'NORP': {'p': 0.7906976744186046, 'r': 0.5862068965517241, 'f': 0.6732673267326732, 'support': 118}, 'EVENT': {'p': 1.0, 'r': 0.10526315789473684, 'f': 0.1904761904761905, 'support': 23}}, 'support': 1549, 'labels_missing_from_annotations': ['PRODUCT', 'WORK_OF_ART', 'FAC', 'GPE', 'QUANTITY', 'LANGUAGE', 'CARDINAL']}\n",
      "failure\n",
      "Losses {'ner': 1325.6561661650242}\n",
      "Failed:  Poster, London & North Eastern Railway, Bamburgh by Tom Purvis, 1936. Coloured lithograph depicting a stylised view of the coast with Bamburgh castle, the beach and village. Printed by Chorley & Pickersgill Ltd, Lithographers, Leeds. Format: double royal. Dimensions: 40 x 25 inches, 1016 x 635mm.\n",
      "[E103] Trying to set conflicting doc.ents: '(40, 48, 'LOC')' and '(40, 51, 'NORP')'. A token can only be part of one entity, so make sure the entities you're setting don't overlap.\n",
      "Failed:  Glass bottle containing unknown grey, metallic-looking powder. Part of Statham's student chemical laboratory.\n",
      "[E103] Trying to set conflicting doc.ents: '(71, 78, 'ORG')' and '(71, 78, 'PERSON')'. A token can only be part of one entity, so make sure the entities you're setting don't overlap.\n",
      "Failed:  Bone gouge probably by McQueen of Newcastle, England, late 19th early 20th century, nickel plated steel, handle probably brass, nickel plated\n",
      "[E103] Trying to set conflicting doc.ents: '(34, 43, 'LOC')' and '(23, 43, 'ORG')'. A token can only be part of one entity, so make sure the entities you're setting don't overlap.\n",
      "Failed:  British War Medal 1914-1920, silver, ribbon missing, awarded to Pte A.J. Walker, of for services during 1st World War, designed by B.M., English, 1918-1920\n",
      "[E103] Trying to set conflicting doc.ents: '(18, 27, 'DATE')' and '(0, 22, 'EVENT')'. A token can only be part of one entity, so make sure the entities you're setting don't overlap.\n",
      "Failed:  Poster,  Travel in Style - Leeds-Settle-Carlisle - On the Metro - Pullman Steam Excursion with 4498 Sir Nigel Gresley, Saturday 18 June 1988.  Sponsored by West Yorkshire Passenger Transport Authority.  Illustration of train passing over viaduct.\n",
      "[E103] Trying to set conflicting doc.ents: '(119, 130, 'DATE')' and '(128, 140, 'DATE')'. A token can only be part of one entity, so make sure the entities you're setting don't overlap.\n",
      "Failed:  Vintage silver gelatin print by George Davison, mounted on card. Titled \"Entrance to Lowestoft Harbour\", this image was displayed in the Photographic Society of Great Britain exhibition of 1886.\n",
      "[E103] Trying to set conflicting doc.ents: '(133, 185, 'ORG')' and '(133, 174, 'ORG')'. A token can only be part of one entity, so make sure the entities you're setting don't overlap.\n",
      "Failed:  Gold plated BBC Micro computer with two 1-megabyte disc drives and keyboard, made by Acorn Computers Limited, Cambridge, England,1985.  From 'The Micro User' competition.\n",
      "[E067] Invalid BILUO tag sequence: Got a tag starting with L without a preceding 'B' (beginning of an entity). Tag sequence:\n",
      "['O', 'O', 'B-OBJECT', 'I-OBJECT', 'L-OBJECT', 'O', 'O', 'O', 'O', 'O', 'O', 'O', 'O', 'O', 'O', 'O', 'O', 'B-ORG', 'I-ORG', 'L-ORG', 'O', 'U-LOC', 'O', 'L-DATE']\n",
      "Test performance {'ents_p': 0.39589117157134923, 'ents_r': 0.47948890383322124, 'ents_f': 0.43369829683698297, 'ents_per_type': {'LOC': {'p': 0.3076923076923077, 'r': 0.02572347266881029, 'f': 0.047477744807121657, 'support': 322}, 'ORG': {'p': 0.45226130653266333, 'r': 0.47493403693931396, 'f': 0.46332046332046334, 'support': 396}, 'DATE': {'p': 0.8598382749326146, 'r': 0.8506666666666667, 'f': 0.8552278820375335, 'support': 392}, 'OBJECT': {'p': 0.0, 'r': 0.0, 'f': 0.0, 'support': 106}, 'PERSON': {'p': 0.41642228739002934, 'r': 0.7717391304347826, 'f': 0.540952380952381, 'support': 192}, 'NORP': {'p': 0.7948717948717948, 'r': 0.5344827586206896, 'f': 0.6391752577319587, 'support': 118}, 'EVENT': {'p': 1.0, 'r': 0.10526315789473684, 'f': 0.1904761904761905, 'support': 23}}, 'support': 1549, 'labels_missing_from_annotations': ['PRODUCT', 'WORK_OF_ART', 'FAC', 'ORDINAL', 'GPE', 'QUANTITY', 'LANGUAGE', 'CARDINAL']}\n",
      "failure\n",
      "Losses {'ner': 1127.6171296794298}\n",
      "Failed:  Poster, London & North Eastern Railway, Bamburgh by Tom Purvis, 1936. Coloured lithograph depicting a stylised view of the coast with Bamburgh castle, the beach and village. Printed by Chorley & Pickersgill Ltd, Lithographers, Leeds. Format: double royal. Dimensions: 40 x 25 inches, 1016 x 635mm.\n",
      "[E103] Trying to set conflicting doc.ents: '(40, 48, 'LOC')' and '(40, 51, 'NORP')'. A token can only be part of one entity, so make sure the entities you're setting don't overlap.\n",
      "Failed:  Glass bottle containing unknown grey, metallic-looking powder. Part of Statham's student chemical laboratory.\n",
      "[E103] Trying to set conflicting doc.ents: '(71, 78, 'ORG')' and '(71, 78, 'PERSON')'. A token can only be part of one entity, so make sure the entities you're setting don't overlap.\n",
      "Failed:  Bone gouge probably by McQueen of Newcastle, England, late 19th early 20th century, nickel plated steel, handle probably brass, nickel plated\n",
      "[E103] Trying to set conflicting doc.ents: '(34, 43, 'LOC')' and '(23, 43, 'ORG')'. A token can only be part of one entity, so make sure the entities you're setting don't overlap.\n",
      "Failed:  British War Medal 1914-1920, silver, ribbon missing, awarded to Pte A.J. Walker, of for services during 1st World War, designed by B.M., English, 1918-1920\n",
      "[E103] Trying to set conflicting doc.ents: '(18, 27, 'DATE')' and '(0, 22, 'EVENT')'. A token can only be part of one entity, so make sure the entities you're setting don't overlap.\n",
      "Failed:  Poster,  Travel in Style - Leeds-Settle-Carlisle - On the Metro - Pullman Steam Excursion with 4498 Sir Nigel Gresley, Saturday 18 June 1988.  Sponsored by West Yorkshire Passenger Transport Authority.  Illustration of train passing over viaduct.\n",
      "[E103] Trying to set conflicting doc.ents: '(119, 130, 'DATE')' and '(128, 140, 'DATE')'. A token can only be part of one entity, so make sure the entities you're setting don't overlap.\n",
      "Failed:  Vintage silver gelatin print by George Davison, mounted on card. Titled \"Entrance to Lowestoft Harbour\", this image was displayed in the Photographic Society of Great Britain exhibition of 1886.\n",
      "[E103] Trying to set conflicting doc.ents: '(133, 185, 'ORG')' and '(133, 174, 'ORG')'. A token can only be part of one entity, so make sure the entities you're setting don't overlap.\n",
      "Failed:  Gold plated BBC Micro computer with two 1-megabyte disc drives and keyboard, made by Acorn Computers Limited, Cambridge, England,1985.  From 'The Micro User' competition.\n",
      "[E067] Invalid BILUO tag sequence: Got a tag starting with L without a preceding 'B' (beginning of an entity). Tag sequence:\n",
      "['O', 'O', 'B-OBJECT', 'I-OBJECT', 'L-OBJECT', 'O', 'O', 'O', 'O', 'O', 'O', 'O', 'O', 'O', 'O', 'O', 'O', 'B-ORG', 'I-ORG', 'L-ORG', 'O', 'U-LOC', 'O', 'L-DATE']\n",
      "Test performance {'ents_p': 0.4042672655811342, 'ents_r': 0.484196368527236, 'ents_f': 0.4406364749082007, 'ents_per_type': {'LOC': {'p': 0.4166666666666667, 'r': 0.03215434083601286, 'f': 0.05970149253731343, 'support': 322}, 'ORG': {'p': 0.45080091533180777, 'r': 0.5197889182058048, 'f': 0.48284313725490197, 'support': 396}, 'DATE': {'p': 0.8707865168539326, 'r': 0.8266666666666667, 'f': 0.8481532147742818, 'support': 392}, 'OBJECT': {'p': 0.0, 'r': 0.0, 'f': 0.0, 'support': 106}, 'PERSON': {'p': 0.4524590163934426, 'r': 0.75, 'f': 0.5644171779141105, 'support': 192}, 'NORP': {'p': 0.8076923076923077, 'r': 0.5431034482758621, 'f': 0.6494845360824743, 'support': 118}, 'EVENT': {'p': 1.0, 'r': 0.10526315789473684, 'f': 0.1904761904761905, 'support': 23}}, 'support': 1549, 'labels_missing_from_annotations': ['PRODUCT', 'WORK_OF_ART', 'FAC', 'ORDINAL', 'GPE', 'QUANTITY', 'LANGUAGE', 'CARDINAL']}\n",
      "failure\n",
      "Losses {'ner': 28.03388015271929}\n",
      "Failed:  Poster, London & North Eastern Railway, Bamburgh by Tom Purvis, 1936. Coloured lithograph depicting a stylised view of the coast with Bamburgh castle, the beach and village. Printed by Chorley & Pickersgill Ltd, Lithographers, Leeds. Format: double royal. Dimensions: 40 x 25 inches, 1016 x 635mm.\n",
      "[E103] Trying to set conflicting doc.ents: '(40, 48, 'LOC')' and '(40, 51, 'NORP')'. A token can only be part of one entity, so make sure the entities you're setting don't overlap.\n",
      "Failed:  Glass bottle containing unknown grey, metallic-looking powder. Part of Statham's student chemical laboratory.\n",
      "[E103] Trying to set conflicting doc.ents: '(71, 78, 'ORG')' and '(71, 78, 'PERSON')'. A token can only be part of one entity, so make sure the entities you're setting don't overlap.\n",
      "Failed:  Bone gouge probably by McQueen of Newcastle, England, late 19th early 20th century, nickel plated steel, handle probably brass, nickel plated\n",
      "[E103] Trying to set conflicting doc.ents: '(34, 43, 'LOC')' and '(23, 43, 'ORG')'. A token can only be part of one entity, so make sure the entities you're setting don't overlap.\n",
      "Failed:  British War Medal 1914-1920, silver, ribbon missing, awarded to Pte A.J. Walker, of for services during 1st World War, designed by B.M., English, 1918-1920\n",
      "[E103] Trying to set conflicting doc.ents: '(18, 27, 'DATE')' and '(0, 22, 'EVENT')'. A token can only be part of one entity, so make sure the entities you're setting don't overlap.\n",
      "Failed:  Poster,  Travel in Style - Leeds-Settle-Carlisle - On the Metro - Pullman Steam Excursion with 4498 Sir Nigel Gresley, Saturday 18 June 1988.  Sponsored by West Yorkshire Passenger Transport Authority.  Illustration of train passing over viaduct.\n",
      "[E103] Trying to set conflicting doc.ents: '(119, 130, 'DATE')' and '(128, 140, 'DATE')'. A token can only be part of one entity, so make sure the entities you're setting don't overlap.\n",
      "Failed:  Vintage silver gelatin print by George Davison, mounted on card. Titled \"Entrance to Lowestoft Harbour\", this image was displayed in the Photographic Society of Great Britain exhibition of 1886.\n",
      "[E103] Trying to set conflicting doc.ents: '(133, 185, 'ORG')' and '(133, 174, 'ORG')'. A token can only be part of one entity, so make sure the entities you're setting don't overlap.\n",
      "Failed:  Gold plated BBC Micro computer with two 1-megabyte disc drives and keyboard, made by Acorn Computers Limited, Cambridge, England,1985.  From 'The Micro User' competition.\n",
      "[E067] Invalid BILUO tag sequence: Got a tag starting with L without a preceding 'B' (beginning of an entity). Tag sequence:\n",
      "['O', 'O', 'B-OBJECT', 'I-OBJECT', 'L-OBJECT', 'O', 'O', 'O', 'O', 'O', 'O', 'O', 'O', 'O', 'O', 'O', 'O', 'B-ORG', 'I-ORG', 'L-ORG', 'O', 'U-LOC', 'O', 'L-DATE']\n",
      "Test performance {'ents_p': 0.4112578977599081, 'ents_r': 0.48150638870208473, 'ents_f': 0.44361833952912016, 'ents_per_type': {'LOC': {'p': 0.4090909090909091, 'r': 0.028938906752411574, 'f': 0.05405405405405406, 'support': 322}, 'ORG': {'p': 0.47980997624703087, 'r': 0.5329815303430079, 'f': 0.505, 'support': 396}, 'DATE': {'p': 0.8757062146892656, 'r': 0.8266666666666667, 'f': 0.850480109739369, 'support': 392}, 'OBJECT': {'p': 0.0, 'r': 0.0, 'f': 0.0, 'support': 106}, 'PERSON': {'p': 0.4944237918215613, 'r': 0.7228260869565217, 'f': 0.58719646799117, 'support': 192}, 'NORP': {'p': 0.8108108108108109, 'r': 0.5172413793103449, 'f': 0.631578947368421, 'support': 118}, 'EVENT': {'p': 1.0, 'r': 0.10526315789473684, 'f': 0.1904761904761905, 'support': 23}}, 'support': 1549, 'labels_missing_from_annotations': ['PRODUCT', 'WORK_OF_ART', 'FAC', 'ORDINAL', 'GPE', 'QUANTITY', 'LANGUAGE', 'CARDINAL']}\n",
      "failure\n",
      "Losses {'ner': 3729.0737793715252}\n",
      "Failed:  Poster, London & North Eastern Railway, Bamburgh by Tom Purvis, 1936. Coloured lithograph depicting a stylised view of the coast with Bamburgh castle, the beach and village. Printed by Chorley & Pickersgill Ltd, Lithographers, Leeds. Format: double royal. Dimensions: 40 x 25 inches, 1016 x 635mm.\n",
      "[E103] Trying to set conflicting doc.ents: '(40, 48, 'LOC')' and '(40, 51, 'NORP')'. A token can only be part of one entity, so make sure the entities you're setting don't overlap.\n",
      "Failed:  Glass bottle containing unknown grey, metallic-looking powder. Part of Statham's student chemical laboratory.\n",
      "[E103] Trying to set conflicting doc.ents: '(71, 78, 'ORG')' and '(71, 78, 'PERSON')'. A token can only be part of one entity, so make sure the entities you're setting don't overlap.\n",
      "Failed:  Bone gouge probably by McQueen of Newcastle, England, late 19th early 20th century, nickel plated steel, handle probably brass, nickel plated\n",
      "[E103] Trying to set conflicting doc.ents: '(34, 43, 'LOC')' and '(23, 43, 'ORG')'. A token can only be part of one entity, so make sure the entities you're setting don't overlap.\n",
      "Failed:  British War Medal 1914-1920, silver, ribbon missing, awarded to Pte A.J. Walker, of for services during 1st World War, designed by B.M., English, 1918-1920\n",
      "[E103] Trying to set conflicting doc.ents: '(18, 27, 'DATE')' and '(0, 22, 'EVENT')'. A token can only be part of one entity, so make sure the entities you're setting don't overlap.\n",
      "Failed:  Poster,  Travel in Style - Leeds-Settle-Carlisle - On the Metro - Pullman Steam Excursion with 4498 Sir Nigel Gresley, Saturday 18 June 1988.  Sponsored by West Yorkshire Passenger Transport Authority.  Illustration of train passing over viaduct.\n",
      "[E103] Trying to set conflicting doc.ents: '(119, 130, 'DATE')' and '(128, 140, 'DATE')'. A token can only be part of one entity, so make sure the entities you're setting don't overlap.\n",
      "Failed:  Vintage silver gelatin print by George Davison, mounted on card. Titled \"Entrance to Lowestoft Harbour\", this image was displayed in the Photographic Society of Great Britain exhibition of 1886.\n",
      "[E103] Trying to set conflicting doc.ents: '(133, 185, 'ORG')' and '(133, 174, 'ORG')'. A token can only be part of one entity, so make sure the entities you're setting don't overlap.\n",
      "Failed:  Gold plated BBC Micro computer with two 1-megabyte disc drives and keyboard, made by Acorn Computers Limited, Cambridge, England,1985.  From 'The Micro User' competition.\n",
      "[E067] Invalid BILUO tag sequence: Got a tag starting with L without a preceding 'B' (beginning of an entity). Tag sequence:\n",
      "['O', 'O', 'B-OBJECT', 'I-OBJECT', 'L-OBJECT', 'O', 'O', 'O', 'O', 'O', 'O', 'O', 'O', 'O', 'O', 'O', 'O', 'B-ORG', 'I-ORG', 'L-ORG', 'O', 'U-LOC', 'O', 'L-DATE']\n",
      "Test performance {'ents_p': 0.41146993318485525, 'ents_r': 0.4969737726967048, 'ents_f': 0.4501979896436187, 'ents_per_type': {'LOC': {'p': 0.5625, 'r': 0.028938906752411574, 'f': 0.055045871559633024, 'support': 322}, 'ORG': {'p': 0.44543429844098, 'r': 0.5277044854881267, 'f': 0.48309178743961356, 'support': 396}, 'DATE': {'p': 0.8608923884514436, 'r': 0.8746666666666667, 'f': 0.8677248677248677, 'support': 392}, 'OBJECT': {'p': 0.0, 'r': 0.0, 'f': 0.0, 'support': 106}, 'PERSON': {'p': 0.4259818731117825, 'r': 0.7663043478260869, 'f': 0.5475728155339805, 'support': 192}, 'NORP': {'p': 0.8428571428571429, 'r': 0.5086206896551724, 'f': 0.6344086021505376, 'support': 118}, 'EVENT': {'p': 0.6666666666666666, 'r': 0.10526315789473684, 'f': 0.18181818181818182, 'support': 23}}, 'support': 1549, 'labels_missing_from_annotations': ['PRODUCT', 'WORK_OF_ART', 'FAC', 'ORDINAL', 'GPE', 'QUANTITY', 'LANGUAGE', 'CARDINAL']}\n",
      "failure\n",
      "Losses {'ner': 3112.145836920323}\n",
      "Failed:  Poster, London & North Eastern Railway, Bamburgh by Tom Purvis, 1936. Coloured lithograph depicting a stylised view of the coast with Bamburgh castle, the beach and village. Printed by Chorley & Pickersgill Ltd, Lithographers, Leeds. Format: double royal. Dimensions: 40 x 25 inches, 1016 x 635mm.\n",
      "[E103] Trying to set conflicting doc.ents: '(40, 48, 'LOC')' and '(40, 51, 'NORP')'. A token can only be part of one entity, so make sure the entities you're setting don't overlap.\n",
      "Failed:  Glass bottle containing unknown grey, metallic-looking powder. Part of Statham's student chemical laboratory.\n",
      "[E103] Trying to set conflicting doc.ents: '(71, 78, 'ORG')' and '(71, 78, 'PERSON')'. A token can only be part of one entity, so make sure the entities you're setting don't overlap.\n",
      "Failed:  Bone gouge probably by McQueen of Newcastle, England, late 19th early 20th century, nickel plated steel, handle probably brass, nickel plated\n",
      "[E103] Trying to set conflicting doc.ents: '(34, 43, 'LOC')' and '(23, 43, 'ORG')'. A token can only be part of one entity, so make sure the entities you're setting don't overlap.\n",
      "Failed:  British War Medal 1914-1920, silver, ribbon missing, awarded to Pte A.J. Walker, of for services during 1st World War, designed by B.M., English, 1918-1920\n",
      "[E103] Trying to set conflicting doc.ents: '(18, 27, 'DATE')' and '(0, 22, 'EVENT')'. A token can only be part of one entity, so make sure the entities you're setting don't overlap.\n",
      "Failed:  Poster,  Travel in Style - Leeds-Settle-Carlisle - On the Metro - Pullman Steam Excursion with 4498 Sir Nigel Gresley, Saturday 18 June 1988.  Sponsored by West Yorkshire Passenger Transport Authority.  Illustration of train passing over viaduct.\n",
      "[E103] Trying to set conflicting doc.ents: '(119, 130, 'DATE')' and '(128, 140, 'DATE')'. A token can only be part of one entity, so make sure the entities you're setting don't overlap.\n",
      "Failed:  Vintage silver gelatin print by George Davison, mounted on card. Titled \"Entrance to Lowestoft Harbour\", this image was displayed in the Photographic Society of Great Britain exhibition of 1886.\n",
      "[E103] Trying to set conflicting doc.ents: '(133, 185, 'ORG')' and '(133, 174, 'ORG')'. A token can only be part of one entity, so make sure the entities you're setting don't overlap.\n",
      "Failed:  Gold plated BBC Micro computer with two 1-megabyte disc drives and keyboard, made by Acorn Computers Limited, Cambridge, England,1985.  From 'The Micro User' competition.\n",
      "[E067] Invalid BILUO tag sequence: Got a tag starting with L without a preceding 'B' (beginning of an entity). Tag sequence:\n",
      "['O', 'O', 'B-OBJECT', 'I-OBJECT', 'L-OBJECT', 'O', 'O', 'O', 'O', 'O', 'O', 'O', 'O', 'O', 'O', 'O', 'O', 'B-ORG', 'I-ORG', 'L-ORG', 'O', 'U-LOC', 'O', 'L-DATE']\n",
      "Test performance {'ents_p': 0.4125793421811887, 'ents_r': 0.4808338937457969, 'ents_f': 0.4440993788819876, 'ents_per_type': {'LOC': {'p': 0.5, 'r': 0.02572347266881029, 'f': 0.04892966360856269, 'support': 322}, 'ORG': {'p': 0.4279661016949153, 'r': 0.5329815303430079, 'f': 0.4747356051703878, 'support': 396}, 'DATE': {'p': 0.8543417366946778, 'r': 0.8133333333333334, 'f': 0.8333333333333333, 'support': 392}, 'OBJECT': {'p': 0.0, 'r': 0.0, 'f': 0.0, 'support': 106}, 'PERSON': {'p': 0.5132075471698113, 'r': 0.7391304347826086, 'f': 0.6057906458797326, 'support': 192}, 'NORP': {'p': 0.8051948051948052, 'r': 0.5344827586206896, 'f': 0.6424870466321244, 'support': 118}, 'EVENT': {'p': 0.6666666666666666, 'r': 0.10526315789473684, 'f': 0.18181818181818182, 'support': 23}}, 'support': 1549, 'labels_missing_from_annotations': ['PRODUCT', 'WORK_OF_ART', 'FAC', 'ORDINAL', 'GPE', 'QUANTITY', 'LANGUAGE', 'CARDINAL']}\n",
      "failure\n",
      "Losses {'ner': 2538.247787356181}\n",
      "Failed:  Poster, London & North Eastern Railway, Bamburgh by Tom Purvis, 1936. Coloured lithograph depicting a stylised view of the coast with Bamburgh castle, the beach and village. Printed by Chorley & Pickersgill Ltd, Lithographers, Leeds. Format: double royal. Dimensions: 40 x 25 inches, 1016 x 635mm.\n",
      "[E103] Trying to set conflicting doc.ents: '(40, 48, 'LOC')' and '(40, 51, 'NORP')'. A token can only be part of one entity, so make sure the entities you're setting don't overlap.\n",
      "Failed:  Glass bottle containing unknown grey, metallic-looking powder. Part of Statham's student chemical laboratory.\n",
      "[E103] Trying to set conflicting doc.ents: '(71, 78, 'ORG')' and '(71, 78, 'PERSON')'. A token can only be part of one entity, so make sure the entities you're setting don't overlap.\n",
      "Failed:  Bone gouge probably by McQueen of Newcastle, England, late 19th early 20th century, nickel plated steel, handle probably brass, nickel plated\n",
      "[E103] Trying to set conflicting doc.ents: '(34, 43, 'LOC')' and '(23, 43, 'ORG')'. A token can only be part of one entity, so make sure the entities you're setting don't overlap.\n",
      "Failed:  British War Medal 1914-1920, silver, ribbon missing, awarded to Pte A.J. Walker, of for services during 1st World War, designed by B.M., English, 1918-1920\n",
      "[E103] Trying to set conflicting doc.ents: '(18, 27, 'DATE')' and '(0, 22, 'EVENT')'. A token can only be part of one entity, so make sure the entities you're setting don't overlap.\n",
      "Failed:  Poster,  Travel in Style - Leeds-Settle-Carlisle - On the Metro - Pullman Steam Excursion with 4498 Sir Nigel Gresley, Saturday 18 June 1988.  Sponsored by West Yorkshire Passenger Transport Authority.  Illustration of train passing over viaduct.\n",
      "[E103] Trying to set conflicting doc.ents: '(119, 130, 'DATE')' and '(128, 140, 'DATE')'. A token can only be part of one entity, so make sure the entities you're setting don't overlap.\n",
      "Failed:  Vintage silver gelatin print by George Davison, mounted on card. Titled \"Entrance to Lowestoft Harbour\", this image was displayed in the Photographic Society of Great Britain exhibition of 1886.\n",
      "[E103] Trying to set conflicting doc.ents: '(133, 185, 'ORG')' and '(133, 174, 'ORG')'. A token can only be part of one entity, so make sure the entities you're setting don't overlap.\n",
      "Failed:  Gold plated BBC Micro computer with two 1-megabyte disc drives and keyboard, made by Acorn Computers Limited, Cambridge, England,1985.  From 'The Micro User' competition.\n",
      "[E067] Invalid BILUO tag sequence: Got a tag starting with L without a preceding 'B' (beginning of an entity). Tag sequence:\n",
      "['O', 'O', 'B-OBJECT', 'I-OBJECT', 'L-OBJECT', 'O', 'O', 'O', 'O', 'O', 'O', 'O', 'O', 'O', 'O', 'O', 'O', 'B-ORG', 'I-ORG', 'L-ORG', 'O', 'U-LOC', 'O', 'L-DATE']\n",
      "Test performance {'ents_p': 0.39615384615384613, 'ents_r': 0.48486886348352387, 'ents_f': 0.43604475355306926, 'ents_per_type': {'LOC': {'p': 0.36363636363636365, 'r': 0.03858520900321544, 'f': 0.06976744186046512, 'support': 322}, 'ORG': {'p': 0.4161073825503356, 'r': 0.49076517150395776, 'f': 0.45036319612590797, 'support': 396}, 'DATE': {'p': 0.8815426997245179, 'r': 0.8533333333333334, 'f': 0.8672086720867208, 'support': 392}, 'OBJECT': {'p': 0.0, 'r': 0.0, 'f': 0.0, 'support': 106}, 'PERSON': {'p': 0.3953488372093023, 'r': 0.7391304347826086, 'f': 0.5151515151515151, 'support': 192}, 'NORP': {'p': 0.7926829268292683, 'r': 0.5603448275862069, 'f': 0.6565656565656566, 'support': 118}, 'EVENT': {'p': 0.6666666666666666, 'r': 0.10526315789473684, 'f': 0.18181818181818182, 'support': 23}}, 'support': 1549, 'labels_missing_from_annotations': ['PRODUCT', 'WORK_OF_ART', 'FAC', 'ORDINAL', 'GPE', 'QUANTITY', 'LANGUAGE', 'CARDINAL']}\n",
      "failure\n",
      "Losses {'ner': 1373.6759471589298}\n",
      "Failed:  Poster, London & North Eastern Railway, Bamburgh by Tom Purvis, 1936. Coloured lithograph depicting a stylised view of the coast with Bamburgh castle, the beach and village. Printed by Chorley & Pickersgill Ltd, Lithographers, Leeds. Format: double royal. Dimensions: 40 x 25 inches, 1016 x 635mm.\n",
      "[E103] Trying to set conflicting doc.ents: '(40, 48, 'LOC')' and '(40, 51, 'NORP')'. A token can only be part of one entity, so make sure the entities you're setting don't overlap.\n",
      "Failed:  Glass bottle containing unknown grey, metallic-looking powder. Part of Statham's student chemical laboratory.\n",
      "[E103] Trying to set conflicting doc.ents: '(71, 78, 'ORG')' and '(71, 78, 'PERSON')'. A token can only be part of one entity, so make sure the entities you're setting don't overlap.\n",
      "Failed:  Bone gouge probably by McQueen of Newcastle, England, late 19th early 20th century, nickel plated steel, handle probably brass, nickel plated\n",
      "[E103] Trying to set conflicting doc.ents: '(34, 43, 'LOC')' and '(23, 43, 'ORG')'. A token can only be part of one entity, so make sure the entities you're setting don't overlap.\n",
      "Failed:  British War Medal 1914-1920, silver, ribbon missing, awarded to Pte A.J. Walker, of for services during 1st World War, designed by B.M., English, 1918-1920\n",
      "[E103] Trying to set conflicting doc.ents: '(18, 27, 'DATE')' and '(0, 22, 'EVENT')'. A token can only be part of one entity, so make sure the entities you're setting don't overlap.\n",
      "Failed:  Poster,  Travel in Style - Leeds-Settle-Carlisle - On the Metro - Pullman Steam Excursion with 4498 Sir Nigel Gresley, Saturday 18 June 1988.  Sponsored by West Yorkshire Passenger Transport Authority.  Illustration of train passing over viaduct.\n",
      "[E103] Trying to set conflicting doc.ents: '(119, 130, 'DATE')' and '(128, 140, 'DATE')'. A token can only be part of one entity, so make sure the entities you're setting don't overlap.\n",
      "Failed:  Vintage silver gelatin print by George Davison, mounted on card. Titled \"Entrance to Lowestoft Harbour\", this image was displayed in the Photographic Society of Great Britain exhibition of 1886.\n",
      "[E103] Trying to set conflicting doc.ents: '(133, 185, 'ORG')' and '(133, 174, 'ORG')'. A token can only be part of one entity, so make sure the entities you're setting don't overlap.\n",
      "Failed:  Gold plated BBC Micro computer with two 1-megabyte disc drives and keyboard, made by Acorn Computers Limited, Cambridge, England,1985.  From 'The Micro User' competition.\n",
      "[E067] Invalid BILUO tag sequence: Got a tag starting with L without a preceding 'B' (beginning of an entity). Tag sequence:\n",
      "['O', 'O', 'B-OBJECT', 'I-OBJECT', 'L-OBJECT', 'O', 'O', 'O', 'O', 'O', 'O', 'O', 'O', 'O', 'O', 'O', 'O', 'B-ORG', 'I-ORG', 'L-ORG', 'O', 'U-LOC', 'O', 'L-DATE']\n",
      "Test performance {'ents_p': 0.3735408560311284, 'ents_r': 0.4519166106254203, 'ents_f': 0.40900791235544737, 'ents_per_type': {'LOC': {'p': 0.3076923076923077, 'r': 0.03858520900321544, 'f': 0.06857142857142857, 'support': 322}, 'ORG': {'p': 0.40816326530612246, 'r': 0.36939313984168864, 'f': 0.38781163434903043, 'support': 396}, 'DATE': {'p': 0.8833819241982507, 'r': 0.808, 'f': 0.8440111420612814, 'support': 392}, 'OBJECT': {'p': 0.0, 'r': 0.0, 'f': 0.0, 'support': 106}, 'PERSON': {'p': 0.3923705722070845, 'r': 0.782608695652174, 'f': 0.5226860254083485, 'support': 192}, 'NORP': {'p': 0.71, 'r': 0.6120689655172413, 'f': 0.6574074074074073, 'support': 118}, 'EVENT': {'p': 0.5, 'r': 0.10526315789473684, 'f': 0.17391304347826086, 'support': 23}}, 'support': 1549, 'labels_missing_from_annotations': ['PRODUCT', 'WORK_OF_ART', 'FAC', 'ORDINAL', 'GPE', 'QUANTITY', 'LANGUAGE', 'CARDINAL']}\n",
      "failure\n",
      "Losses {'ner': 424.9177304301478}\n",
      "Failed:  Poster, London & North Eastern Railway, Bamburgh by Tom Purvis, 1936. Coloured lithograph depicting a stylised view of the coast with Bamburgh castle, the beach and village. Printed by Chorley & Pickersgill Ltd, Lithographers, Leeds. Format: double royal. Dimensions: 40 x 25 inches, 1016 x 635mm.\n",
      "[E103] Trying to set conflicting doc.ents: '(40, 48, 'LOC')' and '(40, 51, 'NORP')'. A token can only be part of one entity, so make sure the entities you're setting don't overlap.\n",
      "Failed:  Glass bottle containing unknown grey, metallic-looking powder. Part of Statham's student chemical laboratory.\n",
      "[E103] Trying to set conflicting doc.ents: '(71, 78, 'ORG')' and '(71, 78, 'PERSON')'. A token can only be part of one entity, so make sure the entities you're setting don't overlap.\n",
      "Failed:  Bone gouge probably by McQueen of Newcastle, England, late 19th early 20th century, nickel plated steel, handle probably brass, nickel plated\n",
      "[E103] Trying to set conflicting doc.ents: '(34, 43, 'LOC')' and '(23, 43, 'ORG')'. A token can only be part of one entity, so make sure the entities you're setting don't overlap.\n",
      "Failed:  British War Medal 1914-1920, silver, ribbon missing, awarded to Pte A.J. Walker, of for services during 1st World War, designed by B.M., English, 1918-1920\n",
      "[E103] Trying to set conflicting doc.ents: '(18, 27, 'DATE')' and '(0, 22, 'EVENT')'. A token can only be part of one entity, so make sure the entities you're setting don't overlap.\n",
      "Failed:  Poster,  Travel in Style - Leeds-Settle-Carlisle - On the Metro - Pullman Steam Excursion with 4498 Sir Nigel Gresley, Saturday 18 June 1988.  Sponsored by West Yorkshire Passenger Transport Authority.  Illustration of train passing over viaduct.\n",
      "[E103] Trying to set conflicting doc.ents: '(119, 130, 'DATE')' and '(128, 140, 'DATE')'. A token can only be part of one entity, so make sure the entities you're setting don't overlap.\n",
      "Failed:  Vintage silver gelatin print by George Davison, mounted on card. Titled \"Entrance to Lowestoft Harbour\", this image was displayed in the Photographic Society of Great Britain exhibition of 1886.\n",
      "[E103] Trying to set conflicting doc.ents: '(133, 185, 'ORG')' and '(133, 174, 'ORG')'. A token can only be part of one entity, so make sure the entities you're setting don't overlap.\n",
      "Failed:  Gold plated BBC Micro computer with two 1-megabyte disc drives and keyboard, made by Acorn Computers Limited, Cambridge, England,1985.  From 'The Micro User' competition.\n",
      "[E067] Invalid BILUO tag sequence: Got a tag starting with L without a preceding 'B' (beginning of an entity). Tag sequence:\n",
      "['O', 'O', 'B-OBJECT', 'I-OBJECT', 'L-OBJECT', 'O', 'O', 'O', 'O', 'O', 'O', 'O', 'O', 'O', 'O', 'O', 'O', 'B-ORG', 'I-ORG', 'L-ORG', 'O', 'U-LOC', 'O', 'L-DATE']\n",
      "Test performance {'ents_p': 0.40433001755412523, 'ents_r': 0.46469401479488903, 'ents_f': 0.4324155193992491, 'ents_per_type': {'LOC': {'p': 0.36, 'r': 0.028938906752411574, 'f': 0.05357142857142857, 'support': 322}, 'ORG': {'p': 0.44801980198019803, 'r': 0.47757255936675463, 'f': 0.4623243933588761, 'support': 396}, 'DATE': {'p': 0.884180790960452, 'r': 0.8346666666666667, 'f': 0.858710562414266, 'support': 392}, 'OBJECT': {'p': 0.0, 'r': 0.0, 'f': 0.0, 'support': 106}, 'PERSON': {'p': 0.45302013422818793, 'r': 0.7336956521739131, 'f': 0.5601659751037346, 'support': 192}, 'NORP': {'p': 0.7391304347826086, 'r': 0.4396551724137931, 'f': 0.5513513513513513, 'support': 118}, 'EVENT': {'p': 0.5, 'r': 0.10526315789473684, 'f': 0.17391304347826086, 'support': 23}}, 'support': 1549, 'labels_missing_from_annotations': ['PRODUCT', 'WORK_OF_ART', 'FAC', 'ORDINAL', 'GPE', 'QUANTITY', 'LANGUAGE', 'CARDINAL']}\n"
     ]
    },
    {
     "ename": "KeyboardInterrupt",
     "evalue": "",
     "output_type": "error",
     "traceback": [
      "\u001b[0;31m---------------------------------------------------------------------------\u001b[0m",
      "\u001b[0;31mKeyboardInterrupt\u001b[0m                         Traceback (most recent call last)",
      "\u001b[0;32m<ipython-input-12-e23b54606bb3>\u001b[0m in \u001b[0;36m<module>\u001b[0;34m\u001b[0m\n\u001b[1;32m     17\u001b[0m                     \u001b[0mbatch\u001b[0m\u001b[0;34m,\u001b[0m\u001b[0;34m\u001b[0m\u001b[0;34m\u001b[0m\u001b[0m\n\u001b[1;32m     18\u001b[0m                     \u001b[0mdrop\u001b[0m\u001b[0;34m=\u001b[0m\u001b[0;36m0.5\u001b[0m\u001b[0;34m,\u001b[0m \u001b[0;31m# dropout for regularization\u001b[0m\u001b[0;34m\u001b[0m\u001b[0;34m\u001b[0m\u001b[0m\n\u001b[0;32m---> 19\u001b[0;31m                     \u001b[0mlosses\u001b[0m\u001b[0;34m=\u001b[0m\u001b[0mlosses\u001b[0m\u001b[0;34m,\u001b[0m\u001b[0;34m\u001b[0m\u001b[0;34m\u001b[0m\u001b[0m\n\u001b[0m\u001b[1;32m     20\u001b[0m                 )\n\u001b[1;32m     21\u001b[0m                 \u001b[0;31m# TODO: drop this except and let spaCy handle the errors\u001b[0m\u001b[0;34m\u001b[0m\u001b[0;34m\u001b[0m\u001b[0;34m\u001b[0m\u001b[0m\n",
      "\u001b[0;32m~/.pyenv/versions/3.7.3/envs/hc_nlp_spacy_3/lib/python3.7/site-packages/spacy/language.py\u001b[0m in \u001b[0;36mupdate\u001b[0;34m(self, examples, _, drop, sgd, losses, component_cfg, exclude)\u001b[0m\n\u001b[1;32m   1093\u001b[0m             \u001b[0;32mif\u001b[0m \u001b[0mname\u001b[0m \u001b[0;32min\u001b[0m \u001b[0mexclude\u001b[0m \u001b[0;32mor\u001b[0m \u001b[0;32mnot\u001b[0m \u001b[0mhasattr\u001b[0m\u001b[0;34m(\u001b[0m\u001b[0mproc\u001b[0m\u001b[0;34m,\u001b[0m \u001b[0;34m\"update\"\u001b[0m\u001b[0;34m)\u001b[0m\u001b[0;34m:\u001b[0m\u001b[0;34m\u001b[0m\u001b[0;34m\u001b[0m\u001b[0m\n\u001b[1;32m   1094\u001b[0m                 \u001b[0;32mcontinue\u001b[0m\u001b[0;34m\u001b[0m\u001b[0;34m\u001b[0m\u001b[0m\n\u001b[0;32m-> 1095\u001b[0;31m             \u001b[0mproc\u001b[0m\u001b[0;34m.\u001b[0m\u001b[0mupdate\u001b[0m\u001b[0;34m(\u001b[0m\u001b[0mexamples\u001b[0m\u001b[0;34m,\u001b[0m \u001b[0msgd\u001b[0m\u001b[0;34m=\u001b[0m\u001b[0;32mNone\u001b[0m\u001b[0;34m,\u001b[0m \u001b[0mlosses\u001b[0m\u001b[0;34m=\u001b[0m\u001b[0mlosses\u001b[0m\u001b[0;34m,\u001b[0m \u001b[0;34m**\u001b[0m\u001b[0mcomponent_cfg\u001b[0m\u001b[0;34m[\u001b[0m\u001b[0mname\u001b[0m\u001b[0;34m]\u001b[0m\u001b[0;34m)\u001b[0m\u001b[0;34m\u001b[0m\u001b[0;34m\u001b[0m\u001b[0m\n\u001b[0m\u001b[1;32m   1096\u001b[0m         \u001b[0;32mif\u001b[0m \u001b[0msgd\u001b[0m \u001b[0;32mnot\u001b[0m \u001b[0;32min\u001b[0m \u001b[0;34m(\u001b[0m\u001b[0;32mNone\u001b[0m\u001b[0;34m,\u001b[0m \u001b[0;32mFalse\u001b[0m\u001b[0;34m)\u001b[0m\u001b[0;34m:\u001b[0m\u001b[0;34m\u001b[0m\u001b[0;34m\u001b[0m\u001b[0m\n\u001b[1;32m   1097\u001b[0m             \u001b[0;32mfor\u001b[0m \u001b[0mname\u001b[0m\u001b[0;34m,\u001b[0m \u001b[0mproc\u001b[0m \u001b[0;32min\u001b[0m \u001b[0mself\u001b[0m\u001b[0;34m.\u001b[0m\u001b[0mpipeline\u001b[0m\u001b[0;34m:\u001b[0m\u001b[0;34m\u001b[0m\u001b[0;34m\u001b[0m\u001b[0m\n",
      "\u001b[0;32m~/.pyenv/versions/3.7.3/envs/hc_nlp_spacy_3/lib/python3.7/site-packages/spacy/pipeline/transition_parser.pyx\u001b[0m in \u001b[0;36mspacy.pipeline.transition_parser.Parser.update\u001b[0;34m()\u001b[0m\n",
      "\u001b[0;32m~/.pyenv/versions/3.7.3/envs/hc_nlp_spacy_3/lib/python3.7/site-packages/thinc/model.py\u001b[0m in \u001b[0;36mbegin_update\u001b[0;34m(self, X)\u001b[0m\n\u001b[1;32m    304\u001b[0m         \u001b[0;32mand\u001b[0m \u001b[0mreturns\u001b[0m \u001b[0mthe\u001b[0m \u001b[0mgradient\u001b[0m \u001b[0;32mwith\u001b[0m \u001b[0mrespect\u001b[0m \u001b[0mto\u001b[0m \u001b[0mthe\u001b[0m \u001b[0minput\u001b[0m\u001b[0;34m.\u001b[0m\u001b[0;34m\u001b[0m\u001b[0;34m\u001b[0m\u001b[0m\n\u001b[1;32m    305\u001b[0m         \"\"\"\n\u001b[0;32m--> 306\u001b[0;31m         \u001b[0;32mreturn\u001b[0m \u001b[0mself\u001b[0m\u001b[0;34m.\u001b[0m\u001b[0m_func\u001b[0m\u001b[0;34m(\u001b[0m\u001b[0mself\u001b[0m\u001b[0;34m,\u001b[0m \u001b[0mX\u001b[0m\u001b[0;34m,\u001b[0m \u001b[0mis_train\u001b[0m\u001b[0;34m=\u001b[0m\u001b[0;32mTrue\u001b[0m\u001b[0;34m)\u001b[0m\u001b[0;34m\u001b[0m\u001b[0;34m\u001b[0m\u001b[0m\n\u001b[0m\u001b[1;32m    307\u001b[0m \u001b[0;34m\u001b[0m\u001b[0m\n\u001b[1;32m    308\u001b[0m     \u001b[0;32mdef\u001b[0m \u001b[0mpredict\u001b[0m\u001b[0;34m(\u001b[0m\u001b[0mself\u001b[0m\u001b[0;34m,\u001b[0m \u001b[0mX\u001b[0m\u001b[0;34m:\u001b[0m \u001b[0mInT\u001b[0m\u001b[0;34m)\u001b[0m \u001b[0;34m->\u001b[0m \u001b[0mOutT\u001b[0m\u001b[0;34m:\u001b[0m\u001b[0;34m\u001b[0m\u001b[0;34m\u001b[0m\u001b[0m\n",
      "\u001b[0;32m~/.pyenv/versions/3.7.3/envs/hc_nlp_spacy_3/lib/python3.7/site-packages/spacy/ml/tb_framework.py\u001b[0m in \u001b[0;36mforward\u001b[0;34m(model, X, is_train)\u001b[0m\n\u001b[1;32m     32\u001b[0m         \u001b[0munseen_classes\u001b[0m\u001b[0;34m=\u001b[0m\u001b[0mmodel\u001b[0m\u001b[0;34m.\u001b[0m\u001b[0mattrs\u001b[0m\u001b[0;34m[\u001b[0m\u001b[0;34m\"unseen_classes\"\u001b[0m\u001b[0;34m]\u001b[0m\u001b[0;34m,\u001b[0m\u001b[0;34m\u001b[0m\u001b[0;34m\u001b[0m\u001b[0m\n\u001b[1;32m     33\u001b[0m         \u001b[0mtrain\u001b[0m\u001b[0;34m=\u001b[0m\u001b[0mis_train\u001b[0m\u001b[0;34m,\u001b[0m\u001b[0;34m\u001b[0m\u001b[0;34m\u001b[0m\u001b[0m\n\u001b[0;32m---> 34\u001b[0;31m         \u001b[0mhas_upper\u001b[0m\u001b[0;34m=\u001b[0m\u001b[0mmodel\u001b[0m\u001b[0;34m.\u001b[0m\u001b[0mattrs\u001b[0m\u001b[0;34m[\u001b[0m\u001b[0;34m\"has_upper\"\u001b[0m\u001b[0;34m]\u001b[0m\u001b[0;34m,\u001b[0m\u001b[0;34m\u001b[0m\u001b[0;34m\u001b[0m\u001b[0m\n\u001b[0m\u001b[1;32m     35\u001b[0m     )\n\u001b[1;32m     36\u001b[0m \u001b[0;34m\u001b[0m\u001b[0m\n",
      "\u001b[0;32m~/.pyenv/versions/3.7.3/envs/hc_nlp_spacy_3/lib/python3.7/site-packages/spacy/ml/parser_model.pyx\u001b[0m in \u001b[0;36mspacy.ml.parser_model.ParserStepModel.__init__\u001b[0;34m()\u001b[0m\n",
      "\u001b[0;32m~/.pyenv/versions/3.7.3/envs/hc_nlp_spacy_3/lib/python3.7/site-packages/thinc/model.py\u001b[0m in \u001b[0;36m__call__\u001b[0;34m(self, X, is_train)\u001b[0m\n\u001b[1;32m    286\u001b[0m         \"\"\"Call the model's `forward` function, returning the output and a\n\u001b[1;32m    287\u001b[0m         callback to compute the gradients via backpropagation.\"\"\"\n\u001b[0;32m--> 288\u001b[0;31m         \u001b[0;32mreturn\u001b[0m \u001b[0mself\u001b[0m\u001b[0;34m.\u001b[0m\u001b[0m_func\u001b[0m\u001b[0;34m(\u001b[0m\u001b[0mself\u001b[0m\u001b[0;34m,\u001b[0m \u001b[0mX\u001b[0m\u001b[0;34m,\u001b[0m \u001b[0mis_train\u001b[0m\u001b[0;34m=\u001b[0m\u001b[0mis_train\u001b[0m\u001b[0;34m)\u001b[0m\u001b[0;34m\u001b[0m\u001b[0;34m\u001b[0m\u001b[0m\n\u001b[0m\u001b[1;32m    289\u001b[0m \u001b[0;34m\u001b[0m\u001b[0m\n\u001b[1;32m    290\u001b[0m     \u001b[0;32mdef\u001b[0m \u001b[0minitialize\u001b[0m\u001b[0;34m(\u001b[0m\u001b[0mself\u001b[0m\u001b[0;34m,\u001b[0m \u001b[0mX\u001b[0m\u001b[0;34m:\u001b[0m \u001b[0mOptional\u001b[0m\u001b[0;34m[\u001b[0m\u001b[0mInT\u001b[0m\u001b[0;34m]\u001b[0m \u001b[0;34m=\u001b[0m \u001b[0;32mNone\u001b[0m\u001b[0;34m,\u001b[0m \u001b[0mY\u001b[0m\u001b[0;34m:\u001b[0m \u001b[0mOptional\u001b[0m\u001b[0;34m[\u001b[0m\u001b[0mOutT\u001b[0m\u001b[0;34m]\u001b[0m \u001b[0;34m=\u001b[0m \u001b[0;32mNone\u001b[0m\u001b[0;34m)\u001b[0m \u001b[0;34m->\u001b[0m \u001b[0;34m\"Model\"\u001b[0m\u001b[0;34m:\u001b[0m\u001b[0;34m\u001b[0m\u001b[0;34m\u001b[0m\u001b[0m\n",
      "\u001b[0;32m~/.pyenv/versions/3.7.3/envs/hc_nlp_spacy_3/lib/python3.7/site-packages/thinc/layers/chain.py\u001b[0m in \u001b[0;36mforward\u001b[0;34m(model, X, is_train)\u001b[0m\n\u001b[1;32m     52\u001b[0m     \u001b[0mcallbacks\u001b[0m \u001b[0;34m=\u001b[0m \u001b[0;34m[\u001b[0m\u001b[0;34m]\u001b[0m\u001b[0;34m\u001b[0m\u001b[0;34m\u001b[0m\u001b[0m\n\u001b[1;32m     53\u001b[0m     \u001b[0;32mfor\u001b[0m \u001b[0mlayer\u001b[0m \u001b[0;32min\u001b[0m \u001b[0mmodel\u001b[0m\u001b[0;34m.\u001b[0m\u001b[0mlayers\u001b[0m\u001b[0;34m:\u001b[0m\u001b[0;34m\u001b[0m\u001b[0;34m\u001b[0m\u001b[0m\n\u001b[0;32m---> 54\u001b[0;31m         \u001b[0mY\u001b[0m\u001b[0;34m,\u001b[0m \u001b[0minc_layer_grad\u001b[0m \u001b[0;34m=\u001b[0m \u001b[0mlayer\u001b[0m\u001b[0;34m(\u001b[0m\u001b[0mX\u001b[0m\u001b[0;34m,\u001b[0m \u001b[0mis_train\u001b[0m\u001b[0;34m=\u001b[0m\u001b[0mis_train\u001b[0m\u001b[0;34m)\u001b[0m\u001b[0;34m\u001b[0m\u001b[0;34m\u001b[0m\u001b[0m\n\u001b[0m\u001b[1;32m     55\u001b[0m         \u001b[0mcallbacks\u001b[0m\u001b[0;34m.\u001b[0m\u001b[0mappend\u001b[0m\u001b[0;34m(\u001b[0m\u001b[0minc_layer_grad\u001b[0m\u001b[0;34m)\u001b[0m\u001b[0;34m\u001b[0m\u001b[0;34m\u001b[0m\u001b[0m\n\u001b[1;32m     56\u001b[0m         \u001b[0mX\u001b[0m \u001b[0;34m=\u001b[0m \u001b[0mY\u001b[0m\u001b[0;34m\u001b[0m\u001b[0;34m\u001b[0m\u001b[0m\n",
      "\u001b[0;32m~/.pyenv/versions/3.7.3/envs/hc_nlp_spacy_3/lib/python3.7/site-packages/thinc/model.py\u001b[0m in \u001b[0;36m__call__\u001b[0;34m(self, X, is_train)\u001b[0m\n\u001b[1;32m    286\u001b[0m         \"\"\"Call the model's `forward` function, returning the output and a\n\u001b[1;32m    287\u001b[0m         callback to compute the gradients via backpropagation.\"\"\"\n\u001b[0;32m--> 288\u001b[0;31m         \u001b[0;32mreturn\u001b[0m \u001b[0mself\u001b[0m\u001b[0;34m.\u001b[0m\u001b[0m_func\u001b[0m\u001b[0;34m(\u001b[0m\u001b[0mself\u001b[0m\u001b[0;34m,\u001b[0m \u001b[0mX\u001b[0m\u001b[0;34m,\u001b[0m \u001b[0mis_train\u001b[0m\u001b[0;34m=\u001b[0m\u001b[0mis_train\u001b[0m\u001b[0;34m)\u001b[0m\u001b[0;34m\u001b[0m\u001b[0;34m\u001b[0m\u001b[0m\n\u001b[0m\u001b[1;32m    289\u001b[0m \u001b[0;34m\u001b[0m\u001b[0m\n\u001b[1;32m    290\u001b[0m     \u001b[0;32mdef\u001b[0m \u001b[0minitialize\u001b[0m\u001b[0;34m(\u001b[0m\u001b[0mself\u001b[0m\u001b[0;34m,\u001b[0m \u001b[0mX\u001b[0m\u001b[0;34m:\u001b[0m \u001b[0mOptional\u001b[0m\u001b[0;34m[\u001b[0m\u001b[0mInT\u001b[0m\u001b[0;34m]\u001b[0m \u001b[0;34m=\u001b[0m \u001b[0;32mNone\u001b[0m\u001b[0;34m,\u001b[0m \u001b[0mY\u001b[0m\u001b[0;34m:\u001b[0m \u001b[0mOptional\u001b[0m\u001b[0;34m[\u001b[0m\u001b[0mOutT\u001b[0m\u001b[0;34m]\u001b[0m \u001b[0;34m=\u001b[0m \u001b[0;32mNone\u001b[0m\u001b[0;34m)\u001b[0m \u001b[0;34m->\u001b[0m \u001b[0;34m\"Model\"\u001b[0m\u001b[0;34m:\u001b[0m\u001b[0;34m\u001b[0m\u001b[0;34m\u001b[0m\u001b[0m\n",
      "\u001b[0;32m~/.pyenv/versions/3.7.3/envs/hc_nlp_spacy_3/lib/python3.7/site-packages/thinc/layers/chain.py\u001b[0m in \u001b[0;36mforward\u001b[0;34m(model, X, is_train)\u001b[0m\n\u001b[1;32m     52\u001b[0m     \u001b[0mcallbacks\u001b[0m \u001b[0;34m=\u001b[0m \u001b[0;34m[\u001b[0m\u001b[0;34m]\u001b[0m\u001b[0;34m\u001b[0m\u001b[0;34m\u001b[0m\u001b[0m\n\u001b[1;32m     53\u001b[0m     \u001b[0;32mfor\u001b[0m \u001b[0mlayer\u001b[0m \u001b[0;32min\u001b[0m \u001b[0mmodel\u001b[0m\u001b[0;34m.\u001b[0m\u001b[0mlayers\u001b[0m\u001b[0;34m:\u001b[0m\u001b[0;34m\u001b[0m\u001b[0;34m\u001b[0m\u001b[0m\n\u001b[0;32m---> 54\u001b[0;31m         \u001b[0mY\u001b[0m\u001b[0;34m,\u001b[0m \u001b[0minc_layer_grad\u001b[0m \u001b[0;34m=\u001b[0m \u001b[0mlayer\u001b[0m\u001b[0;34m(\u001b[0m\u001b[0mX\u001b[0m\u001b[0;34m,\u001b[0m \u001b[0mis_train\u001b[0m\u001b[0;34m=\u001b[0m\u001b[0mis_train\u001b[0m\u001b[0;34m)\u001b[0m\u001b[0;34m\u001b[0m\u001b[0;34m\u001b[0m\u001b[0m\n\u001b[0m\u001b[1;32m     55\u001b[0m         \u001b[0mcallbacks\u001b[0m\u001b[0;34m.\u001b[0m\u001b[0mappend\u001b[0m\u001b[0;34m(\u001b[0m\u001b[0minc_layer_grad\u001b[0m\u001b[0;34m)\u001b[0m\u001b[0;34m\u001b[0m\u001b[0;34m\u001b[0m\u001b[0m\n\u001b[1;32m     56\u001b[0m         \u001b[0mX\u001b[0m \u001b[0;34m=\u001b[0m \u001b[0mY\u001b[0m\u001b[0;34m\u001b[0m\u001b[0;34m\u001b[0m\u001b[0m\n",
      "\u001b[0;32m~/.pyenv/versions/3.7.3/envs/hc_nlp_spacy_3/lib/python3.7/site-packages/thinc/model.py\u001b[0m in \u001b[0;36m__call__\u001b[0;34m(self, X, is_train)\u001b[0m\n\u001b[1;32m    286\u001b[0m         \"\"\"Call the model's `forward` function, returning the output and a\n\u001b[1;32m    287\u001b[0m         callback to compute the gradients via backpropagation.\"\"\"\n\u001b[0;32m--> 288\u001b[0;31m         \u001b[0;32mreturn\u001b[0m \u001b[0mself\u001b[0m\u001b[0;34m.\u001b[0m\u001b[0m_func\u001b[0m\u001b[0;34m(\u001b[0m\u001b[0mself\u001b[0m\u001b[0;34m,\u001b[0m \u001b[0mX\u001b[0m\u001b[0;34m,\u001b[0m \u001b[0mis_train\u001b[0m\u001b[0;34m=\u001b[0m\u001b[0mis_train\u001b[0m\u001b[0;34m)\u001b[0m\u001b[0;34m\u001b[0m\u001b[0;34m\u001b[0m\u001b[0m\n\u001b[0m\u001b[1;32m    289\u001b[0m \u001b[0;34m\u001b[0m\u001b[0m\n\u001b[1;32m    290\u001b[0m     \u001b[0;32mdef\u001b[0m \u001b[0minitialize\u001b[0m\u001b[0;34m(\u001b[0m\u001b[0mself\u001b[0m\u001b[0;34m,\u001b[0m \u001b[0mX\u001b[0m\u001b[0;34m:\u001b[0m \u001b[0mOptional\u001b[0m\u001b[0;34m[\u001b[0m\u001b[0mInT\u001b[0m\u001b[0;34m]\u001b[0m \u001b[0;34m=\u001b[0m \u001b[0;32mNone\u001b[0m\u001b[0;34m,\u001b[0m \u001b[0mY\u001b[0m\u001b[0;34m:\u001b[0m \u001b[0mOptional\u001b[0m\u001b[0;34m[\u001b[0m\u001b[0mOutT\u001b[0m\u001b[0;34m]\u001b[0m \u001b[0;34m=\u001b[0m \u001b[0;32mNone\u001b[0m\u001b[0;34m)\u001b[0m \u001b[0;34m->\u001b[0m \u001b[0;34m\"Model\"\u001b[0m\u001b[0;34m:\u001b[0m\u001b[0;34m\u001b[0m\u001b[0;34m\u001b[0m\u001b[0m\n",
      "\u001b[0;32m~/.pyenv/versions/3.7.3/envs/hc_nlp_spacy_3/lib/python3.7/site-packages/thinc/layers/with_array.py\u001b[0m in \u001b[0;36mforward\u001b[0;34m(model, Xseq, is_train)\u001b[0m\n\u001b[1;32m     39\u001b[0m         \u001b[0;32mreturn\u001b[0m \u001b[0mmodel\u001b[0m\u001b[0;34m.\u001b[0m\u001b[0mlayers\u001b[0m\u001b[0;34m[\u001b[0m\u001b[0;36m0\u001b[0m\u001b[0;34m]\u001b[0m\u001b[0;34m(\u001b[0m\u001b[0mXseq\u001b[0m\u001b[0;34m,\u001b[0m \u001b[0mis_train\u001b[0m\u001b[0;34m)\u001b[0m\u001b[0;34m\u001b[0m\u001b[0;34m\u001b[0m\u001b[0m\n\u001b[1;32m     40\u001b[0m     \u001b[0;32melse\u001b[0m\u001b[0;34m:\u001b[0m\u001b[0;34m\u001b[0m\u001b[0;34m\u001b[0m\u001b[0m\n\u001b[0;32m---> 41\u001b[0;31m         \u001b[0;32mreturn\u001b[0m \u001b[0m_list_forward\u001b[0m\u001b[0;34m(\u001b[0m\u001b[0mcast\u001b[0m\u001b[0;34m(\u001b[0m\u001b[0mModel\u001b[0m\u001b[0;34m[\u001b[0m\u001b[0mList2d\u001b[0m\u001b[0;34m,\u001b[0m \u001b[0mList2d\u001b[0m\u001b[0;34m]\u001b[0m\u001b[0;34m,\u001b[0m \u001b[0mmodel\u001b[0m\u001b[0;34m)\u001b[0m\u001b[0;34m,\u001b[0m \u001b[0mXseq\u001b[0m\u001b[0;34m,\u001b[0m \u001b[0mis_train\u001b[0m\u001b[0;34m)\u001b[0m\u001b[0;34m\u001b[0m\u001b[0;34m\u001b[0m\u001b[0m\n\u001b[0m\u001b[1;32m     42\u001b[0m \u001b[0;34m\u001b[0m\u001b[0m\n\u001b[1;32m     43\u001b[0m \u001b[0;34m\u001b[0m\u001b[0m\n",
      "\u001b[0;32m~/.pyenv/versions/3.7.3/envs/hc_nlp_spacy_3/lib/python3.7/site-packages/thinc/layers/with_array.py\u001b[0m in \u001b[0;36m_list_forward\u001b[0;34m(model, Xs, is_train)\u001b[0m\n\u001b[1;32m     77\u001b[0m     \u001b[0mlengths\u001b[0m \u001b[0;34m=\u001b[0m \u001b[0mlayer\u001b[0m\u001b[0;34m.\u001b[0m\u001b[0mops\u001b[0m\u001b[0;34m.\u001b[0m\u001b[0masarray1i\u001b[0m\u001b[0;34m(\u001b[0m\u001b[0;34m[\u001b[0m\u001b[0mlen\u001b[0m\u001b[0;34m(\u001b[0m\u001b[0mseq\u001b[0m\u001b[0;34m)\u001b[0m \u001b[0;32mfor\u001b[0m \u001b[0mseq\u001b[0m \u001b[0;32min\u001b[0m \u001b[0mXs\u001b[0m\u001b[0;34m]\u001b[0m\u001b[0;34m)\u001b[0m\u001b[0;34m\u001b[0m\u001b[0;34m\u001b[0m\u001b[0m\n\u001b[1;32m     78\u001b[0m     \u001b[0mXf\u001b[0m \u001b[0;34m=\u001b[0m \u001b[0mlayer\u001b[0m\u001b[0;34m.\u001b[0m\u001b[0mops\u001b[0m\u001b[0;34m.\u001b[0m\u001b[0mflatten\u001b[0m\u001b[0;34m(\u001b[0m\u001b[0mXs\u001b[0m\u001b[0;34m,\u001b[0m \u001b[0mpad\u001b[0m\u001b[0;34m=\u001b[0m\u001b[0mpad\u001b[0m\u001b[0;34m)\u001b[0m  \u001b[0;31m# type: ignore\u001b[0m\u001b[0;34m\u001b[0m\u001b[0;34m\u001b[0m\u001b[0m\n\u001b[0;32m---> 79\u001b[0;31m     \u001b[0mYf\u001b[0m\u001b[0;34m,\u001b[0m \u001b[0mget_dXf\u001b[0m \u001b[0;34m=\u001b[0m \u001b[0mlayer\u001b[0m\u001b[0;34m(\u001b[0m\u001b[0mXf\u001b[0m\u001b[0;34m,\u001b[0m \u001b[0mis_train\u001b[0m\u001b[0;34m)\u001b[0m\u001b[0;34m\u001b[0m\u001b[0;34m\u001b[0m\u001b[0m\n\u001b[0m\u001b[1;32m     80\u001b[0m \u001b[0;34m\u001b[0m\u001b[0m\n\u001b[1;32m     81\u001b[0m     \u001b[0;32mdef\u001b[0m \u001b[0mbackprop\u001b[0m\u001b[0;34m(\u001b[0m\u001b[0mdYs\u001b[0m\u001b[0;34m:\u001b[0m \u001b[0mList2d\u001b[0m\u001b[0;34m)\u001b[0m \u001b[0;34m->\u001b[0m \u001b[0mList2d\u001b[0m\u001b[0;34m:\u001b[0m\u001b[0;34m\u001b[0m\u001b[0;34m\u001b[0m\u001b[0m\n",
      "\u001b[0;32m~/.pyenv/versions/3.7.3/envs/hc_nlp_spacy_3/lib/python3.7/site-packages/thinc/model.py\u001b[0m in \u001b[0;36m__call__\u001b[0;34m(self, X, is_train)\u001b[0m\n\u001b[1;32m    286\u001b[0m         \"\"\"Call the model's `forward` function, returning the output and a\n\u001b[1;32m    287\u001b[0m         callback to compute the gradients via backpropagation.\"\"\"\n\u001b[0;32m--> 288\u001b[0;31m         \u001b[0;32mreturn\u001b[0m \u001b[0mself\u001b[0m\u001b[0;34m.\u001b[0m\u001b[0m_func\u001b[0m\u001b[0;34m(\u001b[0m\u001b[0mself\u001b[0m\u001b[0;34m,\u001b[0m \u001b[0mX\u001b[0m\u001b[0;34m,\u001b[0m \u001b[0mis_train\u001b[0m\u001b[0;34m=\u001b[0m\u001b[0mis_train\u001b[0m\u001b[0;34m)\u001b[0m\u001b[0;34m\u001b[0m\u001b[0;34m\u001b[0m\u001b[0m\n\u001b[0m\u001b[1;32m    289\u001b[0m \u001b[0;34m\u001b[0m\u001b[0m\n\u001b[1;32m    290\u001b[0m     \u001b[0;32mdef\u001b[0m \u001b[0minitialize\u001b[0m\u001b[0;34m(\u001b[0m\u001b[0mself\u001b[0m\u001b[0;34m,\u001b[0m \u001b[0mX\u001b[0m\u001b[0;34m:\u001b[0m \u001b[0mOptional\u001b[0m\u001b[0;34m[\u001b[0m\u001b[0mInT\u001b[0m\u001b[0;34m]\u001b[0m \u001b[0;34m=\u001b[0m \u001b[0;32mNone\u001b[0m\u001b[0;34m,\u001b[0m \u001b[0mY\u001b[0m\u001b[0;34m:\u001b[0m \u001b[0mOptional\u001b[0m\u001b[0;34m[\u001b[0m\u001b[0mOutT\u001b[0m\u001b[0;34m]\u001b[0m \u001b[0;34m=\u001b[0m \u001b[0;32mNone\u001b[0m\u001b[0;34m)\u001b[0m \u001b[0;34m->\u001b[0m \u001b[0;34m\"Model\"\u001b[0m\u001b[0;34m:\u001b[0m\u001b[0;34m\u001b[0m\u001b[0;34m\u001b[0m\u001b[0m\n",
      "\u001b[0;32m~/.pyenv/versions/3.7.3/envs/hc_nlp_spacy_3/lib/python3.7/site-packages/thinc/layers/chain.py\u001b[0m in \u001b[0;36mforward\u001b[0;34m(model, X, is_train)\u001b[0m\n\u001b[1;32m     52\u001b[0m     \u001b[0mcallbacks\u001b[0m \u001b[0;34m=\u001b[0m \u001b[0;34m[\u001b[0m\u001b[0;34m]\u001b[0m\u001b[0;34m\u001b[0m\u001b[0;34m\u001b[0m\u001b[0m\n\u001b[1;32m     53\u001b[0m     \u001b[0;32mfor\u001b[0m \u001b[0mlayer\u001b[0m \u001b[0;32min\u001b[0m \u001b[0mmodel\u001b[0m\u001b[0;34m.\u001b[0m\u001b[0mlayers\u001b[0m\u001b[0;34m:\u001b[0m\u001b[0;34m\u001b[0m\u001b[0;34m\u001b[0m\u001b[0m\n\u001b[0;32m---> 54\u001b[0;31m         \u001b[0mY\u001b[0m\u001b[0;34m,\u001b[0m \u001b[0minc_layer_grad\u001b[0m \u001b[0;34m=\u001b[0m \u001b[0mlayer\u001b[0m\u001b[0;34m(\u001b[0m\u001b[0mX\u001b[0m\u001b[0;34m,\u001b[0m \u001b[0mis_train\u001b[0m\u001b[0;34m=\u001b[0m\u001b[0mis_train\u001b[0m\u001b[0;34m)\u001b[0m\u001b[0;34m\u001b[0m\u001b[0;34m\u001b[0m\u001b[0m\n\u001b[0m\u001b[1;32m     55\u001b[0m         \u001b[0mcallbacks\u001b[0m\u001b[0;34m.\u001b[0m\u001b[0mappend\u001b[0m\u001b[0;34m(\u001b[0m\u001b[0minc_layer_grad\u001b[0m\u001b[0;34m)\u001b[0m\u001b[0;34m\u001b[0m\u001b[0;34m\u001b[0m\u001b[0m\n\u001b[1;32m     56\u001b[0m         \u001b[0mX\u001b[0m \u001b[0;34m=\u001b[0m \u001b[0mY\u001b[0m\u001b[0;34m\u001b[0m\u001b[0;34m\u001b[0m\u001b[0m\n",
      "\u001b[0;32m~/.pyenv/versions/3.7.3/envs/hc_nlp_spacy_3/lib/python3.7/site-packages/thinc/model.py\u001b[0m in \u001b[0;36m__call__\u001b[0;34m(self, X, is_train)\u001b[0m\n\u001b[1;32m    286\u001b[0m         \"\"\"Call the model's `forward` function, returning the output and a\n\u001b[1;32m    287\u001b[0m         callback to compute the gradients via backpropagation.\"\"\"\n\u001b[0;32m--> 288\u001b[0;31m         \u001b[0;32mreturn\u001b[0m \u001b[0mself\u001b[0m\u001b[0;34m.\u001b[0m\u001b[0m_func\u001b[0m\u001b[0;34m(\u001b[0m\u001b[0mself\u001b[0m\u001b[0;34m,\u001b[0m \u001b[0mX\u001b[0m\u001b[0;34m,\u001b[0m \u001b[0mis_train\u001b[0m\u001b[0;34m=\u001b[0m\u001b[0mis_train\u001b[0m\u001b[0;34m)\u001b[0m\u001b[0;34m\u001b[0m\u001b[0;34m\u001b[0m\u001b[0m\n\u001b[0m\u001b[1;32m    289\u001b[0m \u001b[0;34m\u001b[0m\u001b[0m\n\u001b[1;32m    290\u001b[0m     \u001b[0;32mdef\u001b[0m \u001b[0minitialize\u001b[0m\u001b[0;34m(\u001b[0m\u001b[0mself\u001b[0m\u001b[0;34m,\u001b[0m \u001b[0mX\u001b[0m\u001b[0;34m:\u001b[0m \u001b[0mOptional\u001b[0m\u001b[0;34m[\u001b[0m\u001b[0mInT\u001b[0m\u001b[0;34m]\u001b[0m \u001b[0;34m=\u001b[0m \u001b[0;32mNone\u001b[0m\u001b[0;34m,\u001b[0m \u001b[0mY\u001b[0m\u001b[0;34m:\u001b[0m \u001b[0mOptional\u001b[0m\u001b[0;34m[\u001b[0m\u001b[0mOutT\u001b[0m\u001b[0;34m]\u001b[0m \u001b[0;34m=\u001b[0m \u001b[0;32mNone\u001b[0m\u001b[0;34m)\u001b[0m \u001b[0;34m->\u001b[0m \u001b[0;34m\"Model\"\u001b[0m\u001b[0;34m:\u001b[0m\u001b[0;34m\u001b[0m\u001b[0;34m\u001b[0m\u001b[0m\n",
      "\u001b[0;32m~/.pyenv/versions/3.7.3/envs/hc_nlp_spacy_3/lib/python3.7/site-packages/thinc/layers/residual.py\u001b[0m in \u001b[0;36mforward\u001b[0;34m(model, X, is_train)\u001b[0m\n\u001b[1;32m     38\u001b[0m             \u001b[0;32mreturn\u001b[0m \u001b[0md_output\u001b[0m \u001b[0;34m+\u001b[0m \u001b[0mdX\u001b[0m\u001b[0;34m\u001b[0m\u001b[0;34m\u001b[0m\u001b[0m\n\u001b[1;32m     39\u001b[0m \u001b[0;34m\u001b[0m\u001b[0m\n\u001b[0;32m---> 40\u001b[0;31m     \u001b[0mY\u001b[0m\u001b[0;34m,\u001b[0m \u001b[0mbackprop_layer\u001b[0m \u001b[0;34m=\u001b[0m \u001b[0mmodel\u001b[0m\u001b[0;34m.\u001b[0m\u001b[0mlayers\u001b[0m\u001b[0;34m[\u001b[0m\u001b[0;36m0\u001b[0m\u001b[0;34m]\u001b[0m\u001b[0;34m(\u001b[0m\u001b[0mX\u001b[0m\u001b[0;34m,\u001b[0m \u001b[0mis_train\u001b[0m\u001b[0;34m)\u001b[0m\u001b[0;34m\u001b[0m\u001b[0;34m\u001b[0m\u001b[0m\n\u001b[0m\u001b[1;32m     41\u001b[0m     \u001b[0;32mif\u001b[0m \u001b[0misinstance\u001b[0m\u001b[0;34m(\u001b[0m\u001b[0mX\u001b[0m\u001b[0;34m,\u001b[0m \u001b[0mlist\u001b[0m\u001b[0;34m)\u001b[0m\u001b[0;34m:\u001b[0m\u001b[0;34m\u001b[0m\u001b[0;34m\u001b[0m\u001b[0m\n\u001b[1;32m     42\u001b[0m         \u001b[0;32mreturn\u001b[0m \u001b[0;34m[\u001b[0m\u001b[0mX\u001b[0m\u001b[0;34m[\u001b[0m\u001b[0mi\u001b[0m\u001b[0;34m]\u001b[0m \u001b[0;34m+\u001b[0m \u001b[0mY\u001b[0m\u001b[0;34m[\u001b[0m\u001b[0mi\u001b[0m\u001b[0;34m]\u001b[0m \u001b[0;32mfor\u001b[0m \u001b[0mi\u001b[0m \u001b[0;32min\u001b[0m \u001b[0mrange\u001b[0m\u001b[0;34m(\u001b[0m\u001b[0mlen\u001b[0m\u001b[0;34m(\u001b[0m\u001b[0mX\u001b[0m\u001b[0;34m)\u001b[0m\u001b[0;34m)\u001b[0m\u001b[0;34m]\u001b[0m\u001b[0;34m,\u001b[0m \u001b[0mbackprop\u001b[0m\u001b[0;34m\u001b[0m\u001b[0;34m\u001b[0m\u001b[0m\n",
      "\u001b[0;32m~/.pyenv/versions/3.7.3/envs/hc_nlp_spacy_3/lib/python3.7/site-packages/thinc/model.py\u001b[0m in \u001b[0;36m__call__\u001b[0;34m(self, X, is_train)\u001b[0m\n\u001b[1;32m    286\u001b[0m         \"\"\"Call the model's `forward` function, returning the output and a\n\u001b[1;32m    287\u001b[0m         callback to compute the gradients via backpropagation.\"\"\"\n\u001b[0;32m--> 288\u001b[0;31m         \u001b[0;32mreturn\u001b[0m \u001b[0mself\u001b[0m\u001b[0;34m.\u001b[0m\u001b[0m_func\u001b[0m\u001b[0;34m(\u001b[0m\u001b[0mself\u001b[0m\u001b[0;34m,\u001b[0m \u001b[0mX\u001b[0m\u001b[0;34m,\u001b[0m \u001b[0mis_train\u001b[0m\u001b[0;34m=\u001b[0m\u001b[0mis_train\u001b[0m\u001b[0;34m)\u001b[0m\u001b[0;34m\u001b[0m\u001b[0;34m\u001b[0m\u001b[0m\n\u001b[0m\u001b[1;32m    289\u001b[0m \u001b[0;34m\u001b[0m\u001b[0m\n\u001b[1;32m    290\u001b[0m     \u001b[0;32mdef\u001b[0m \u001b[0minitialize\u001b[0m\u001b[0;34m(\u001b[0m\u001b[0mself\u001b[0m\u001b[0;34m,\u001b[0m \u001b[0mX\u001b[0m\u001b[0;34m:\u001b[0m \u001b[0mOptional\u001b[0m\u001b[0;34m[\u001b[0m\u001b[0mInT\u001b[0m\u001b[0;34m]\u001b[0m \u001b[0;34m=\u001b[0m \u001b[0;32mNone\u001b[0m\u001b[0;34m,\u001b[0m \u001b[0mY\u001b[0m\u001b[0;34m:\u001b[0m \u001b[0mOptional\u001b[0m\u001b[0;34m[\u001b[0m\u001b[0mOutT\u001b[0m\u001b[0;34m]\u001b[0m \u001b[0;34m=\u001b[0m \u001b[0;32mNone\u001b[0m\u001b[0;34m)\u001b[0m \u001b[0;34m->\u001b[0m \u001b[0;34m\"Model\"\u001b[0m\u001b[0;34m:\u001b[0m\u001b[0;34m\u001b[0m\u001b[0;34m\u001b[0m\u001b[0m\n",
      "\u001b[0;32m~/.pyenv/versions/3.7.3/envs/hc_nlp_spacy_3/lib/python3.7/site-packages/thinc/layers/chain.py\u001b[0m in \u001b[0;36mforward\u001b[0;34m(model, X, is_train)\u001b[0m\n\u001b[1;32m     52\u001b[0m     \u001b[0mcallbacks\u001b[0m \u001b[0;34m=\u001b[0m \u001b[0;34m[\u001b[0m\u001b[0;34m]\u001b[0m\u001b[0;34m\u001b[0m\u001b[0;34m\u001b[0m\u001b[0m\n\u001b[1;32m     53\u001b[0m     \u001b[0;32mfor\u001b[0m \u001b[0mlayer\u001b[0m \u001b[0;32min\u001b[0m \u001b[0mmodel\u001b[0m\u001b[0;34m.\u001b[0m\u001b[0mlayers\u001b[0m\u001b[0;34m:\u001b[0m\u001b[0;34m\u001b[0m\u001b[0;34m\u001b[0m\u001b[0m\n\u001b[0;32m---> 54\u001b[0;31m         \u001b[0mY\u001b[0m\u001b[0;34m,\u001b[0m \u001b[0minc_layer_grad\u001b[0m \u001b[0;34m=\u001b[0m \u001b[0mlayer\u001b[0m\u001b[0;34m(\u001b[0m\u001b[0mX\u001b[0m\u001b[0;34m,\u001b[0m \u001b[0mis_train\u001b[0m\u001b[0;34m=\u001b[0m\u001b[0mis_train\u001b[0m\u001b[0;34m)\u001b[0m\u001b[0;34m\u001b[0m\u001b[0;34m\u001b[0m\u001b[0m\n\u001b[0m\u001b[1;32m     55\u001b[0m         \u001b[0mcallbacks\u001b[0m\u001b[0;34m.\u001b[0m\u001b[0mappend\u001b[0m\u001b[0;34m(\u001b[0m\u001b[0minc_layer_grad\u001b[0m\u001b[0;34m)\u001b[0m\u001b[0;34m\u001b[0m\u001b[0;34m\u001b[0m\u001b[0m\n\u001b[1;32m     56\u001b[0m         \u001b[0mX\u001b[0m \u001b[0;34m=\u001b[0m \u001b[0mY\u001b[0m\u001b[0;34m\u001b[0m\u001b[0;34m\u001b[0m\u001b[0m\n",
      "\u001b[0;32m~/.pyenv/versions/3.7.3/envs/hc_nlp_spacy_3/lib/python3.7/site-packages/thinc/model.py\u001b[0m in \u001b[0;36m__call__\u001b[0;34m(self, X, is_train)\u001b[0m\n\u001b[1;32m    286\u001b[0m         \"\"\"Call the model's `forward` function, returning the output and a\n\u001b[1;32m    287\u001b[0m         callback to compute the gradients via backpropagation.\"\"\"\n\u001b[0;32m--> 288\u001b[0;31m         \u001b[0;32mreturn\u001b[0m \u001b[0mself\u001b[0m\u001b[0;34m.\u001b[0m\u001b[0m_func\u001b[0m\u001b[0;34m(\u001b[0m\u001b[0mself\u001b[0m\u001b[0;34m,\u001b[0m \u001b[0mX\u001b[0m\u001b[0;34m,\u001b[0m \u001b[0mis_train\u001b[0m\u001b[0;34m=\u001b[0m\u001b[0mis_train\u001b[0m\u001b[0;34m)\u001b[0m\u001b[0;34m\u001b[0m\u001b[0;34m\u001b[0m\u001b[0m\n\u001b[0m\u001b[1;32m    289\u001b[0m \u001b[0;34m\u001b[0m\u001b[0m\n\u001b[1;32m    290\u001b[0m     \u001b[0;32mdef\u001b[0m \u001b[0minitialize\u001b[0m\u001b[0;34m(\u001b[0m\u001b[0mself\u001b[0m\u001b[0;34m,\u001b[0m \u001b[0mX\u001b[0m\u001b[0;34m:\u001b[0m \u001b[0mOptional\u001b[0m\u001b[0;34m[\u001b[0m\u001b[0mInT\u001b[0m\u001b[0;34m]\u001b[0m \u001b[0;34m=\u001b[0m \u001b[0;32mNone\u001b[0m\u001b[0;34m,\u001b[0m \u001b[0mY\u001b[0m\u001b[0;34m:\u001b[0m \u001b[0mOptional\u001b[0m\u001b[0;34m[\u001b[0m\u001b[0mOutT\u001b[0m\u001b[0;34m]\u001b[0m \u001b[0;34m=\u001b[0m \u001b[0;32mNone\u001b[0m\u001b[0;34m)\u001b[0m \u001b[0;34m->\u001b[0m \u001b[0;34m\"Model\"\u001b[0m\u001b[0;34m:\u001b[0m\u001b[0;34m\u001b[0m\u001b[0;34m\u001b[0m\u001b[0m\n",
      "\u001b[0;32m~/.pyenv/versions/3.7.3/envs/hc_nlp_spacy_3/lib/python3.7/site-packages/thinc/layers/chain.py\u001b[0m in \u001b[0;36mforward\u001b[0;34m(model, X, is_train)\u001b[0m\n\u001b[1;32m     52\u001b[0m     \u001b[0mcallbacks\u001b[0m \u001b[0;34m=\u001b[0m \u001b[0;34m[\u001b[0m\u001b[0;34m]\u001b[0m\u001b[0;34m\u001b[0m\u001b[0;34m\u001b[0m\u001b[0m\n\u001b[1;32m     53\u001b[0m     \u001b[0;32mfor\u001b[0m \u001b[0mlayer\u001b[0m \u001b[0;32min\u001b[0m \u001b[0mmodel\u001b[0m\u001b[0;34m.\u001b[0m\u001b[0mlayers\u001b[0m\u001b[0;34m:\u001b[0m\u001b[0;34m\u001b[0m\u001b[0;34m\u001b[0m\u001b[0m\n\u001b[0;32m---> 54\u001b[0;31m         \u001b[0mY\u001b[0m\u001b[0;34m,\u001b[0m \u001b[0minc_layer_grad\u001b[0m \u001b[0;34m=\u001b[0m \u001b[0mlayer\u001b[0m\u001b[0;34m(\u001b[0m\u001b[0mX\u001b[0m\u001b[0;34m,\u001b[0m \u001b[0mis_train\u001b[0m\u001b[0;34m=\u001b[0m\u001b[0mis_train\u001b[0m\u001b[0;34m)\u001b[0m\u001b[0;34m\u001b[0m\u001b[0;34m\u001b[0m\u001b[0m\n\u001b[0m\u001b[1;32m     55\u001b[0m         \u001b[0mcallbacks\u001b[0m\u001b[0;34m.\u001b[0m\u001b[0mappend\u001b[0m\u001b[0;34m(\u001b[0m\u001b[0minc_layer_grad\u001b[0m\u001b[0;34m)\u001b[0m\u001b[0;34m\u001b[0m\u001b[0;34m\u001b[0m\u001b[0m\n\u001b[1;32m     56\u001b[0m         \u001b[0mX\u001b[0m \u001b[0;34m=\u001b[0m \u001b[0mY\u001b[0m\u001b[0;34m\u001b[0m\u001b[0;34m\u001b[0m\u001b[0m\n",
      "\u001b[0;32m~/.pyenv/versions/3.7.3/envs/hc_nlp_spacy_3/lib/python3.7/site-packages/thinc/model.py\u001b[0m in \u001b[0;36m__call__\u001b[0;34m(self, X, is_train)\u001b[0m\n\u001b[1;32m    286\u001b[0m         \"\"\"Call the model's `forward` function, returning the output and a\n\u001b[1;32m    287\u001b[0m         callback to compute the gradients via backpropagation.\"\"\"\n\u001b[0;32m--> 288\u001b[0;31m         \u001b[0;32mreturn\u001b[0m \u001b[0mself\u001b[0m\u001b[0;34m.\u001b[0m\u001b[0m_func\u001b[0m\u001b[0;34m(\u001b[0m\u001b[0mself\u001b[0m\u001b[0;34m,\u001b[0m \u001b[0mX\u001b[0m\u001b[0;34m,\u001b[0m \u001b[0mis_train\u001b[0m\u001b[0;34m=\u001b[0m\u001b[0mis_train\u001b[0m\u001b[0;34m)\u001b[0m\u001b[0;34m\u001b[0m\u001b[0;34m\u001b[0m\u001b[0m\n\u001b[0m\u001b[1;32m    289\u001b[0m \u001b[0;34m\u001b[0m\u001b[0m\n\u001b[1;32m    290\u001b[0m     \u001b[0;32mdef\u001b[0m \u001b[0minitialize\u001b[0m\u001b[0;34m(\u001b[0m\u001b[0mself\u001b[0m\u001b[0;34m,\u001b[0m \u001b[0mX\u001b[0m\u001b[0;34m:\u001b[0m \u001b[0mOptional\u001b[0m\u001b[0;34m[\u001b[0m\u001b[0mInT\u001b[0m\u001b[0;34m]\u001b[0m \u001b[0;34m=\u001b[0m \u001b[0;32mNone\u001b[0m\u001b[0;34m,\u001b[0m \u001b[0mY\u001b[0m\u001b[0;34m:\u001b[0m \u001b[0mOptional\u001b[0m\u001b[0;34m[\u001b[0m\u001b[0mOutT\u001b[0m\u001b[0;34m]\u001b[0m \u001b[0;34m=\u001b[0m \u001b[0;32mNone\u001b[0m\u001b[0;34m)\u001b[0m \u001b[0;34m->\u001b[0m \u001b[0;34m\"Model\"\u001b[0m\u001b[0;34m:\u001b[0m\u001b[0;34m\u001b[0m\u001b[0;34m\u001b[0m\u001b[0m\n",
      "\u001b[0;32m~/.pyenv/versions/3.7.3/envs/hc_nlp_spacy_3/lib/python3.7/site-packages/thinc/layers/dropout.py\u001b[0m in \u001b[0;36mforward\u001b[0;34m(model, X, is_train)\u001b[0m\n\u001b[1;32m     36\u001b[0m         \u001b[0;32mreturn\u001b[0m \u001b[0m_dropout_lists\u001b[0m\u001b[0;34m(\u001b[0m\u001b[0mmodel\u001b[0m\u001b[0;34m,\u001b[0m \u001b[0mX\u001b[0m\u001b[0;34m,\u001b[0m \u001b[0mis_train\u001b[0m\u001b[0;34m)\u001b[0m\u001b[0;34m\u001b[0m\u001b[0;34m\u001b[0m\u001b[0m\n\u001b[1;32m     37\u001b[0m     \u001b[0;32melse\u001b[0m\u001b[0;34m:\u001b[0m\u001b[0;34m\u001b[0m\u001b[0;34m\u001b[0m\u001b[0m\n\u001b[0;32m---> 38\u001b[0;31m         \u001b[0;32mreturn\u001b[0m \u001b[0m_dropout_array\u001b[0m\u001b[0;34m(\u001b[0m\u001b[0mmodel\u001b[0m\u001b[0;34m,\u001b[0m \u001b[0mX\u001b[0m\u001b[0;34m,\u001b[0m \u001b[0mis_train\u001b[0m\u001b[0;34m)\u001b[0m\u001b[0;34m\u001b[0m\u001b[0;34m\u001b[0m\u001b[0m\n\u001b[0m\u001b[1;32m     39\u001b[0m \u001b[0;34m\u001b[0m\u001b[0m\n\u001b[1;32m     40\u001b[0m \u001b[0;34m\u001b[0m\u001b[0m\n",
      "\u001b[0;32m~/.pyenv/versions/3.7.3/envs/hc_nlp_spacy_3/lib/python3.7/site-packages/thinc/layers/dropout.py\u001b[0m in \u001b[0;36m_dropout_array\u001b[0;34m(model, X, is_train)\u001b[0m\n\u001b[1;32m     43\u001b[0m ) -> Tuple[ArrayT, Callable]:\n\u001b[1;32m     44\u001b[0m     \u001b[0mrate\u001b[0m \u001b[0;34m=\u001b[0m \u001b[0mmodel\u001b[0m\u001b[0;34m.\u001b[0m\u001b[0mattrs\u001b[0m\u001b[0;34m[\u001b[0m\u001b[0;34m\"dropout_rate\"\u001b[0m\u001b[0;34m]\u001b[0m\u001b[0;34m\u001b[0m\u001b[0;34m\u001b[0m\u001b[0m\n\u001b[0;32m---> 45\u001b[0;31m     \u001b[0mmask\u001b[0m \u001b[0;34m=\u001b[0m \u001b[0mmodel\u001b[0m\u001b[0;34m.\u001b[0m\u001b[0mops\u001b[0m\u001b[0;34m.\u001b[0m\u001b[0mget_dropout_mask\u001b[0m\u001b[0;34m(\u001b[0m\u001b[0mX\u001b[0m\u001b[0;34m.\u001b[0m\u001b[0mshape\u001b[0m\u001b[0;34m,\u001b[0m \u001b[0mrate\u001b[0m\u001b[0;34m)\u001b[0m\u001b[0;34m\u001b[0m\u001b[0;34m\u001b[0m\u001b[0m\n\u001b[0m\u001b[1;32m     46\u001b[0m \u001b[0;34m\u001b[0m\u001b[0m\n\u001b[1;32m     47\u001b[0m     \u001b[0;32mdef\u001b[0m \u001b[0mbackprop\u001b[0m\u001b[0;34m(\u001b[0m\u001b[0mdY\u001b[0m\u001b[0;34m:\u001b[0m \u001b[0mArrayT\u001b[0m\u001b[0;34m)\u001b[0m \u001b[0;34m->\u001b[0m \u001b[0mArrayT\u001b[0m\u001b[0;34m:\u001b[0m\u001b[0;34m\u001b[0m\u001b[0;34m\u001b[0m\u001b[0m\n",
      "\u001b[0;32m~/.pyenv/versions/3.7.3/envs/hc_nlp_spacy_3/lib/python3.7/site-packages/thinc/backends/ops.py\u001b[0m in \u001b[0;36mget_dropout_mask\u001b[0;34m(self, shape, drop)\u001b[0m\n\u001b[1;32m    356\u001b[0m         \u001b[0;32melif\u001b[0m \u001b[0mdrop\u001b[0m \u001b[0;34m>=\u001b[0m \u001b[0;36m1.0\u001b[0m\u001b[0;34m:\u001b[0m\u001b[0;34m\u001b[0m\u001b[0;34m\u001b[0m\u001b[0m\n\u001b[1;32m    357\u001b[0m             \u001b[0;32mreturn\u001b[0m \u001b[0mself\u001b[0m\u001b[0;34m.\u001b[0m\u001b[0malloc\u001b[0m\u001b[0;34m(\u001b[0m\u001b[0mshape\u001b[0m\u001b[0;34m)\u001b[0m\u001b[0;34m\u001b[0m\u001b[0;34m\u001b[0m\u001b[0m\n\u001b[0;32m--> 358\u001b[0;31m         \u001b[0mcoinflips\u001b[0m \u001b[0;34m=\u001b[0m \u001b[0mself\u001b[0m\u001b[0;34m.\u001b[0m\u001b[0mxp\u001b[0m\u001b[0;34m.\u001b[0m\u001b[0mrandom\u001b[0m\u001b[0;34m.\u001b[0m\u001b[0muniform\u001b[0m\u001b[0;34m(\u001b[0m\u001b[0;36m0.0\u001b[0m\u001b[0;34m,\u001b[0m \u001b[0;36m1.0\u001b[0m\u001b[0;34m,\u001b[0m \u001b[0mshape\u001b[0m\u001b[0;34m)\u001b[0m\u001b[0;34m\u001b[0m\u001b[0;34m\u001b[0m\u001b[0m\n\u001b[0m\u001b[1;32m    359\u001b[0m         \u001b[0mmask\u001b[0m \u001b[0;34m=\u001b[0m \u001b[0;34m(\u001b[0m\u001b[0mcoinflips\u001b[0m \u001b[0;34m>=\u001b[0m \u001b[0mdrop\u001b[0m\u001b[0;34m)\u001b[0m \u001b[0;34m/\u001b[0m \u001b[0;34m(\u001b[0m\u001b[0;36m1.0\u001b[0m \u001b[0;34m-\u001b[0m \u001b[0mdrop\u001b[0m\u001b[0;34m)\u001b[0m\u001b[0;34m\u001b[0m\u001b[0;34m\u001b[0m\u001b[0m\n\u001b[1;32m    360\u001b[0m         \u001b[0;32mreturn\u001b[0m \u001b[0mcast\u001b[0m\u001b[0;34m(\u001b[0m\u001b[0mFloatsXd\u001b[0m\u001b[0;34m,\u001b[0m \u001b[0mself\u001b[0m\u001b[0;34m.\u001b[0m\u001b[0masarray\u001b[0m\u001b[0;34m(\u001b[0m\u001b[0mmask\u001b[0m\u001b[0;34m,\u001b[0m \u001b[0mdtype\u001b[0m\u001b[0;34m=\u001b[0m\u001b[0;34m\"float32\"\u001b[0m\u001b[0;34m)\u001b[0m\u001b[0;34m)\u001b[0m\u001b[0;34m\u001b[0m\u001b[0;34m\u001b[0m\u001b[0m\n",
      "\u001b[0;31mKeyboardInterrupt\u001b[0m: "
     ]
    }
   ],
   "source": [
    "required_pipes = ['ner']\n",
    "disable_pipes = [pipe for pipe in nlp_new.pipe_names if pipe not in required_pipes]\n",
    "\n",
    "with nlp_new.disable_pipes(*disable_pipes), warnings.catch_warnings():\n",
    "    # show warnings for misaligned entity spans once\n",
    "    warnings.filterwarnings(\"once\", category=UserWarning, module='spacy')\n",
    "    \n",
    "    for itn in range(n_iter):\n",
    "        random.shuffle(TRAIN_DATA)\n",
    "        losses = {}\n",
    "        \n",
    "        batches = minibatch(TRAIN_DATA, size=compounding(4.0, 32.0, 1.001))\n",
    "        for batch in batches:\n",
    "#             examples = zip(*batch)\n",
    "            try:\n",
    "                nlp_new.update(\n",
    "                    batch,\n",
    "                    drop=0.5, # dropout for regularization\n",
    "                    losses=losses,\n",
    "                )\n",
    "                # TODO: drop this except and let spaCy handle the errors\n",
    "            except ValueError:\n",
    "#                 print(batch)\n",
    "#                 print()\n",
    "                print('failure')\n",
    "                break\n",
    "\n",
    "        print(\"Losses\", losses)\n",
    "        print(\"Test performance\", test_ner(nlp_new, examples=TEST_DATA))\n",
    "        "
   ]
  },
  {
   "cell_type": "code",
   "execution_count": null,
   "metadata": {},
   "outputs": [],
   "source": []
  }
 ],
 "metadata": {
  "kernelspec": {
   "display_name": "Python 3",
   "language": "python",
   "name": "python3"
  },
  "language_info": {
   "codemirror_mode": {
    "name": "ipython",
    "version": 3
   },
   "file_extension": ".py",
   "mimetype": "text/x-python",
   "name": "python",
   "nbconvert_exporter": "python",
   "pygments_lexer": "ipython3",
   "version": "3.7.3"
  }
 },
 "nbformat": 4,
 "nbformat_minor": 4
}
